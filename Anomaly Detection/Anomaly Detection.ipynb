{
 "cells": [
  {
   "cell_type": "markdown",
   "metadata": {},
   "source": [
    "# Anomaly Detection <a id=\"top\"></a>\n",
    "\n",
    "Find all time intervals `[time1, time2]` where `time2-time1 < time_thres` and not nested.\n",
    "\n",
    "**Testcases**\n",
    "\n",
    "- [Testcase 1](#testcase1)\n",
    "- [Testcase 2](#testcase2)\n",
    "- [Testcase 3](#testcase3)\n",
    "- [Testcase 4](#testcase4)\n",
    "- [Testcase 5](#testcase5)\n",
    "- [Testcase 6](#testcase6)\n",
    "- [Testcase 7](#testcase7)"
   ]
  },
  {
   "cell_type": "code",
   "execution_count": 1,
   "metadata": {},
   "outputs": [],
   "source": [
    "from datetime import datetime, timedelta\n",
    "import pandas as pd"
   ]
  },
  {
   "cell_type": "code",
   "execution_count": 12,
   "metadata": {},
   "outputs": [],
   "source": [
    "def detect_weird_timeint(data, time_window):\n",
    "    '''\n",
    "    '''\n",
    "    start_index = 0\n",
    "    end_index = 1\n",
    "    \n",
    "    anomalies = pd.DataFrame(columns=[\"start_index\", \"end_index\", \"start_time\", \"end_time\", \"num_adid\", \"adids\"])\n",
    "    \n",
    "    while (start_index < end_index and end_index+1 < len(data)):\n",
    "        print(\"-\"*50)\n",
    "        print(start_index, end_index)\n",
    "        \n",
    "        if (data.time[end_index] - data.time[start_index] <= time_window):\n",
    "            print(\"time window exceeded\")\n",
    "            \n",
    "            if (data.time[end_index+1] - data.time[start_index] > time_window):\n",
    "                adids = data.loc[start_index:(end_index-1), \"adid\"].unique()\n",
    "                num_adid = len(adids)\n",
    "\n",
    "                if num_adid > 1:\n",
    "                    print(\"anomaly found\")\n",
    "                    anomalies.loc[len(anomalies)] = [start_index, end_index-1, data.time[start_index],\n",
    "                                                    data.time[end_index-1], num_adid, list(adids)]\n",
    "\n",
    "                start_index += 1\n",
    "                \n",
    "            end_index += 1\n",
    "            \n",
    "        else:\n",
    "            start_index += 1\n",
    "    \n",
    "    print(start_index, end_index)\n",
    "    \n",
    "    if end_index == len(data)-1:\n",
    "        print(\"end of data\")\n",
    "        while (start_index < end_index):\n",
    "            if (data.time[end_index] - data.time[start_index] <= time_window):\n",
    "                adids = data.loc[start_index:(end_index), \"adid\"].unique()\n",
    "                num_adid = len(adids)\n",
    "\n",
    "                if num_adid > 1:\n",
    "                    print(\"anomaly found\")\n",
    "                    anomalies.loc[len(anomalies)] = [start_index, end_index, data.time[start_index],\n",
    "                                                    data.time[end_index], num_adid, list(adids)]\n",
    "                return anomalies\n",
    "    \n",
    "    return anomalies"
   ]
  },
  {
   "cell_type": "code",
   "execution_count": 3,
   "metadata": {},
   "outputs": [],
   "source": [
    "START_TIME = datetime(2020,1,1)\n",
    "time_thres = timedelta(minutes=10)\n",
    "ADIDS = [\"A\", \"B\", \"C\", \"D\", \"E\", \"F\", \"G\", \"H\", \"I\", \"J\", \"K\", \"L\", \"M\"]"
   ]
  },
  {
   "cell_type": "markdown",
   "metadata": {},
   "source": [
    "## Testcase 1 <a id=\"testcase1\"></a>\n",
    "\n",
    "5 distinct adid within `time_thres`\n",
    "\n",
    "[Back to top](#top)"
   ]
  },
  {
   "cell_type": "code",
   "execution_count": 4,
   "metadata": {},
   "outputs": [
    {
     "data": {
      "text/html": [
       "<div>\n",
       "<style scoped>\n",
       "    .dataframe tbody tr th:only-of-type {\n",
       "        vertical-align: middle;\n",
       "    }\n",
       "\n",
       "    .dataframe tbody tr th {\n",
       "        vertical-align: top;\n",
       "    }\n",
       "\n",
       "    .dataframe thead th {\n",
       "        text-align: right;\n",
       "    }\n",
       "</style>\n",
       "<table border=\"1\" class=\"dataframe\">\n",
       "  <thead>\n",
       "    <tr style=\"text-align: right;\">\n",
       "      <th></th>\n",
       "      <th>time</th>\n",
       "      <th>adid</th>\n",
       "    </tr>\n",
       "  </thead>\n",
       "  <tbody>\n",
       "    <tr>\n",
       "      <th>0</th>\n",
       "      <td>2020-01-01 00:00:00</td>\n",
       "      <td>A</td>\n",
       "    </tr>\n",
       "    <tr>\n",
       "      <th>1</th>\n",
       "      <td>2020-01-01 00:01:00</td>\n",
       "      <td>B</td>\n",
       "    </tr>\n",
       "    <tr>\n",
       "      <th>2</th>\n",
       "      <td>2020-01-01 00:02:00</td>\n",
       "      <td>C</td>\n",
       "    </tr>\n",
       "    <tr>\n",
       "      <th>3</th>\n",
       "      <td>2020-01-01 00:03:00</td>\n",
       "      <td>D</td>\n",
       "    </tr>\n",
       "    <tr>\n",
       "      <th>4</th>\n",
       "      <td>2020-01-01 00:04:00</td>\n",
       "      <td>E</td>\n",
       "    </tr>\n",
       "  </tbody>\n",
       "</table>\n",
       "</div>"
      ],
      "text/plain": [
       "                  time adid\n",
       "0  2020-01-01 00:00:00    A\n",
       "1  2020-01-01 00:01:00    B\n",
       "2  2020-01-01 00:02:00    C\n",
       "3  2020-01-01 00:03:00    D\n",
       "4  2020-01-01 00:04:00    E"
      ]
     },
     "execution_count": 4,
     "metadata": {},
     "output_type": "execute_result"
    }
   ],
   "source": [
    "testcase1_df = pd.DataFrame(columns=[\"time\", \"adid\"])\n",
    "\n",
    "for i in range(5):\n",
    "    testcase1_df.loc[i,:] = [START_TIME + i*time_thres/10, ADIDS[i]]\n",
    "    \n",
    "testcase1_df = testcase1_df.sort_values(by=\"time\")\n",
    "testcase1_df"
   ]
  },
  {
   "cell_type": "code",
   "execution_count": 13,
   "metadata": {},
   "outputs": [
    {
     "name": "stdout",
     "output_type": "stream",
     "text": [
      "--------------------------------------------------\n",
      "0 1\n",
      "time window exceeded\n",
      "--------------------------------------------------\n",
      "0 2\n",
      "time window exceeded\n",
      "--------------------------------------------------\n",
      "0 3\n",
      "time window exceeded\n",
      "0 4\n",
      "end of data\n",
      "anomaly found\n"
     ]
    },
    {
     "data": {
      "text/html": [
       "<div>\n",
       "<style scoped>\n",
       "    .dataframe tbody tr th:only-of-type {\n",
       "        vertical-align: middle;\n",
       "    }\n",
       "\n",
       "    .dataframe tbody tr th {\n",
       "        vertical-align: top;\n",
       "    }\n",
       "\n",
       "    .dataframe thead th {\n",
       "        text-align: right;\n",
       "    }\n",
       "</style>\n",
       "<table border=\"1\" class=\"dataframe\">\n",
       "  <thead>\n",
       "    <tr style=\"text-align: right;\">\n",
       "      <th></th>\n",
       "      <th>start_index</th>\n",
       "      <th>end_index</th>\n",
       "      <th>start_time</th>\n",
       "      <th>end_time</th>\n",
       "      <th>num_adid</th>\n",
       "      <th>adids</th>\n",
       "    </tr>\n",
       "  </thead>\n",
       "  <tbody>\n",
       "    <tr>\n",
       "      <th>0</th>\n",
       "      <td>0</td>\n",
       "      <td>4</td>\n",
       "      <td>2020-01-01</td>\n",
       "      <td>2020-01-01 00:04:00</td>\n",
       "      <td>5</td>\n",
       "      <td>[A, B, C, D, E]</td>\n",
       "    </tr>\n",
       "  </tbody>\n",
       "</table>\n",
       "</div>"
      ],
      "text/plain": [
       "  start_index end_index start_time            end_time num_adid  \\\n",
       "0           0         4 2020-01-01 2020-01-01 00:04:00        5   \n",
       "\n",
       "             adids  \n",
       "0  [A, B, C, D, E]  "
      ]
     },
     "execution_count": 13,
     "metadata": {},
     "output_type": "execute_result"
    }
   ],
   "source": [
    "detect_weird_timeint(testcase1_df, timedelta(minutes=10))"
   ]
  },
  {
   "cell_type": "markdown",
   "metadata": {},
   "source": [
    "## Testcase 2 <a id=\"testcase2\"></a>\n",
    "\n",
    "2 sets of 5 distinct adid, each within `time_thres`, but more than `time_thres` apart\n",
    "\n",
    "[Back to top](#top)"
   ]
  },
  {
   "cell_type": "code",
   "execution_count": 6,
   "metadata": {},
   "outputs": [
    {
     "data": {
      "text/html": [
       "<div>\n",
       "<style scoped>\n",
       "    .dataframe tbody tr th:only-of-type {\n",
       "        vertical-align: middle;\n",
       "    }\n",
       "\n",
       "    .dataframe tbody tr th {\n",
       "        vertical-align: top;\n",
       "    }\n",
       "\n",
       "    .dataframe thead th {\n",
       "        text-align: right;\n",
       "    }\n",
       "</style>\n",
       "<table border=\"1\" class=\"dataframe\">\n",
       "  <thead>\n",
       "    <tr style=\"text-align: right;\">\n",
       "      <th></th>\n",
       "      <th>time</th>\n",
       "      <th>adid</th>\n",
       "    </tr>\n",
       "  </thead>\n",
       "  <tbody>\n",
       "    <tr>\n",
       "      <th>0</th>\n",
       "      <td>2020-01-01 00:00:00</td>\n",
       "      <td>A</td>\n",
       "    </tr>\n",
       "    <tr>\n",
       "      <th>1</th>\n",
       "      <td>2020-01-01 00:01:00</td>\n",
       "      <td>B</td>\n",
       "    </tr>\n",
       "    <tr>\n",
       "      <th>2</th>\n",
       "      <td>2020-01-01 00:02:00</td>\n",
       "      <td>C</td>\n",
       "    </tr>\n",
       "    <tr>\n",
       "      <th>3</th>\n",
       "      <td>2020-01-01 00:03:00</td>\n",
       "      <td>D</td>\n",
       "    </tr>\n",
       "    <tr>\n",
       "      <th>4</th>\n",
       "      <td>2020-01-01 00:04:00</td>\n",
       "      <td>E</td>\n",
       "    </tr>\n",
       "    <tr>\n",
       "      <th>5</th>\n",
       "      <td>2020-01-01 00:31:00</td>\n",
       "      <td>A</td>\n",
       "    </tr>\n",
       "    <tr>\n",
       "      <th>6</th>\n",
       "      <td>2020-01-01 00:32:00</td>\n",
       "      <td>B</td>\n",
       "    </tr>\n",
       "    <tr>\n",
       "      <th>7</th>\n",
       "      <td>2020-01-01 00:33:00</td>\n",
       "      <td>C</td>\n",
       "    </tr>\n",
       "    <tr>\n",
       "      <th>8</th>\n",
       "      <td>2020-01-01 00:34:00</td>\n",
       "      <td>D</td>\n",
       "    </tr>\n",
       "    <tr>\n",
       "      <th>9</th>\n",
       "      <td>2020-01-01 00:35:00</td>\n",
       "      <td>E</td>\n",
       "    </tr>\n",
       "  </tbody>\n",
       "</table>\n",
       "</div>"
      ],
      "text/plain": [
       "                  time adid\n",
       "0  2020-01-01 00:00:00    A\n",
       "1  2020-01-01 00:01:00    B\n",
       "2  2020-01-01 00:02:00    C\n",
       "3  2020-01-01 00:03:00    D\n",
       "4  2020-01-01 00:04:00    E\n",
       "5  2020-01-01 00:31:00    A\n",
       "6  2020-01-01 00:32:00    B\n",
       "7  2020-01-01 00:33:00    C\n",
       "8  2020-01-01 00:34:00    D\n",
       "9  2020-01-01 00:35:00    E"
      ]
     },
     "execution_count": 6,
     "metadata": {},
     "output_type": "execute_result"
    }
   ],
   "source": [
    "testcase2_df = pd.DataFrame(columns=[\"time\", \"adid\"])\n",
    "\n",
    "for i in range(5):\n",
    "    testcase2_df.loc[i,:] = [START_TIME + i*time_thres/10, ADIDS[i]]\n",
    "    \n",
    "for i in range(5):\n",
    "    testcase2_df.loc[5+i,:] = [START_TIME + timedelta(minutes=31) + i*time_thres/10, ADIDS[i]]\n",
    "    \n",
    "testcase2_df = testcase2_df.sort_values(by=\"time\")\n",
    "testcase2_df"
   ]
  },
  {
   "cell_type": "code",
   "execution_count": 14,
   "metadata": {
    "scrolled": true
   },
   "outputs": [
    {
     "name": "stdout",
     "output_type": "stream",
     "text": [
      "--------------------------------------------------\n",
      "0 1\n",
      "time window exceeded\n",
      "--------------------------------------------------\n",
      "0 2\n",
      "time window exceeded\n",
      "--------------------------------------------------\n",
      "0 3\n",
      "time window exceeded\n",
      "--------------------------------------------------\n",
      "0 4\n",
      "time window exceeded\n",
      "anomaly found\n",
      "--------------------------------------------------\n",
      "1 5\n",
      "--------------------------------------------------\n",
      "2 5\n",
      "--------------------------------------------------\n",
      "3 5\n",
      "--------------------------------------------------\n",
      "4 5\n",
      "5 5\n"
     ]
    },
    {
     "data": {
      "text/html": [
       "<div>\n",
       "<style scoped>\n",
       "    .dataframe tbody tr th:only-of-type {\n",
       "        vertical-align: middle;\n",
       "    }\n",
       "\n",
       "    .dataframe tbody tr th {\n",
       "        vertical-align: top;\n",
       "    }\n",
       "\n",
       "    .dataframe thead th {\n",
       "        text-align: right;\n",
       "    }\n",
       "</style>\n",
       "<table border=\"1\" class=\"dataframe\">\n",
       "  <thead>\n",
       "    <tr style=\"text-align: right;\">\n",
       "      <th></th>\n",
       "      <th>start_index</th>\n",
       "      <th>end_index</th>\n",
       "      <th>start_time</th>\n",
       "      <th>end_time</th>\n",
       "      <th>num_adid</th>\n",
       "      <th>adids</th>\n",
       "    </tr>\n",
       "  </thead>\n",
       "  <tbody>\n",
       "    <tr>\n",
       "      <th>0</th>\n",
       "      <td>0</td>\n",
       "      <td>3</td>\n",
       "      <td>2020-01-01</td>\n",
       "      <td>2020-01-01 00:03:00</td>\n",
       "      <td>4</td>\n",
       "      <td>[A, B, C, D]</td>\n",
       "    </tr>\n",
       "  </tbody>\n",
       "</table>\n",
       "</div>"
      ],
      "text/plain": [
       "  start_index end_index start_time            end_time num_adid         adids\n",
       "0           0         3 2020-01-01 2020-01-01 00:03:00        4  [A, B, C, D]"
      ]
     },
     "execution_count": 14,
     "metadata": {},
     "output_type": "execute_result"
    }
   ],
   "source": [
    "detect_weird_timeint(testcase2_df, timedelta(minutes=10))"
   ]
  },
  {
   "cell_type": "markdown",
   "metadata": {},
   "source": [
    "## Testcase 3 <a id=\"testcase3\"></a>\n",
    "\n",
    "5 non-distinct adid within `time_thres`\n",
    "\n",
    "[Back to top](#top)"
   ]
  },
  {
   "cell_type": "code",
   "execution_count": null,
   "metadata": {},
   "outputs": [],
   "source": [
    "testcase3_df = pd.DataFrame(columns=[\"time\", \"adid\"])\n",
    "\n",
    "for i in range(5):\n",
    "    testcase3_df.loc[i,:] = [START_TIME + i*time_thres/10, ADIDS[i%3]]\n",
    "    \n",
    "testcase3_df = testcase3_df.sort_values(by=\"time\")\n",
    "testcase3_df"
   ]
  },
  {
   "cell_type": "code",
   "execution_count": null,
   "metadata": {},
   "outputs": [],
   "source": [
    "detect_weird_timeint(testcase3_df, timedelta(minutes=10))"
   ]
  },
  {
   "cell_type": "markdown",
   "metadata": {},
   "source": [
    "## Testcase 4 <a id=\"testcase4\"></a>\n",
    "\n",
    "2 sets of 5 non-distinct adid, each within time_thres, but more than time_thres apart\n",
    "\n",
    "[Back to top](#top)"
   ]
  },
  {
   "cell_type": "code",
   "execution_count": null,
   "metadata": {},
   "outputs": [],
   "source": [
    "testcase4_df = pd.DataFrame(columns=[\"time\", \"adid\"])\n",
    "\n",
    "for i in range(5):\n",
    "    testcase4_df.loc[i,:] = [START_TIME + i*time_thres/10, ADIDS[i%3]]\n",
    "    \n",
    "for i in range(5):\n",
    "    testcase4_df.loc[5+i,:] = [START_TIME + timedelta(minutes=31) + i*time_thres/10, ADIDS[i%3]]\n",
    "    \n",
    "testcase4_df = testcase4_df.sort_values(by=\"time\")\n",
    "testcase4_df"
   ]
  },
  {
   "cell_type": "code",
   "execution_count": null,
   "metadata": {},
   "outputs": [],
   "source": [
    "detect_weird_timeint(testcase4_df, timedelta(minutes=10))"
   ]
  },
  {
   "cell_type": "markdown",
   "metadata": {},
   "source": [
    "## Testcase 5 <a id=\"testcase5\"></a>\n",
    "\n",
    "2 sets of 5 distinct adid, each within `time_thres`, but at most `time_thres` apart\n",
    "\n",
    "[Back to top](#top)"
   ]
  },
  {
   "cell_type": "code",
   "execution_count": null,
   "metadata": {},
   "outputs": [],
   "source": [
    "testcase5_df = pd.DataFrame(columns=[\"time\", \"adid\"])\n",
    "\n",
    "for i in range(5):\n",
    "    testcase5_df.loc[i,:] = [START_TIME + i*time_thres/10, ADIDS[i]]\n",
    "    \n",
    "for i in range(5):\n",
    "    testcase5_df.loc[5+i,:] = [testcase5_df.time[2] + timedelta(seconds=5) + i*timedelta(seconds=177), ADIDS[i+5]]\n",
    "    \n",
    "testcase5_df = testcase5_df.sort_values(by=\"time\")\n",
    "testcase5_df"
   ]
  },
  {
   "cell_type": "code",
   "execution_count": null,
   "metadata": {
    "scrolled": true
   },
   "outputs": [],
   "source": [
    "detect_weird_timeint(testcase5_df, timedelta(minutes=10))"
   ]
  },
  {
   "cell_type": "markdown",
   "metadata": {},
   "source": [
    "## Testcase 6 <a id=\"testcase6\"></a>\n",
    "\n",
    "2 sets of 2 non-distinct adid, each within time_thres, but at most time_thres apart\n",
    "\n",
    "[Back to top](#top)"
   ]
  },
  {
   "cell_type": "code",
   "execution_count": null,
   "metadata": {},
   "outputs": [],
   "source": [
    "testcase6_df = pd.DataFrame(columns=[\"time\", \"adid\"])\n",
    "\n",
    "for i in range(5):\n",
    "    testcase6_df.loc[i,:] = [START_TIME + i*time_thres/10, ADIDS[i%2]]\n",
    "    \n",
    "for i in range(5):\n",
    "    testcase6_df.loc[5+i,:] = [testcase6_df.time[2] + timedelta(seconds=5) + i*timedelta(seconds=207), ADIDS[1]]\n",
    "\n",
    "    \n",
    "testcase6_df = testcase6_df.sort_values(by=\"time\")\n",
    "testcase6_df"
   ]
  },
  {
   "cell_type": "code",
   "execution_count": null,
   "metadata": {
    "scrolled": true
   },
   "outputs": [],
   "source": [
    "detect_weird_timeint(testcase6_df, timedelta(minutes=10))"
   ]
  },
  {
   "cell_type": "markdown",
   "metadata": {},
   "source": [
    "## Testcase 7 <a id=\"testcase7\"></a>\n",
    "\n",
    "First 5 adid all time_thres apart followed by 5 adid within time_thres apart\n",
    "\n",
    "[Back to top](#top)"
   ]
  },
  {
   "cell_type": "code",
   "execution_count": null,
   "metadata": {},
   "outputs": [],
   "source": [
    "testcase7_df = pd.DataFrame(columns=[\"time\", \"adid\"])\n",
    "\n",
    "for i in range(5):\n",
    "    testcase7_df.loc[i,:] = [START_TIME + i*(time_thres + timedelta(seconds=37)), ADIDS[i]]\n",
    "    \n",
    "for i in range(5):\n",
    "    testcase7_df.loc[i+5,:] = [testcase7_df.time[4] + timedelta(minutes=31) + i*time_thres/10, ADIDS[i]]\n",
    "    \n",
    "testcase7_df = testcase7_df.sort_values(by=\"time\")\n",
    "testcase7_df"
   ]
  },
  {
   "cell_type": "code",
   "execution_count": null,
   "metadata": {},
   "outputs": [],
   "source": [
    "detect_weird_timeint(testcase7_df, timedelta(minutes=10))"
   ]
  },
  {
   "cell_type": "code",
   "execution_count": null,
   "metadata": {},
   "outputs": [],
   "source": []
  }
 ],
 "metadata": {
  "kernelspec": {
   "display_name": "Python 3",
   "language": "python",
   "name": "python3"
  },
  "language_info": {
   "codemirror_mode": {
    "name": "ipython",
    "version": 3
   },
   "file_extension": ".py",
   "mimetype": "text/x-python",
   "name": "python",
   "nbconvert_exporter": "python",
   "pygments_lexer": "ipython3",
   "version": "3.7.1"
  }
 },
 "nbformat": 4,
 "nbformat_minor": 4
}
