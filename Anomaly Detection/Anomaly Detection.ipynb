{
 "cells": [
  {
   "cell_type": "code",
   "execution_count": 4,
   "metadata": {},
   "outputs": [],
   "source": [
    "from datetime import datetime, timedelta\n",
    "import pandas as pd"
   ]
  },
  {
   "cell_type": "code",
   "execution_count": null,
   "metadata": {},
   "outputs": [],
   "source": [
    "def detect_weird_timeint(data, time_window):\n",
    "    '''\n",
    "    '''\n",
    "    start_index = 0\n",
    "    end_index = 1\n",
    "    \n",
    "    anomalies = pd.DataFrame(columns=[\"start_index\", \"end_index\", \"start_time\", \"end_time\", \"num_adid\", \"adids\"])\n",
    "    \n",
    "    while (start_index < len(data) and end_index < len(data)):\n",
    "        print(\"-\"*50)\n",
    "        print(start_index, end_index)\n",
    "        end_index += 1\n",
    "        print(start_index, end_index)\n",
    "        \n",
    "        if (end_index == len(data)) or (data.time[end_index] - data.time[start_index] > time_window):\n",
    "            \n",
    "            adids = data.loc[start_index:(end_index-1), \"adid\"].unique()\n",
    "            num_adid = len(adids)\n",
    "            \n",
    "            if num_adid > 1:\n",
    "                anomalies.loc[len(anomalies)] = [start_index, end_index-1, data.time[start_index],\n",
    "                                                data.time[end_index-1], num_adid, list(adids)]\n",
    "                \n",
    "                start_index += 1\n",
    "                \n",
    "    return anomalies"
   ]
  },
  {
   "cell_type": "code",
   "execution_count": 2,
   "metadata": {},
   "outputs": [],
   "source": [
    "START_TIME = datetime(2020,1,1)\n",
    "time_thres = timedelta(minutes=10)\n",
    "ADIDS = [\"A\", \"B\", \"C\", \"D\", \"E\", \"F\", \"G\", \"H\", \"I\", \"J\", \"K\", \"L\", \"M\"]"
   ]
  },
  {
   "cell_type": "code",
   "execution_count": 5,
   "metadata": {},
   "outputs": [
    {
     "data": {
      "text/html": [
       "<div>\n",
       "<style scoped>\n",
       "    .dataframe tbody tr th:only-of-type {\n",
       "        vertical-align: middle;\n",
       "    }\n",
       "\n",
       "    .dataframe tbody tr th {\n",
       "        vertical-align: top;\n",
       "    }\n",
       "\n",
       "    .dataframe thead th {\n",
       "        text-align: right;\n",
       "    }\n",
       "</style>\n",
       "<table border=\"1\" class=\"dataframe\">\n",
       "  <thead>\n",
       "    <tr style=\"text-align: right;\">\n",
       "      <th></th>\n",
       "      <th>time</th>\n",
       "      <th>adid</th>\n",
       "    </tr>\n",
       "  </thead>\n",
       "  <tbody>\n",
       "    <tr>\n",
       "      <th>0</th>\n",
       "      <td>2020-01-01 00:00:00</td>\n",
       "      <td>A</td>\n",
       "    </tr>\n",
       "    <tr>\n",
       "      <th>1</th>\n",
       "      <td>2020-01-01 00:01:00</td>\n",
       "      <td>B</td>\n",
       "    </tr>\n",
       "    <tr>\n",
       "      <th>2</th>\n",
       "      <td>2020-01-01 00:02:00</td>\n",
       "      <td>C</td>\n",
       "    </tr>\n",
       "    <tr>\n",
       "      <th>3</th>\n",
       "      <td>2020-01-01 00:03:00</td>\n",
       "      <td>D</td>\n",
       "    </tr>\n",
       "    <tr>\n",
       "      <th>4</th>\n",
       "      <td>2020-01-01 00:04:00</td>\n",
       "      <td>E</td>\n",
       "    </tr>\n",
       "  </tbody>\n",
       "</table>\n",
       "</div>"
      ],
      "text/plain": [
       "                  time adid\n",
       "0  2020-01-01 00:00:00    A\n",
       "1  2020-01-01 00:01:00    B\n",
       "2  2020-01-01 00:02:00    C\n",
       "3  2020-01-01 00:03:00    D\n",
       "4  2020-01-01 00:04:00    E"
      ]
     },
     "execution_count": 5,
     "metadata": {},
     "output_type": "execute_result"
    }
   ],
   "source": [
    "testcase1_df = pd.DataFrame(columns=[\"time\", \"adid\"])\n",
    "\n",
    "for i in range(5):\n",
    "    testcase1_df.loc[i,:] = [START_TIME + i*time_thres/10, ADIDS[i]]\n",
    "    \n",
    "testcase1_df = testcase1_df.sort_values(by=\"time\")\n",
    "testcase1_df"
   ]
  },
  {
   "cell_type": "code",
   "execution_count": null,
   "metadata": {},
   "outputs": [],
   "source": [
    "detect_weird_timeint(testcase1_df, timedelta(minutes=10))"
   ]
  }
 ],
 "metadata": {
  "kernelspec": {
   "display_name": "Python 3",
   "language": "python",
   "name": "python3"
  },
  "language_info": {
   "codemirror_mode": {
    "name": "ipython",
    "version": 3
   },
   "file_extension": ".py",
   "mimetype": "text/x-python",
   "name": "python",
   "nbconvert_exporter": "python",
   "pygments_lexer": "ipython3",
   "version": "3.8.5"
  }
 },
 "nbformat": 4,
 "nbformat_minor": 4
}
