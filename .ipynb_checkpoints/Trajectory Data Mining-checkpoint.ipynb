{
 "cells": [
  {
   "cell_type": "markdown",
   "metadata": {},
   "source": [
    "# Trajectory Data Mining <a  id=\"top\"></a>\n",
    "\n",
    "**Context**: Given a dataset of several persons' travel history containing variables `latitude`, `longitude` and `time`, how do we perform data preprocessing, data analysis and data mining?\n",
    "\n",
    "- [Reading GeoLife Dataset](#GeoLife)\n",
    "- [Noise filtering](#filtering)\n",
    "- [Stay point detection](#SPDA)\n",
    "- [Clustering of stay points](#SPDA_Clustering)\n",
    "- [Longest Common Subsequence problem](#LCS)"
   ]
  },
  {
   "cell_type": "code",
   "execution_count": 1,
   "metadata": {},
   "outputs": [],
   "source": [
    "import numpy as np\n",
    "import pandas as pd\n",
    "import numba\n",
    "\n",
    "import folium\n",
    "from folium import plugins\n",
    "\n",
    "from sklearn.cluster import DBSCAN\n",
    "\n",
    "import time\n",
    "import random\n",
    "from statistics import mean, median\n",
    "from math import radians, cos, sin, asin, sqrt\n",
    "import os"
   ]
  },
  {
   "cell_type": "code",
   "execution_count": 2,
   "metadata": {},
   "outputs": [],
   "source": [
    "%load_ext Cython"
   ]
  },
  {
   "cell_type": "markdown",
   "metadata": {},
   "source": [
    "I've implemented some functions in a python file `auxiliary_functions.py`, I chose to keep the tested and proved algorithms there to prevent this notebook from being too lengthy."
   ]
  },
  {
   "cell_type": "code",
   "execution_count": 3,
   "metadata": {},
   "outputs": [],
   "source": [
    "from auxiliary_functions import *"
   ]
  },
  {
   "cell_type": "code",
   "execution_count": 4,
   "metadata": {},
   "outputs": [],
   "source": [
    "GEOLIFE_DATA_PATH =r\"C:\\Users\\Tay\\Documents\\GitHub\\Trajectory-Data-Mining\\Geolife Trajectories 1.3\\Data\""
   ]
  },
  {
   "cell_type": "code",
   "execution_count": 5,
   "metadata": {},
   "outputs": [
    {
     "name": "stdout",
     "output_type": "stream",
     "text": [
      "Number of users in Geolife dataset: 182\n"
     ]
    }
   ],
   "source": [
    "users = os.listdir(GEOLIFE_DATA_PATH)\n",
    "print(\"Number of users in Geolife dataset: \" + str(len(users)))"
   ]
  },
  {
   "cell_type": "markdown",
   "metadata": {},
   "source": [
    "# Importing trajectories from Geolife dataset <a id=\"GeoLife\"></a>\n",
    "Some things I changed:\n",
    "- According to the User Guide from Microsoft, the 3rd column is all set to 0 and the 3rd last column is the number of days that has passed since 12/30/1899, both not useful to me.\n",
    "- Merged the `date` and `time` together and cast the datetime type onto them.\n",
    "\n",
    "Note\n",
    "- `time` is in GMT+0 for all their datetime data.\n",
    "- `alt` = -777 means that the altitude isn't available.\n",
    "\n",
    "[Back to top](#top)"
   ]
  },
  {
   "cell_type": "code",
   "execution_count": 6,
   "metadata": {},
   "outputs": [],
   "source": [
    "def readUserTraj(path_to_user):\n",
    "    '''\n",
    "    :param path_to_user: a path to the user's dataset according to the Geolife dataset file system\n",
    "    :return: a dataframe containing all of the user's trajectories\n",
    "    '''\n",
    "    trajs = os.listdir(path_to_user + r\"\\Trajectory\")\n",
    "    col_names = [\"lat\", \"lon\", \"alt\", \"date\", \"time\"]\n",
    "    userTraj = pd.DataFrame(columns=[\"lat\", \"lon\", \"alt\", \"time\"])\n",
    "    \n",
    "    for i in range(len(trajs)):\n",
    "        TRAJ_PATH = path_to_user + r\"\\Trajectory\" + r\"\\\\\" + trajs[i]\n",
    "        traj = pd.read_csv(TRAJ_PATH, skiprows=6, header=None, usecols=[0,1,3,5,6], names=col_names)\n",
    "        \n",
    "        traj[\"full_date\"] = traj[\"date\"].str.cat(traj[\"time\"], sep=\" \")\n",
    "        traj[\"full_date\"] = traj[\"full_date\"].apply(lambda x: pd.to_datetime(x))\n",
    "\n",
    "        traj = traj.drop(columns = [\"date\", \"time\"])\n",
    "        traj = traj.rename(columns = {\"full_date\": \"time\"})\n",
    "        \n",
    "        userTraj = userTraj.append(traj)\n",
    "        userTraj = userTraj.reset_index(drop=True)\n",
    "    \n",
    "    return userTraj"
   ]
  },
  {
   "cell_type": "code",
   "execution_count": 7,
   "metadata": {},
   "outputs": [
    {
     "name": "stdout",
     "output_type": "stream",
     "text": [
      " Wall time: 5min 13s\n"
     ]
    }
   ],
   "source": [
    "%%time\n",
    "%%prun\n",
    "trajDataFrames = [readUserTraj(GEOLIFE_DATA_PATH + r\"\\\\\" + users[i]) for i in range(5)]"
   ]
  },
  {
   "cell_type": "markdown",
   "metadata": {},
   "source": [
    "Let's check the spatial density and temporal density of the datasets of each user"
   ]
  },
  {
   "cell_type": "code",
   "execution_count": 23,
   "metadata": {},
   "outputs": [],
   "source": [
    "def getSummaryStatistic(df_list):\n",
    "    '''\n",
    "    assumptions: the dataframes are already sorted by increasing time\n",
    "    \n",
    "    :param df: a list of dataframes, each dataframe should have the variable `time`\n",
    "    :return summary_df: a dataframe containing summary statistics about `df`\n",
    "    '''\n",
    "    summary_df = pd.DataFrame(columns=[\"No. of datapoints\", \"Sampling rate 25 pct (secs)\", \"Sampling rate 75 pct (secs)\",\n",
    "                                       \"Distance 25 pct (m)\", \"Distance 75 pct (m)\"])\n",
    "    \n",
    "    for i in range(len(df_list)):\n",
    "        df = df_list[i]\n",
    "        if len(df) == 0:\n",
    "            continue\n",
    "        timeInt = (df.time[1:].reset_index(drop=True) - df.time[:-1]).astype('timedelta64[s]')\n",
    "        dist_df = pd.concat([df.lon[:-1].reset_index(drop=True),\n",
    "                             df.lat[:-1].reset_index(drop=True),\n",
    "                             df.lon[1:].reset_index(drop=True),\n",
    "                             df.lat[1:].reset_index(drop=True)], axis=1)\n",
    "        dist_numpy = dist_df.to_numpy()\n",
    "        distInt = np.apply_along_axis(lambda x: haversine(x[0], x[1], x[2], x[3]), 1, dist_numpy)\n",
    "        summary_df.loc[i,:] = [len(df), np.percentile(timeInt, 25), np.percentile(timeInt, 75),\\\n",
    "                               np.percentile(distInt, 25), np.percentile(distInt, 75)]\n",
    "    \n",
    "    return summary_df"
   ]
  },
  {
   "cell_type": "code",
   "execution_count": 26,
   "metadata": {},
   "outputs": [
    {
     "name": "stdout",
     "output_type": "stream",
     "text": [
      " Wall time: 12.1 s\n"
     ]
    }
   ],
   "source": [
    "%%time\n",
    "%%prun\n",
    "summary_df = getSummaryStatistic(trajDataFrames)"
   ]
  },
  {
   "cell_type": "code",
   "execution_count": 10,
   "metadata": {},
   "outputs": [
    {
     "data": {
      "text/html": [
       "<div>\n",
       "<style scoped>\n",
       "    .dataframe tbody tr th:only-of-type {\n",
       "        vertical-align: middle;\n",
       "    }\n",
       "\n",
       "    .dataframe tbody tr th {\n",
       "        vertical-align: top;\n",
       "    }\n",
       "\n",
       "    .dataframe thead th {\n",
       "        text-align: right;\n",
       "    }\n",
       "</style>\n",
       "<table border=\"1\" class=\"dataframe\">\n",
       "  <thead>\n",
       "    <tr style=\"text-align: right;\">\n",
       "      <th></th>\n",
       "      <th>No. of datapoints</th>\n",
       "      <th>Sampling rate 25 pct (secs)</th>\n",
       "      <th>Sampling rate 75 pct (secs)</th>\n",
       "      <th>Distance 25 pct (m)</th>\n",
       "      <th>Distance 75 pct (m)</th>\n",
       "    </tr>\n",
       "  </thead>\n",
       "  <tbody>\n",
       "    <tr>\n",
       "      <th>0</th>\n",
       "      <td>173870</td>\n",
       "      <td>5</td>\n",
       "      <td>5</td>\n",
       "      <td>2.12833</td>\n",
       "      <td>18.2196</td>\n",
       "    </tr>\n",
       "    <tr>\n",
       "      <th>1</th>\n",
       "      <td>108607</td>\n",
       "      <td>2</td>\n",
       "      <td>5</td>\n",
       "      <td>1.47338</td>\n",
       "      <td>12.3708</td>\n",
       "    </tr>\n",
       "    <tr>\n",
       "      <th>2</th>\n",
       "      <td>248217</td>\n",
       "      <td>2</td>\n",
       "      <td>5</td>\n",
       "      <td>3.67249</td>\n",
       "      <td>10.0366</td>\n",
       "    </tr>\n",
       "    <tr>\n",
       "      <th>3</th>\n",
       "      <td>485226</td>\n",
       "      <td>5</td>\n",
       "      <td>5</td>\n",
       "      <td>1.69196</td>\n",
       "      <td>19.3644</td>\n",
       "    </tr>\n",
       "    <tr>\n",
       "      <th>4</th>\n",
       "      <td>439397</td>\n",
       "      <td>5</td>\n",
       "      <td>5</td>\n",
       "      <td>2.98055</td>\n",
       "      <td>20.048</td>\n",
       "    </tr>\n",
       "  </tbody>\n",
       "</table>\n",
       "</div>"
      ],
      "text/plain": [
       "  No. of datapoints Sampling rate 25 pct (secs) Sampling rate 75 pct (secs)  \\\n",
       "0            173870                           5                           5   \n",
       "1            108607                           2                           5   \n",
       "2            248217                           2                           5   \n",
       "3            485226                           5                           5   \n",
       "4            439397                           5                           5   \n",
       "\n",
       "  Distance 25 pct (m) Distance 75 pct (m)  \n",
       "0             2.12833             18.2196  \n",
       "1             1.47338             12.3708  \n",
       "2             3.67249             10.0366  \n",
       "3             1.69196             19.3644  \n",
       "4             2.98055              20.048  "
      ]
     },
     "execution_count": 10,
     "metadata": {},
     "output_type": "execute_result"
    }
   ],
   "source": [
    "summary_df"
   ]
  },
  {
   "cell_type": "code",
   "execution_count": 11,
   "metadata": {},
   "outputs": [
    {
     "data": {
      "text/html": [
       "<div>\n",
       "<style scoped>\n",
       "    .dataframe tbody tr th:only-of-type {\n",
       "        vertical-align: middle;\n",
       "    }\n",
       "\n",
       "    .dataframe tbody tr th {\n",
       "        vertical-align: top;\n",
       "    }\n",
       "\n",
       "    .dataframe thead th {\n",
       "        text-align: right;\n",
       "    }\n",
       "</style>\n",
       "<table border=\"1\" class=\"dataframe\">\n",
       "  <thead>\n",
       "    <tr style=\"text-align: right;\">\n",
       "      <th></th>\n",
       "      <th>lat</th>\n",
       "      <th>lon</th>\n",
       "      <th>alt</th>\n",
       "      <th>time</th>\n",
       "    </tr>\n",
       "  </thead>\n",
       "  <tbody>\n",
       "    <tr>\n",
       "      <th>0</th>\n",
       "      <td>39.984702</td>\n",
       "      <td>116.318417</td>\n",
       "      <td>492</td>\n",
       "      <td>2008-10-23 02:53:04</td>\n",
       "    </tr>\n",
       "    <tr>\n",
       "      <th>1</th>\n",
       "      <td>39.984683</td>\n",
       "      <td>116.318450</td>\n",
       "      <td>492</td>\n",
       "      <td>2008-10-23 02:53:10</td>\n",
       "    </tr>\n",
       "    <tr>\n",
       "      <th>2</th>\n",
       "      <td>39.984686</td>\n",
       "      <td>116.318417</td>\n",
       "      <td>492</td>\n",
       "      <td>2008-10-23 02:53:15</td>\n",
       "    </tr>\n",
       "    <tr>\n",
       "      <th>3</th>\n",
       "      <td>39.984688</td>\n",
       "      <td>116.318385</td>\n",
       "      <td>492</td>\n",
       "      <td>2008-10-23 02:53:20</td>\n",
       "    </tr>\n",
       "    <tr>\n",
       "      <th>4</th>\n",
       "      <td>39.984655</td>\n",
       "      <td>116.318263</td>\n",
       "      <td>492</td>\n",
       "      <td>2008-10-23 02:53:25</td>\n",
       "    </tr>\n",
       "    <tr>\n",
       "      <th>...</th>\n",
       "      <td>...</td>\n",
       "      <td>...</td>\n",
       "      <td>...</td>\n",
       "      <td>...</td>\n",
       "    </tr>\n",
       "    <tr>\n",
       "      <th>173865</th>\n",
       "      <td>40.000403</td>\n",
       "      <td>116.327255</td>\n",
       "      <td>149</td>\n",
       "      <td>2009-07-05 07:44:55</td>\n",
       "    </tr>\n",
       "    <tr>\n",
       "      <th>173866</th>\n",
       "      <td>40.000433</td>\n",
       "      <td>116.327209</td>\n",
       "      <td>150</td>\n",
       "      <td>2009-07-05 07:45:00</td>\n",
       "    </tr>\n",
       "    <tr>\n",
       "      <th>173867</th>\n",
       "      <td>40.000443</td>\n",
       "      <td>116.327186</td>\n",
       "      <td>150</td>\n",
       "      <td>2009-07-05 07:45:05</td>\n",
       "    </tr>\n",
       "    <tr>\n",
       "      <th>173868</th>\n",
       "      <td>40.000522</td>\n",
       "      <td>116.327132</td>\n",
       "      <td>149</td>\n",
       "      <td>2009-07-05 07:45:10</td>\n",
       "    </tr>\n",
       "    <tr>\n",
       "      <th>173869</th>\n",
       "      <td>40.000543</td>\n",
       "      <td>116.327148</td>\n",
       "      <td>150</td>\n",
       "      <td>2009-07-05 07:45:15</td>\n",
       "    </tr>\n",
       "  </tbody>\n",
       "</table>\n",
       "<p>173870 rows × 4 columns</p>\n",
       "</div>"
      ],
      "text/plain": [
       "              lat         lon  alt                time\n",
       "0       39.984702  116.318417  492 2008-10-23 02:53:04\n",
       "1       39.984683  116.318450  492 2008-10-23 02:53:10\n",
       "2       39.984686  116.318417  492 2008-10-23 02:53:15\n",
       "3       39.984688  116.318385  492 2008-10-23 02:53:20\n",
       "4       39.984655  116.318263  492 2008-10-23 02:53:25\n",
       "...           ...         ...  ...                 ...\n",
       "173865  40.000403  116.327255  149 2009-07-05 07:44:55\n",
       "173866  40.000433  116.327209  150 2009-07-05 07:45:00\n",
       "173867  40.000443  116.327186  150 2009-07-05 07:45:05\n",
       "173868  40.000522  116.327132  149 2009-07-05 07:45:10\n",
       "173869  40.000543  116.327148  150 2009-07-05 07:45:15\n",
       "\n",
       "[173870 rows x 4 columns]"
      ]
     },
     "execution_count": 11,
     "metadata": {},
     "output_type": "execute_result"
    }
   ],
   "source": [
    "trajDataFrames[0]"
   ]
  },
  {
   "cell_type": "code",
   "execution_count": 12,
   "metadata": {},
   "outputs": [
    {
     "data": {
      "text/html": [
       "<div>\n",
       "<style scoped>\n",
       "    .dataframe tbody tr th:only-of-type {\n",
       "        vertical-align: middle;\n",
       "    }\n",
       "\n",
       "    .dataframe tbody tr th {\n",
       "        vertical-align: top;\n",
       "    }\n",
       "\n",
       "    .dataframe thead th {\n",
       "        text-align: right;\n",
       "    }\n",
       "</style>\n",
       "<table border=\"1\" class=\"dataframe\">\n",
       "  <thead>\n",
       "    <tr style=\"text-align: right;\">\n",
       "      <th></th>\n",
       "      <th>lat</th>\n",
       "      <th>lon</th>\n",
       "      <th>alt</th>\n",
       "      <th>time</th>\n",
       "    </tr>\n",
       "  </thead>\n",
       "  <tbody>\n",
       "    <tr>\n",
       "      <th>0</th>\n",
       "      <td>39.984094</td>\n",
       "      <td>116.319236</td>\n",
       "      <td>492</td>\n",
       "      <td>2008-10-23 05:53:05</td>\n",
       "    </tr>\n",
       "    <tr>\n",
       "      <th>1</th>\n",
       "      <td>39.984198</td>\n",
       "      <td>116.319322</td>\n",
       "      <td>492</td>\n",
       "      <td>2008-10-23 05:53:06</td>\n",
       "    </tr>\n",
       "    <tr>\n",
       "      <th>2</th>\n",
       "      <td>39.984224</td>\n",
       "      <td>116.319402</td>\n",
       "      <td>492</td>\n",
       "      <td>2008-10-23 05:53:11</td>\n",
       "    </tr>\n",
       "    <tr>\n",
       "      <th>3</th>\n",
       "      <td>39.984211</td>\n",
       "      <td>116.319389</td>\n",
       "      <td>492</td>\n",
       "      <td>2008-10-23 05:53:16</td>\n",
       "    </tr>\n",
       "    <tr>\n",
       "      <th>4</th>\n",
       "      <td>39.984217</td>\n",
       "      <td>116.319422</td>\n",
       "      <td>491</td>\n",
       "      <td>2008-10-23 05:53:21</td>\n",
       "    </tr>\n",
       "    <tr>\n",
       "      <th>...</th>\n",
       "      <td>...</td>\n",
       "      <td>...</td>\n",
       "      <td>...</td>\n",
       "      <td>...</td>\n",
       "    </tr>\n",
       "    <tr>\n",
       "      <th>108602</th>\n",
       "      <td>39.977969</td>\n",
       "      <td>116.326651</td>\n",
       "      <td>311</td>\n",
       "      <td>2008-12-15 00:30:58</td>\n",
       "    </tr>\n",
       "    <tr>\n",
       "      <th>108603</th>\n",
       "      <td>39.977946</td>\n",
       "      <td>116.326653</td>\n",
       "      <td>310</td>\n",
       "      <td>2008-12-15 00:31:03</td>\n",
       "    </tr>\n",
       "    <tr>\n",
       "      <th>108604</th>\n",
       "      <td>39.977897</td>\n",
       "      <td>116.326624</td>\n",
       "      <td>310</td>\n",
       "      <td>2008-12-15 00:31:08</td>\n",
       "    </tr>\n",
       "    <tr>\n",
       "      <th>108605</th>\n",
       "      <td>39.977882</td>\n",
       "      <td>116.326626</td>\n",
       "      <td>310</td>\n",
       "      <td>2008-12-15 00:31:13</td>\n",
       "    </tr>\n",
       "    <tr>\n",
       "      <th>108606</th>\n",
       "      <td>39.977879</td>\n",
       "      <td>116.326628</td>\n",
       "      <td>310</td>\n",
       "      <td>2008-12-15 00:31:18</td>\n",
       "    </tr>\n",
       "  </tbody>\n",
       "</table>\n",
       "<p>108607 rows × 4 columns</p>\n",
       "</div>"
      ],
      "text/plain": [
       "              lat         lon  alt                time\n",
       "0       39.984094  116.319236  492 2008-10-23 05:53:05\n",
       "1       39.984198  116.319322  492 2008-10-23 05:53:06\n",
       "2       39.984224  116.319402  492 2008-10-23 05:53:11\n",
       "3       39.984211  116.319389  492 2008-10-23 05:53:16\n",
       "4       39.984217  116.319422  491 2008-10-23 05:53:21\n",
       "...           ...         ...  ...                 ...\n",
       "108602  39.977969  116.326651  311 2008-12-15 00:30:58\n",
       "108603  39.977946  116.326653  310 2008-12-15 00:31:03\n",
       "108604  39.977897  116.326624  310 2008-12-15 00:31:08\n",
       "108605  39.977882  116.326626  310 2008-12-15 00:31:13\n",
       "108606  39.977879  116.326628  310 2008-12-15 00:31:18\n",
       "\n",
       "[108607 rows x 4 columns]"
      ]
     },
     "execution_count": 12,
     "metadata": {},
     "output_type": "execute_result"
    }
   ],
   "source": [
    "trajDataFrames[1]"
   ]
  },
  {
   "cell_type": "code",
   "execution_count": 13,
   "metadata": {},
   "outputs": [
    {
     "data": {
      "text/html": [
       "<div>\n",
       "<style scoped>\n",
       "    .dataframe tbody tr th:only-of-type {\n",
       "        vertical-align: middle;\n",
       "    }\n",
       "\n",
       "    .dataframe tbody tr th {\n",
       "        vertical-align: top;\n",
       "    }\n",
       "\n",
       "    .dataframe thead th {\n",
       "        text-align: right;\n",
       "    }\n",
       "</style>\n",
       "<table border=\"1\" class=\"dataframe\">\n",
       "  <thead>\n",
       "    <tr style=\"text-align: right;\">\n",
       "      <th></th>\n",
       "      <th>lat</th>\n",
       "      <th>lon</th>\n",
       "      <th>alt</th>\n",
       "      <th>time</th>\n",
       "    </tr>\n",
       "  </thead>\n",
       "  <tbody>\n",
       "    <tr>\n",
       "      <th>0</th>\n",
       "      <td>39.927938</td>\n",
       "      <td>116.338967</td>\n",
       "      <td>492</td>\n",
       "      <td>2008-10-23 12:45:23</td>\n",
       "    </tr>\n",
       "    <tr>\n",
       "      <th>1</th>\n",
       "      <td>39.927527</td>\n",
       "      <td>116.338899</td>\n",
       "      <td>492</td>\n",
       "      <td>2008-10-23 12:45:24</td>\n",
       "    </tr>\n",
       "    <tr>\n",
       "      <th>2</th>\n",
       "      <td>39.926516</td>\n",
       "      <td>116.338048</td>\n",
       "      <td>401</td>\n",
       "      <td>2008-10-23 12:45:54</td>\n",
       "    </tr>\n",
       "    <tr>\n",
       "      <th>3</th>\n",
       "      <td>39.926496</td>\n",
       "      <td>116.338094</td>\n",
       "      <td>380</td>\n",
       "      <td>2008-10-23 12:45:59</td>\n",
       "    </tr>\n",
       "    <tr>\n",
       "      <th>4</th>\n",
       "      <td>39.926498</td>\n",
       "      <td>116.338140</td>\n",
       "      <td>365</td>\n",
       "      <td>2008-10-23 12:46:04</td>\n",
       "    </tr>\n",
       "    <tr>\n",
       "      <th>...</th>\n",
       "      <td>...</td>\n",
       "      <td>...</td>\n",
       "      <td>...</td>\n",
       "      <td>...</td>\n",
       "    </tr>\n",
       "    <tr>\n",
       "      <th>248212</th>\n",
       "      <td>39.989629</td>\n",
       "      <td>116.222151</td>\n",
       "      <td>118</td>\n",
       "      <td>2009-03-22 08:13:23</td>\n",
       "    </tr>\n",
       "    <tr>\n",
       "      <th>248213</th>\n",
       "      <td>39.989583</td>\n",
       "      <td>116.222194</td>\n",
       "      <td>114</td>\n",
       "      <td>2009-03-22 08:13:28</td>\n",
       "    </tr>\n",
       "    <tr>\n",
       "      <th>248214</th>\n",
       "      <td>39.989542</td>\n",
       "      <td>116.222221</td>\n",
       "      <td>112</td>\n",
       "      <td>2009-03-22 08:13:30</td>\n",
       "    </tr>\n",
       "    <tr>\n",
       "      <th>248215</th>\n",
       "      <td>39.989514</td>\n",
       "      <td>116.222292</td>\n",
       "      <td>110</td>\n",
       "      <td>2009-03-22 08:13:34</td>\n",
       "    </tr>\n",
       "    <tr>\n",
       "      <th>248216</th>\n",
       "      <td>39.989500</td>\n",
       "      <td>116.222359</td>\n",
       "      <td>108</td>\n",
       "      <td>2009-03-22 08:13:37</td>\n",
       "    </tr>\n",
       "  </tbody>\n",
       "</table>\n",
       "<p>248217 rows × 4 columns</p>\n",
       "</div>"
      ],
      "text/plain": [
       "              lat         lon  alt                time\n",
       "0       39.927938  116.338967  492 2008-10-23 12:45:23\n",
       "1       39.927527  116.338899  492 2008-10-23 12:45:24\n",
       "2       39.926516  116.338048  401 2008-10-23 12:45:54\n",
       "3       39.926496  116.338094  380 2008-10-23 12:45:59\n",
       "4       39.926498  116.338140  365 2008-10-23 12:46:04\n",
       "...           ...         ...  ...                 ...\n",
       "248212  39.989629  116.222151  118 2009-03-22 08:13:23\n",
       "248213  39.989583  116.222194  114 2009-03-22 08:13:28\n",
       "248214  39.989542  116.222221  112 2009-03-22 08:13:30\n",
       "248215  39.989514  116.222292  110 2009-03-22 08:13:34\n",
       "248216  39.989500  116.222359  108 2009-03-22 08:13:37\n",
       "\n",
       "[248217 rows x 4 columns]"
      ]
     },
     "execution_count": 13,
     "metadata": {},
     "output_type": "execute_result"
    }
   ],
   "source": [
    "trajDataFrames[2]"
   ]
  },
  {
   "cell_type": "code",
   "execution_count": 14,
   "metadata": {},
   "outputs": [
    {
     "data": {
      "text/html": [
       "<div>\n",
       "<style scoped>\n",
       "    .dataframe tbody tr th:only-of-type {\n",
       "        vertical-align: middle;\n",
       "    }\n",
       "\n",
       "    .dataframe tbody tr th {\n",
       "        vertical-align: top;\n",
       "    }\n",
       "\n",
       "    .dataframe thead th {\n",
       "        text-align: right;\n",
       "    }\n",
       "</style>\n",
       "<table border=\"1\" class=\"dataframe\">\n",
       "  <thead>\n",
       "    <tr style=\"text-align: right;\">\n",
       "      <th></th>\n",
       "      <th>lat</th>\n",
       "      <th>lon</th>\n",
       "      <th>alt</th>\n",
       "      <th>time</th>\n",
       "    </tr>\n",
       "  </thead>\n",
       "  <tbody>\n",
       "    <tr>\n",
       "      <th>0</th>\n",
       "      <td>39.999844</td>\n",
       "      <td>116.326752</td>\n",
       "      <td>492</td>\n",
       "      <td>2008-10-23 17:58:54</td>\n",
       "    </tr>\n",
       "    <tr>\n",
       "      <th>1</th>\n",
       "      <td>39.999876</td>\n",
       "      <td>116.326708</td>\n",
       "      <td>492</td>\n",
       "      <td>2008-10-23 17:58:59</td>\n",
       "    </tr>\n",
       "    <tr>\n",
       "      <th>2</th>\n",
       "      <td>39.999915</td>\n",
       "      <td>116.326672</td>\n",
       "      <td>492</td>\n",
       "      <td>2008-10-23 17:59:04</td>\n",
       "    </tr>\n",
       "    <tr>\n",
       "      <th>3</th>\n",
       "      <td>40.000059</td>\n",
       "      <td>116.327140</td>\n",
       "      <td>142</td>\n",
       "      <td>2008-10-23 17:59:09</td>\n",
       "    </tr>\n",
       "    <tr>\n",
       "      <th>4</th>\n",
       "      <td>40.000039</td>\n",
       "      <td>116.327172</td>\n",
       "      <td>132</td>\n",
       "      <td>2008-10-23 17:59:14</td>\n",
       "    </tr>\n",
       "    <tr>\n",
       "      <th>...</th>\n",
       "      <td>...</td>\n",
       "      <td>...</td>\n",
       "      <td>...</td>\n",
       "      <td>...</td>\n",
       "    </tr>\n",
       "    <tr>\n",
       "      <th>485221</th>\n",
       "      <td>40.000403</td>\n",
       "      <td>116.327255</td>\n",
       "      <td>149</td>\n",
       "      <td>2009-07-05 07:44:55</td>\n",
       "    </tr>\n",
       "    <tr>\n",
       "      <th>485222</th>\n",
       "      <td>40.000433</td>\n",
       "      <td>116.327209</td>\n",
       "      <td>150</td>\n",
       "      <td>2009-07-05 07:45:00</td>\n",
       "    </tr>\n",
       "    <tr>\n",
       "      <th>485223</th>\n",
       "      <td>40.000443</td>\n",
       "      <td>116.327186</td>\n",
       "      <td>150</td>\n",
       "      <td>2009-07-05 07:45:05</td>\n",
       "    </tr>\n",
       "    <tr>\n",
       "      <th>485224</th>\n",
       "      <td>40.000522</td>\n",
       "      <td>116.327132</td>\n",
       "      <td>149</td>\n",
       "      <td>2009-07-05 07:45:10</td>\n",
       "    </tr>\n",
       "    <tr>\n",
       "      <th>485225</th>\n",
       "      <td>40.000543</td>\n",
       "      <td>116.327148</td>\n",
       "      <td>150</td>\n",
       "      <td>2009-07-05 07:45:15</td>\n",
       "    </tr>\n",
       "  </tbody>\n",
       "</table>\n",
       "<p>485226 rows × 4 columns</p>\n",
       "</div>"
      ],
      "text/plain": [
       "              lat         lon  alt                time\n",
       "0       39.999844  116.326752  492 2008-10-23 17:58:54\n",
       "1       39.999876  116.326708  492 2008-10-23 17:58:59\n",
       "2       39.999915  116.326672  492 2008-10-23 17:59:04\n",
       "3       40.000059  116.327140  142 2008-10-23 17:59:09\n",
       "4       40.000039  116.327172  132 2008-10-23 17:59:14\n",
       "...           ...         ...  ...                 ...\n",
       "485221  40.000403  116.327255  149 2009-07-05 07:44:55\n",
       "485222  40.000433  116.327209  150 2009-07-05 07:45:00\n",
       "485223  40.000443  116.327186  150 2009-07-05 07:45:05\n",
       "485224  40.000522  116.327132  149 2009-07-05 07:45:10\n",
       "485225  40.000543  116.327148  150 2009-07-05 07:45:15\n",
       "\n",
       "[485226 rows x 4 columns]"
      ]
     },
     "execution_count": 14,
     "metadata": {},
     "output_type": "execute_result"
    }
   ],
   "source": [
    "trajDataFrames[3]"
   ]
  },
  {
   "cell_type": "code",
   "execution_count": 15,
   "metadata": {},
   "outputs": [
    {
     "data": {
      "text/html": [
       "<div>\n",
       "<style scoped>\n",
       "    .dataframe tbody tr th:only-of-type {\n",
       "        vertical-align: middle;\n",
       "    }\n",
       "\n",
       "    .dataframe tbody tr th {\n",
       "        vertical-align: top;\n",
       "    }\n",
       "\n",
       "    .dataframe thead th {\n",
       "        text-align: right;\n",
       "    }\n",
       "</style>\n",
       "<table border=\"1\" class=\"dataframe\">\n",
       "  <thead>\n",
       "    <tr style=\"text-align: right;\">\n",
       "      <th></th>\n",
       "      <th>lat</th>\n",
       "      <th>lon</th>\n",
       "      <th>alt</th>\n",
       "      <th>time</th>\n",
       "    </tr>\n",
       "  </thead>\n",
       "  <tbody>\n",
       "    <tr>\n",
       "      <th>0</th>\n",
       "      <td>39.999974</td>\n",
       "      <td>116.327149</td>\n",
       "      <td>143</td>\n",
       "      <td>2008-10-23 17:58:52</td>\n",
       "    </tr>\n",
       "    <tr>\n",
       "      <th>1</th>\n",
       "      <td>40.000011</td>\n",
       "      <td>116.327161</td>\n",
       "      <td>126</td>\n",
       "      <td>2008-10-23 17:58:58</td>\n",
       "    </tr>\n",
       "    <tr>\n",
       "      <th>2</th>\n",
       "      <td>40.000008</td>\n",
       "      <td>116.327135</td>\n",
       "      <td>135</td>\n",
       "      <td>2008-10-23 17:59:03</td>\n",
       "    </tr>\n",
       "    <tr>\n",
       "      <th>3</th>\n",
       "      <td>40.000016</td>\n",
       "      <td>116.327126</td>\n",
       "      <td>135</td>\n",
       "      <td>2008-10-23 17:59:08</td>\n",
       "    </tr>\n",
       "    <tr>\n",
       "      <th>4</th>\n",
       "      <td>40.000003</td>\n",
       "      <td>116.327098</td>\n",
       "      <td>141</td>\n",
       "      <td>2008-10-23 17:59:13</td>\n",
       "    </tr>\n",
       "    <tr>\n",
       "      <th>...</th>\n",
       "      <td>...</td>\n",
       "      <td>...</td>\n",
       "      <td>...</td>\n",
       "      <td>...</td>\n",
       "    </tr>\n",
       "    <tr>\n",
       "      <th>439392</th>\n",
       "      <td>39.999916</td>\n",
       "      <td>116.327657</td>\n",
       "      <td>605</td>\n",
       "      <td>2009-07-29 06:15:51</td>\n",
       "    </tr>\n",
       "    <tr>\n",
       "      <th>439393</th>\n",
       "      <td>39.999934</td>\n",
       "      <td>116.327693</td>\n",
       "      <td>610</td>\n",
       "      <td>2009-07-29 06:15:56</td>\n",
       "    </tr>\n",
       "    <tr>\n",
       "      <th>439394</th>\n",
       "      <td>39.999803</td>\n",
       "      <td>116.327442</td>\n",
       "      <td>573</td>\n",
       "      <td>2009-07-29 06:16:01</td>\n",
       "    </tr>\n",
       "    <tr>\n",
       "      <th>439395</th>\n",
       "      <td>39.999790</td>\n",
       "      <td>116.327409</td>\n",
       "      <td>572</td>\n",
       "      <td>2009-07-29 06:16:06</td>\n",
       "    </tr>\n",
       "    <tr>\n",
       "      <th>439396</th>\n",
       "      <td>39.999791</td>\n",
       "      <td>116.327408</td>\n",
       "      <td>572</td>\n",
       "      <td>2009-07-29 06:16:11</td>\n",
       "    </tr>\n",
       "  </tbody>\n",
       "</table>\n",
       "<p>439397 rows × 4 columns</p>\n",
       "</div>"
      ],
      "text/plain": [
       "              lat         lon  alt                time\n",
       "0       39.999974  116.327149  143 2008-10-23 17:58:52\n",
       "1       40.000011  116.327161  126 2008-10-23 17:58:58\n",
       "2       40.000008  116.327135  135 2008-10-23 17:59:03\n",
       "3       40.000016  116.327126  135 2008-10-23 17:59:08\n",
       "4       40.000003  116.327098  141 2008-10-23 17:59:13\n",
       "...           ...         ...  ...                 ...\n",
       "439392  39.999916  116.327657  605 2009-07-29 06:15:51\n",
       "439393  39.999934  116.327693  610 2009-07-29 06:15:56\n",
       "439394  39.999803  116.327442  573 2009-07-29 06:16:01\n",
       "439395  39.999790  116.327409  572 2009-07-29 06:16:06\n",
       "439396  39.999791  116.327408  572 2009-07-29 06:16:11\n",
       "\n",
       "[439397 rows x 4 columns]"
      ]
     },
     "execution_count": 15,
     "metadata": {},
     "output_type": "execute_result"
    }
   ],
   "source": [
    "trajDataFrames[4]"
   ]
  },
  {
   "cell_type": "markdown",
   "metadata": {},
   "source": [
    "Plotting of the trajectory for user 000"
   ]
  },
  {
   "cell_type": "code",
   "execution_count": 16,
   "metadata": {},
   "outputs": [
    {
     "data": {
      "image/png": "[encoded data removed]",
      "text/plain": [
       "<Figure size 576x576 with 1 Axes>"
      ]
     },
     "metadata": {
      "needs_background": "light"
     },
     "output_type": "display_data"
    }
   ],
   "source": [
    "plot_traj(trajDataFrames[0])"
   ]
  },
  {
   "cell_type": "code",
   "execution_count": 17,
   "metadata": {},
   "outputs": [
    {
     "data": {
      "image/png": "[encoded data removed]",
      "text/plain": [
       "<Figure size 576x576 with 1 Axes>"
      ]
     },
     "metadata": {
      "needs_background": "light"
     },
     "output_type": "display_data"
    }
   ],
   "source": [
    "plot_traj(trajDataFrames[1])"
   ]
  },
  {
   "cell_type": "code",
   "execution_count": 18,
   "metadata": {},
   "outputs": [
    {
     "data": {
      "image/png": "[encoded data removed]",
      "text/plain": [
       "<Figure size 576x576 with 1 Axes>"
      ]
     },
     "metadata": {
      "needs_background": "light"
     },
     "output_type": "display_data"
    }
   ],
   "source": [
    "plot_traj(trajDataFrames[2])"
   ]
  },
  {
   "cell_type": "code",
   "execution_count": 19,
   "metadata": {},
   "outputs": [
    {
     "data": {
      "image/png": "[encoded data removed]",
      "text/plain": [
       "<Figure size 576x576 with 1 Axes>"
      ]
     },
     "metadata": {
      "needs_background": "light"
     },
     "output_type": "display_data"
    }
   ],
   "source": [
    "plot_traj(trajDataFrames[3])"
   ]
  },
  {
   "cell_type": "code",
   "execution_count": 20,
   "metadata": {},
   "outputs": [
    {
     "data": {
      "image/png": "[encoded data removed]",
      "text/plain": [
       "<Figure size 576x576 with 1 Axes>"
      ]
     },
     "metadata": {
      "needs_background": "light"
     },
     "output_type": "display_data"
    }
   ],
   "source": [
    "plot_traj(trajDataFrames[4])"
   ]
  },
  {
   "cell_type": "code",
   "execution_count": null,
   "metadata": {
    "scrolled": true
   },
   "outputs": [],
   "source": [
    "# m = folium.Map([40, 116.5], zoom_start=10)\n",
    "\n",
    "# for index, row in traj000.iterrows():\n",
    "#     folium.CircleMarker([row['lat'], row['lon']],\n",
    "#                             radius=0.001,\n",
    "#                             fill_color=\"#3db7e4\", # divvy color\n",
    "#                            ).add_to(m)\n",
    "\n",
    "# # plot heatmap\n",
    "# # m.add_child(plugins.HeatMap(valid_df[['y', 'x']].to_numpy(), radius=15))\n",
    "\n",
    "# m"
   ]
  },
  {
   "cell_type": "markdown",
   "metadata": {},
   "source": [
    "# Noise Filtering with mean and median filter <a id=\"filtering\"></a>\n",
    "\n",
    "The travel history of the users might not be entirely accurate, for example the geolocation of the user might be bouncing to and from different locations due to signalling error. The procedure to remove such noise is called **noise filtering**.\n",
    "\n",
    "[Back to top](#top)"
   ]
  },
  {
   "cell_type": "code",
   "execution_count": 21,
   "metadata": {},
   "outputs": [
    {
     "data": {
      "text/html": [
       "<div>\n",
       "<style scoped>\n",
       "    .dataframe tbody tr th:only-of-type {\n",
       "        vertical-align: middle;\n",
       "    }\n",
       "\n",
       "    .dataframe tbody tr th {\n",
       "        vertical-align: top;\n",
       "    }\n",
       "\n",
       "    .dataframe thead th {\n",
       "        text-align: right;\n",
       "    }\n",
       "</style>\n",
       "<table border=\"1\" class=\"dataframe\">\n",
       "  <thead>\n",
       "    <tr style=\"text-align: right;\">\n",
       "      <th></th>\n",
       "      <th>lon</th>\n",
       "      <th>lat</th>\n",
       "      <th>time</th>\n",
       "      <th>inacc_radius</th>\n",
       "    </tr>\n",
       "  </thead>\n",
       "  <tbody>\n",
       "    <tr>\n",
       "      <th>0</th>\n",
       "      <td>101.354458</td>\n",
       "      <td>1.712698</td>\n",
       "      <td>340.410672</td>\n",
       "      <td>63.489769</td>\n",
       "    </tr>\n",
       "    <tr>\n",
       "      <th>1</th>\n",
       "      <td>107.772013</td>\n",
       "      <td>3.998433</td>\n",
       "      <td>172.383462</td>\n",
       "      <td>54.618867</td>\n",
       "    </tr>\n",
       "    <tr>\n",
       "      <th>2</th>\n",
       "      <td>102.140705</td>\n",
       "      <td>1.173803</td>\n",
       "      <td>281.055156</td>\n",
       "      <td>65.598080</td>\n",
       "    </tr>\n",
       "    <tr>\n",
       "      <th>3</th>\n",
       "      <td>107.827054</td>\n",
       "      <td>2.384659</td>\n",
       "      <td>320.704720</td>\n",
       "      <td>0.991137</td>\n",
       "    </tr>\n",
       "    <tr>\n",
       "      <th>4</th>\n",
       "      <td>107.700510</td>\n",
       "      <td>1.029790</td>\n",
       "      <td>405.419233</td>\n",
       "      <td>97.832439</td>\n",
       "    </tr>\n",
       "  </tbody>\n",
       "</table>\n",
       "</div>"
      ],
      "text/plain": [
       "          lon       lat        time  inacc_radius\n",
       "0  101.354458  1.712698  340.410672     63.489769\n",
       "1  107.772013  3.998433  172.383462     54.618867\n",
       "2  102.140705  1.173803  281.055156     65.598080\n",
       "3  107.827054  2.384659  320.704720      0.991137\n",
       "4  107.700510  1.029790  405.419233     97.832439"
      ]
     },
     "execution_count": 21,
     "metadata": {},
     "output_type": "execute_result"
    }
   ],
   "source": [
    "traj = genTrajectory(NUM_POINTS=100)\n",
    "traj.head()"
   ]
  },
  {
   "cell_type": "markdown",
   "metadata": {},
   "source": [
    "## Comparing the performance of mean filter and median filter"
   ]
  },
  {
   "cell_type": "code",
   "execution_count": 22,
   "metadata": {},
   "outputs": [
    {
     "data": {
      "image/png": "[encoded data removed]",
      "text/plain": [
       "<Figure size 1152x576 with 2 Axes>"
      ]
     },
     "metadata": {
      "needs_background": "light"
     },
     "output_type": "display_data"
    }
   ],
   "source": [
    "traj = genTrajectory(NUM_POINTS=50)\n",
    "\n",
    "mean_traj = getFilteredTraj(traj, filter_type=\"mean\")\n",
    "median_traj = getFilteredTraj(traj, filter_type=\"median\")\n",
    "\n",
    "plot_filtered_traj(traj, mean_traj, median_traj, window_size=3)"
   ]
  },
  {
   "cell_type": "markdown",
   "metadata": {},
   "source": [
    "# Stay Point Detection Algorithm <a id=\"SPDA\"></a>\n",
    "\n",
    "In the [paper](https://github.com/tyqiangz/Trajectory-Data-Mining/blob/master/Useful%20Research%20Materials/Stay%20Point%20Analysis%20in%20Automatic%20Identification%20System%20Trajectory%20Data.pdf), the authors introduced the Stay Point Detection algorithm to identify locations where the user have stayed for awhile. \n",
    "\n",
    "The parameters of SPDA is set as `distThres` = 200 (metres), `timeThres` = 30\\*60 (seconds), `minpoints` = 50, in accordance to what the authors proposed.\n",
    "\n",
    "[Back to top](#top)"
   ]
  },
  {
   "cell_type": "markdown",
   "metadata": {},
   "source": [
    "Note that the first 5 users have 1.5 million datapoints combined, the following algorithm runs in linear time and takes 45 mins to find the stay points for 173,870 points."
   ]
  },
  {
   "cell_type": "code",
   "execution_count": 30,
   "metadata": {},
   "outputs": [],
   "source": [
    "def SPDA_fast(traj, distThres, timeThres, minPoints):\n",
    "    # reorder the columns to have columns 'time', 'lon', 'lat' first\n",
    "    cols = list(traj.columns.values)\n",
    "    features = ['time', 'lon', 'lat']\n",
    "    for feature in features:\n",
    "        cols.remove(feature)\n",
    "    reOrderedFeatures = ['time', 'lon', 'lat'] + cols\n",
    "    \n",
    "    # convert dataframe to numpy array\n",
    "    traj_numpy = traj[reOrderedFeatures].to_numpy()\n",
    "    \n",
    "    return SPDA_faster(traj_numpy, distThres, timeThres, minPoints)"
   ]
  },
  {
   "cell_type": "code",
   "execution_count": 33,
   "metadata": {},
   "outputs": [
    {
     "name": "stderr",
     "output_type": "stream",
     "text": [
      "\n",
      "Error compiling Cython file:\n",
      "------------------------------------------------------------\n",
      "...\n",
      "                timeDiff = (traj_numpy[j,0] - traj_numpy[i,0]).total_seconds()\n",
      "                if (timeDiff > timeThres) and (j-i >= minPoints):\n",
      "                    centroid = getCentroid(traj_numpy[i:(j-1),:], \"median\")\n",
      "                    print(centroid)\n",
      "                    stayPoints.append(\n",
      "                        stayPoint(\n",
      "                       ^\n",
      "------------------------------------------------------------\n",
      "\n",
      "C:\\Users\\Tay\\.ipython\\cython\\_cython_magic_fb75f97de4aabeb856e123a1a1907530.pyx:46:24: undeclared name not builtin: stayPoint\n",
      "\n",
      "Error compiling Cython file:\n",
      "------------------------------------------------------------\n",
      "...\n",
      "        '''\n",
      "        :param pointA: a point with lat and lon variables\n",
      "        :param pointB: a point with lat and lon variables\n",
      "        :return: the distance between pointA and pointB calculated by Haversine formula\n",
      "        '''\n",
      "        return haversine(pointA[1], pointA[2], pointB[1], pointB[2])\n",
      "              ^\n",
      "------------------------------------------------------------\n",
      "\n",
      "C:\\Users\\Tay\\.ipython\\cython\\_cython_magic_fb75f97de4aabeb856e123a1a1907530.pyx:16:15: undeclared name not builtin: haversine\n",
      "\n",
      "Error compiling Cython file:\n",
      "------------------------------------------------------------\n",
      "...\n",
      "        :param centroid_type: \"median\" or \"mean\"\n",
      "        :return: the centre of the list of points, calculated by centroid_type function\n",
      "        '''\n",
      "#         print(\"centroid points:\\n\", points)\n",
      "        if centroid_type == \"median\":\n",
      "            return [median(points[:,1]), median(points[:,2])]\n",
      "                   ^\n",
      "------------------------------------------------------------\n",
      "\n",
      "C:\\Users\\Tay\\.ipython\\cython\\_cython_magic_fb75f97de4aabeb856e123a1a1907530.pyx:26:20: undeclared name not builtin: median\n",
      "\n",
      "Error compiling Cython file:\n",
      "------------------------------------------------------------\n",
      "...\n",
      "        '''\n",
      "#         print(\"centroid points:\\n\", points)\n",
      "        if centroid_type == \"median\":\n",
      "            return [median(points[:,1]), median(points[:,2])]\n",
      "        elif centroid_type == \"mean\":\n",
      "            return [mean(points[:,1]), mean(points[:,2])]\n",
      "                   ^\n",
      "------------------------------------------------------------\n",
      "\n",
      "C:\\Users\\Tay\\.ipython\\cython\\_cython_magic_fb75f97de4aabeb856e123a1a1907530.pyx:28:20: undeclared name not builtin: mean\n"
     ]
    }
   ],
   "source": [
    "%%cython\n",
    "def SPDA_faster(traj_numpy, distThres, timeThres, minPoints):\n",
    "    '''\n",
    "    :param traj: a numpy ndarray where first 3 columns refer to variables ['time', 'lon', 'lat']\n",
    "    :param distThres: a threshold of the distance (in metres)\n",
    "    :param timeThres: a threshold of the time (in seconds)\n",
    "    :param minPoints: the minimum no. of points required in a stay-point region\n",
    "    :output: a set of stay-points\n",
    "    \n",
    "    '''\n",
    "    def distance(pointA, pointB):\n",
    "        '''\n",
    "        :param pointA: a point with lat and lon variables\n",
    "        :param pointB: a point with lat and lon variables\n",
    "        :return: the distance between pointA and pointB calculated by Haversine formula\n",
    "        '''\n",
    "        return haversine(pointA[1], pointA[2], pointB[1], pointB[2])\n",
    "    \n",
    "    def getCentroid(points, centroid_type):\n",
    "        '''\n",
    "        :param points: a list of points with lat and lon variables\n",
    "        :param centroid_type: \"median\" or \"mean\"\n",
    "        :return: the centre of the list of points, calculated by centroid_type function\n",
    "        '''\n",
    "#         print(\"centroid points:\\n\", points)\n",
    "        if centroid_type == \"median\":\n",
    "            return [median(points[:,1]), median(points[:,2])]\n",
    "        elif centroid_type == \"mean\":\n",
    "            return [mean(points[:,1]), mean(points[:,2])]\n",
    "        \n",
    "    i = 0\n",
    "    pointNum = len(traj_numpy)\n",
    "    stayPoints = []\n",
    "    \n",
    "    while i < pointNum:\n",
    "        j = i+1\n",
    "        token = 0\n",
    "        while j < pointNum:\n",
    "#             print(\"Analysing point: \" + str(j) + \" \"*5, \"\\r\", end=\"\")\n",
    "            dist = distance(traj_numpy[j,:], traj_numpy[i,:])\n",
    "            if dist > distThres:\n",
    "                timeDiff = (traj_numpy[j,0] - traj_numpy[i,0]).total_seconds()\n",
    "                if (timeDiff > timeThres) and (j-i >= minPoints):\n",
    "                    centroid = getCentroid(traj_numpy[i:(j-1),:], \"median\")\n",
    "                    print(centroid)\n",
    "                    stayPoints.append(\n",
    "                        stayPoint(\n",
    "                            arrivalTime = traj_numpy[i,0], \n",
    "                            departTime = traj_numpy[j,0], \n",
    "                            startIndex = i,\n",
    "                            endIndex = j,\n",
    "                            location = centroid\n",
    "                        )\n",
    "                    )\n",
    "                    \n",
    "                    i = j\n",
    "                    token = 1\n",
    "                break\n",
    "            j += 1\n",
    "            \n",
    "        if token != 1:\n",
    "            i += 1\n",
    "            \n",
    "    return stayPoints"
   ]
  },
  {
   "cell_type": "code",
   "execution_count": null,
   "metadata": {},
   "outputs": [],
   "source": [
    "%%time\n",
    "%%prun\n",
    "stayPointsList = [SPDA(trajDataFrames[i].iloc[:5000,:], distThres=200, timeThres=30*60, minPoints=50)\n",
    "                  for i in range(1)]"
   ]
  },
  {
   "cell_type": "code",
   "execution_count": null,
   "metadata": {},
   "outputs": [],
   "source": [
    "len(stayPointsList)"
   ]
  },
  {
   "cell_type": "code",
   "execution_count": null,
   "metadata": {},
   "outputs": [],
   "source": [
    "for point in stayPointsList[0]:\n",
    "    point.toString()"
   ]
  },
  {
   "cell_type": "code",
   "execution_count": null,
   "metadata": {
    "scrolled": true
   },
   "outputs": [],
   "source": [
    "%%time\n",
    "%%prun\n",
    "stayPointsList_fast = [SPDA_fast(trajDataFrames[i].iloc[:5000,:], distThres=200, timeThres=30*60, minPoints=50)\n",
    "                  for i in range(1)]"
   ]
  },
  {
   "cell_type": "code",
   "execution_count": null,
   "metadata": {},
   "outputs": [],
   "source": [
    "len(stayPointsList_fast)"
   ]
  },
  {
   "cell_type": "code",
   "execution_count": null,
   "metadata": {},
   "outputs": [],
   "source": [
    "for point in stayPointsList_fast[0]:\n",
    "    point.toString()"
   ]
  },
  {
   "cell_type": "code",
   "execution_count": null,
   "metadata": {},
   "outputs": [],
   "source": [
    "for i in range(len(stayPointsList)):\n",
    "    print(\"Number of staypoints for user 00\" + str(i) + \": \" + str(len(stayPointsList[i])))"
   ]
  },
  {
   "cell_type": "markdown",
   "metadata": {},
   "source": [
    "Function to calculate the distance from a given point to anearest point in a dataset of point."
   ]
  },
  {
   "cell_type": "code",
   "execution_count": null,
   "metadata": {},
   "outputs": [],
   "source": [
    "def getShortestDist(df, lon, lat):\n",
    "    '''\n",
    "    :param df: a dataframe with variables `lat` and `lon` variables\n",
    "    :param lon: longitude of a point\n",
    "    :param lat: latitude of a point\n",
    "    :return: the shortest distance from the point (`lon`, `lat`) to any point in `df`\n",
    "    '''\n",
    "    return min(df[[\"lon\",\"lat\"]].apply(lambda x: haversine(x[0], x[1], lon, lat), axis=1))"
   ]
  },
  {
   "cell_type": "markdown",
   "metadata": {},
   "source": [
    "**Plot each user's stay points and all distinct points**\n",
    "\n",
    "Looks like most people were from Tsinghua University and occasionally travel to Shanghai."
   ]
  },
  {
   "cell_type": "code",
   "execution_count": null,
   "metadata": {
    "scrolled": false
   },
   "outputs": [],
   "source": [
    "stayPoints000Map = folium.Map([40, 116.5], zoom_start=6)\n",
    "\n",
    "for i in range(len(trajDataFrames[0].iloc[::15,:])):\n",
    "    folium.CircleMarker([trajDataFrames[0].loc[15*i,\"lat\"], trajDataFrames[0].loc[15*i,\"lon\"]],\n",
    "                            radius=1,\n",
    "                            color=\"black\",\n",
    "                           ).add_to(stayPoints000Map)\n",
    "    \n",
    "for stayPoint in stayPointsList[0]:\n",
    "    folium.CircleMarker([stayPoint.location[1], stayPoint.location[0]],\n",
    "                            radius=10,\n",
    "                            color=\"#3db7e4\", # divvy color\n",
    "                           ).add_to(stayPoints000Map)\n",
    "plugins.Fullscreen().add_to(stayPoints000Map)\n",
    "\n",
    "stayPoints000Map"
   ]
  },
  {
   "cell_type": "code",
   "execution_count": null,
   "metadata": {},
   "outputs": [],
   "source": [
    "getShortestDist(trajDataFrames[0], stayPointsList[0][0].location[0], stayPointsList[0][0].location[1])"
   ]
  },
  {
   "cell_type": "code",
   "execution_count": null,
   "metadata": {},
   "outputs": [],
   "source": [
    "stayPointsList[0][0].location"
   ]
  },
  {
   "cell_type": "markdown",
   "metadata": {},
   "source": [
    "Plotting all the staypoints in 1 map"
   ]
  },
  {
   "cell_type": "code",
   "execution_count": null,
   "metadata": {},
   "outputs": [],
   "source": [
    "stayPointsMap = folium.Map([40, 116.5], zoom_start=5)\n",
    "\n",
    "colors = [\"red\", \"blue\", \"green\", \"orange\", \"gray\"]\n",
    "\n",
    "for i in range(len(stayPointsList)):\n",
    "    for stayPoint in stayPointsList[i]:\n",
    "        folium.CircleMarker([stayPoint.location[1], stayPoint.location[0]],\n",
    "                                radius=10,\n",
    "                                color=colors[i],\n",
    "                                fill_color=colors[i],\n",
    "                               ).add_to(stayPointsMap)\n",
    "\n",
    "stayPointsMap"
   ]
  },
  {
   "cell_type": "markdown",
   "metadata": {},
   "source": [
    "## Clustering the stay points <a id=\"SPDA_Clustering\"></a>\n",
    "\n",
    "Here we use DBSCAN to do clustering, we experiment with some values of `eps`.\n",
    "\n",
    "[Back to top](#top)"
   ]
  },
  {
   "cell_type": "markdown",
   "metadata": {},
   "source": [
    "First we collect all the stay points in a dataframe for easier data processing."
   ]
  },
  {
   "cell_type": "code",
   "execution_count": null,
   "metadata": {},
   "outputs": [],
   "source": [
    "stayPoints_df = pd.DataFrame(columns=[\"UserID\", \"lat\", \"lon\", \"arrivalTime\", \"departTime\", \n",
    "                                      \"startIndex\", \"endIndex\",\"ClusterID\"])\n",
    "\n",
    "for i in range(len(stayPointsList)):\n",
    "    for j in range(len(stayPointsList[i])):\n",
    "        point = stayPointsList[i][j]\n",
    "        stayPoints_df.loc[stayPoints_df.shape[0], :] = [i, point.location[1], point.location[0], \n",
    "                                                         point.arrivalTime, point.departTime,\n",
    "                                                         point.startIndex, point.endIndex, np.nan]"
   ]
  },
  {
   "cell_type": "code",
   "execution_count": null,
   "metadata": {},
   "outputs": [],
   "source": [
    "stayPoints_df"
   ]
  },
  {
   "cell_type": "markdown",
   "metadata": {},
   "source": [
    "Let's check how much the `lat` and `lon` vary."
   ]
  },
  {
   "cell_type": "code",
   "execution_count": null,
   "metadata": {},
   "outputs": [],
   "source": [
    "min(stayPoints_df.lat), max(stayPoints_df.lat)"
   ]
  },
  {
   "cell_type": "code",
   "execution_count": null,
   "metadata": {},
   "outputs": [],
   "source": [
    "min(stayPoints_df.lon), max(stayPoints_df.lon)"
   ]
  },
  {
   "cell_type": "markdown",
   "metadata": {},
   "source": [
    "All the stay points are mainly within Tsinghua university so the (`lat`, `lon`) values are only within 0.5 degrees of each other. We try a few values and plot to see if it makes sense.\n",
    "\n",
    "Note: DBSCAN labels outliers with a label = `-1`, I don't plot the outliers."
   ]
  },
  {
   "cell_type": "code",
   "execution_count": null,
   "metadata": {},
   "outputs": [],
   "source": [
    "clustering = DBSCAN(eps=0.005, min_samples=3).fit(stayPoints_df[[\"lat\", \"lon\"]])\n",
    "stayPoints_df.ClusterID =  clustering.labels_\n",
    "print(\"Number of clusters: \" + str(len(stayPoints_df.ClusterID.unique())-1))"
   ]
  },
  {
   "cell_type": "code",
   "execution_count": null,
   "metadata": {},
   "outputs": [],
   "source": [
    "stayPointClustersMap = folium.Map([40, 116.5], zoom_start=10)\n",
    "\n",
    "colors = [\"red\", \"blue\", \"green\", \"orange\", \"gray\", \"pink\"]\n",
    "\n",
    "for i in stayPoints_df.ClusterID.unique():\n",
    "    if i == -1:\n",
    "        continue\n",
    "    temp_df = stayPoints_df.loc[stayPoints_df.ClusterID == i, :]\n",
    "    temp_df = temp_df.reset_index(drop=True)\n",
    "    for j in range(temp_df.shape[0]):\n",
    "        folium.CircleMarker([temp_df.lat[j], temp_df.lon[j]],\n",
    "                                radius=10,\n",
    "                                color=colors[i],\n",
    "                                fill_color=colors[i],\n",
    "                               ).add_to(stayPointClustersMap)\n",
    "\n",
    "stayPointClustersMap"
   ]
  },
  {
   "cell_type": "code",
   "execution_count": null,
   "metadata": {},
   "outputs": [],
   "source": [
    "clustering = DBSCAN(eps=0.002, min_samples=3).fit(stayPoints_df[[\"lat\", \"lon\"]])\n",
    "stayPoints_df.ClusterID =  clustering.labels_\n",
    "print(\"Number of clusters: \" + str(len(stayPoints_df.ClusterID.unique()) - 1))"
   ]
  },
  {
   "cell_type": "code",
   "execution_count": null,
   "metadata": {},
   "outputs": [],
   "source": [
    "stayPointClustersMap = folium.Map([40, 116.5], zoom_start=10)\n",
    "\n",
    "colors = ['red', 'blue', 'green', 'purple', 'orange', \n",
    "          'pink', 'black', 'gray', 'darkred', 'darkblue', \n",
    "          'darkgreen', 'darkpurple', 'lightblue', 'lightgreen']\n",
    "\n",
    "for i in stayPoints_df.ClusterID.unique():\n",
    "    if i == -1:\n",
    "        continue\n",
    "    temp_df = stayPoints_df.loc[stayPoints_df.ClusterID == i, :]\n",
    "    temp_df = temp_df.reset_index(drop=True)\n",
    "    for j in range(temp_df.shape[0]):\n",
    "        folium.CircleMarker([temp_df.lat[j], temp_df.lon[j]],\n",
    "                                radius=10,\n",
    "                                color=colors[i],\n",
    "                                fill_color=colors[i],\n",
    "                               ).add_to(stayPointClustersMap)\n",
    "\n",
    "stayPointClustersMap"
   ]
  },
  {
   "cell_type": "code",
   "execution_count": null,
   "metadata": {},
   "outputs": [],
   "source": [
    "clustering = DBSCAN(eps=0.0025, min_samples=3).fit(stayPoints_df[[\"lat\", \"lon\"]])\n",
    "stayPoints_df.ClusterID =  clustering.labels_\n",
    "print(\"Number of clusters: \" + str(len(stayPoints_df.ClusterID.unique()) - 1))"
   ]
  },
  {
   "cell_type": "code",
   "execution_count": null,
   "metadata": {},
   "outputs": [],
   "source": [
    "stayPointClustersMap = folium.Map([40, 116.5], zoom_start=10)\n",
    "\n",
    "colors = ['red', 'blue', 'green', 'purple', 'orange', \n",
    "          'pink', 'black', 'gray', 'darkred', 'darkblue', \n",
    "          'darkgreen', 'darkpurple', 'lightblue', 'lightgreen']\n",
    "\n",
    "for i in stayPoints_df.ClusterID.unique():\n",
    "    if i == -1:\n",
    "        continue\n",
    "    temp_df = stayPoints_df.loc[stayPoints_df.ClusterID == i, :]\n",
    "    temp_df = temp_df.reset_index(drop=True)\n",
    "    for j in range(temp_df.shape[0]):\n",
    "        folium.CircleMarker([temp_df.lat[j], temp_df.lon[j]],\n",
    "                                radius=10,\n",
    "                                color=colors[i],\n",
    "                                fill_color=colors[i],\n",
    "                               ).add_to(stayPointClustersMap)\n",
    "\n",
    "stayPointClustersMap"
   ]
  },
  {
   "cell_type": "markdown",
   "metadata": {},
   "source": [
    "Let's try `DBSCAN(eps=0.002, min_samples=3)`, it produces 9 clusters and nicely splits the areas up."
   ]
  },
  {
   "cell_type": "code",
   "execution_count": null,
   "metadata": {},
   "outputs": [],
   "source": [
    "clustering = DBSCAN(eps=0.002, min_samples=3).fit(stayPoints_df[[\"lat\", \"lon\"]])\n",
    "stayPoints_df.ClusterID =  clustering.labels_\n",
    "print(\"Number of clusters: \" + str(len(stayPoints_df.ClusterID.unique()) - 1))"
   ]
  },
  {
   "cell_type": "markdown",
   "metadata": {},
   "source": [
    "For each user, we do the following:\n",
    "- sort their stay points in a chronological order (this is usually done by `SPDA` already)\n",
    "- assign them `clusterID`s\n",
    "- group stay points together if they share the same `clusterID` and occur consecutively within a user's travel\n",
    "- if stay points are grouped together, "
   ]
  },
  {
   "cell_type": "code",
   "execution_count": null,
   "metadata": {},
   "outputs": [],
   "source": [
    "# split the stay points up by userID\n",
    "stayPointsUser_df = [stayPoints_df.loc[stayPoints_df.UserID == i] for i in stayPoints_df.UserID.unique()]"
   ]
  },
  {
   "cell_type": "code",
   "execution_count": null,
   "metadata": {},
   "outputs": [],
   "source": [
    "# remove stay points that are outliers (label = -1)\n",
    "stayPointsUser_df = [stayPointsUser_df[i].loc[stayPointsUser_df[i].ClusterID != -1, :].reset_index(drop=True)\n",
    "                     for i in range(len(stayPointsUser_df))]"
   ]
  },
  {
   "cell_type": "code",
   "execution_count": null,
   "metadata": {},
   "outputs": [],
   "source": [
    "stayPointsUser_df[0].head()"
   ]
  },
  {
   "cell_type": "code",
   "execution_count": null,
   "metadata": {},
   "outputs": [],
   "source": [
    "compressedClusterList = []\n",
    "\n",
    "# compress the stay points for each user\n",
    "for i in range(len(stayPointsUser_df)):\n",
    "    # store the compressed stay points into 1 dataframe for each user\n",
    "    compressed_df = pd.DataFrame(columns = [\"userID\", \"clusterID\", \"num_points\", \"arrivalTime\", \"departTime\"])\n",
    "    \n",
    "    numRows = len(stayPointsUser_df[i])\n",
    "    \n",
    "    # user has no significant stay points, so append an empty dataframe\n",
    "    if numRows == 0:\n",
    "        compressedClusterList.append(compressed_df)\n",
    "        continue\n",
    "    \n",
    "    row = 0\n",
    "    \n",
    "    while row < len(stayPointsUser_df[i]):\n",
    "        tempList = [stayPointsUser_df[i].UserID[row], stayPointsUser_df[i].ClusterID[row], 1, \n",
    "                    stayPointsUser_df[i].arrivalTime[row], stayPointsUser_df[i].departTime[row]]\n",
    "        row += 1\n",
    "        \n",
    "        # dealing with consecutive stay points with same clusterID\n",
    "        while (row < len(stayPointsUser_df[i]) and \n",
    "               stayPointsUser_df[i].ClusterID[row] == stayPointsUser_df[i].ClusterID[row-1]):\n",
    "            # increment number of points\n",
    "            tempList[2] += 1\n",
    "            # edit departure time\n",
    "            tempList[-1] = stayPointsUser_df[i].departTime[row]\n",
    "            row += 1\n",
    "            \n",
    "        compressed_df.loc[len(compressed_df), :] = tempList\n",
    "    \n",
    "    compressedClusterList.append(compressed_df)"
   ]
  },
  {
   "cell_type": "code",
   "execution_count": null,
   "metadata": {
    "scrolled": true
   },
   "outputs": [],
   "source": [
    "compressedClusterList[4]"
   ]
  },
  {
   "cell_type": "markdown",
   "metadata": {},
   "source": [
    "# Longest Common Subsequence problem <a id=\"LCS\"></a>\n",
    "\n",
    "The following algorithm solves the longest common subsequence problem in $O(mn)$ time, where $m$ and $n$ refers to the length of the sequences.\n",
    "\n",
    "[Back to top](#top)"
   ]
  },
  {
   "cell_type": "code",
   "execution_count": null,
   "metadata": {},
   "outputs": [],
   "source": [
    "def sequenceMatching(seq1, seq2, timeThres=2*60):\n",
    "    '''\n",
    "    :param seq1: a dataframe with variables `clusterID`, `arrivalTime` and `departTime`\n",
    "    :param seq2: a dataframe with variables `clusterID`, `arrivalTime` and `departTime`\n",
    "    :param timeThres: time threshold (in seconds)\n",
    "    :return: the length of the longest subsequence between them\n",
    "    '''\n",
    "    m = seq1.shape[0]\n",
    "    n = seq2.shape[0]\n",
    "    \n",
    "    # Build L[m+1][n+1] in bottom up fashion \n",
    "    for i in range(m + 1): \n",
    "        for j in range(n + 1): \n",
    "            if i == 0 or j == 0: \n",
    "                L[i][j] = 0\n",
    "            elif (seq1.clusterID[i-1] == seq2.clusterID[j-1]) and abs(seq1.time[i-1] - seq2.time[j-1]) <= timeThres:\n",
    "                L[i][j] = L[i - 1][j - 1] + 1\n",
    "            else: \n",
    "                L[i][j] = max(L[i - 1][j], \n",
    "                              L[i][j - 1]) \n",
    "    return L[m][n], L"
   ]
  },
  {
   "cell_type": "code",
   "execution_count": null,
   "metadata": {},
   "outputs": [],
   "source": [
    "# Returns set containing all LCS  \n",
    "# for X[0..m-1], Y[0..n-1] \n",
    "def seqMatchingwDPPrint(seq1, seq2, timeThres=2):\n",
    "  \n",
    "    # construct a set to store possible LCS \n",
    "    s = set() \n",
    "  \n",
    "    # If we reaches end of either string, return \n",
    "    # a empty set \n",
    "    if m == 0 or n == 0: \n",
    "        s.add(\"\") \n",
    "        return s \n",
    "  \n",
    "    # If the last characters of X and Y are same \n",
    "    if x[m - 1] == y[n - 1]: \n",
    "  \n",
    "        # recurse for X[0..m-2] and Y[0..n-2] in \n",
    "        # the matrix \n",
    "        tmp = findLCS(x, y, m - 1, n - 1) \n",
    "  \n",
    "        # append current character to all possible LCS \n",
    "        # of substring X[0..m-2] and Y[0..n-2]. \n",
    "        for string in tmp: \n",
    "            s.add(string + x[m - 1]) \n",
    "  \n",
    "    # If the last characters of X and Y are not same \n",
    "    else: \n",
    "  \n",
    "        # If LCS can be constructed from top side of \n",
    "        # the matrix, recurse for X[0..m-2] and Y[0..n-1] \n",
    "        if L[m - 1][n] >= L[m][n - 1]: \n",
    "            s = findLCS(x, y, m - 1, n) \n",
    "  \n",
    "        # If LCS can be constructed from left side of \n",
    "        # the matrix, recurse for X[0..m-1] and Y[0..n-2] \n",
    "        if L[m][n - 1] >= L[m - 1][n]: \n",
    "            tmp = findLCS(x, y, m, n - 1) \n",
    "  \n",
    "            # merge two sets if L[m-1][n] == L[m][n-1] \n",
    "            # Note s will be empty if L[m-1][n] != L[m][n-1] \n",
    "            for i in tmp: \n",
    "                s.add(i) \n",
    "    return s"
   ]
  },
  {
   "cell_type": "code",
   "execution_count": null,
   "metadata": {},
   "outputs": [],
   "source": [
    "SEQ1 = pd.DataFrame(columns=[\"locn\", \"time\"])\n",
    "SEQ1[\"locn\"] = ['A', 'B', 'C', 'A']; SEQ1[\"time\"] = [0, 1, 2, 1.5]\n",
    "\n",
    "SEQ2 = pd.DataFrame(columns=[\"locn\", \"time\"])\n",
    "SEQ2[\"locn\"] = ['C', 'A', 'B', 'C', 'B']; SEQ2[\"time\"] = [0, 2, 2.5, 2.3, 1]"
   ]
  },
  {
   "cell_type": "code",
   "execution_count": null,
   "metadata": {
    "scrolled": true
   },
   "outputs": [],
   "source": [
    "print(seqMatchingwDP(SEQ1, SEQ2))"
   ]
  },
  {
   "cell_type": "code",
   "execution_count": null,
   "metadata": {},
   "outputs": [],
   "source": []
  },
  {
   "cell_type": "code",
   "execution_count": null,
   "metadata": {},
   "outputs": [],
   "source": []
  }
 ],
 "metadata": {
  "kernelspec": {
   "display_name": "Python 3",
   "language": "python",
   "name": "python3"
  },
  "language_info": {
   "codemirror_mode": {
    "name": "ipython",
    "version": 3
   },
   "file_extension": ".py",
   "mimetype": "text/x-python",
   "name": "python",
   "nbconvert_exporter": "python",
   "pygments_lexer": "ipython3",
   "version": "3.7.1"
  }
 },
 "nbformat": 4,
 "nbformat_minor": 2
}
