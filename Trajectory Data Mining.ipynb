{
 "cells": [
  {
   "cell_type": "code",
   "execution_count": 9,
   "metadata": {},
   "outputs": [],
   "source": [
    "import numpy as np\n",
    "import pandas as pd\n",
    "\n",
    "# libraries for plotting graphs/animations\n",
    "import matplotlib.pyplot as plt\n",
    "from matplotlib.animation import FuncAnimation\n",
    "from matplotlib.collections import CircleCollection, PatchCollection\n",
    "from matplotlib.patches import Circle\n",
    "\n",
    "from IPython.display import HTML\n",
    "\n",
    "import time\n",
    "import random\n",
    "from statistics import mean, median\n",
    "from math import radians, cos, sin, asin, sqrt"
   ]
  },
  {
   "cell_type": "code",
   "execution_count": 11,
   "metadata": {},
   "outputs": [],
   "source": [
    "# I implemented some filters in a python file `filters.py`\n",
    "from filters import *"
   ]
  },
  {
   "cell_type": "code",
   "execution_count": 12,
   "metadata": {},
   "outputs": [],
   "source": [
    "def genTrajectory(NUM_POINTS = 20):\n",
    "    # randomly generate distance to take for each time step\n",
    "    x_points = np.array([random.randrange(start=-50, stop=100) for i in range(NUM_POINTS)])/100\n",
    "    y_points = np.array([random.randrange(start=-50, stop=100) for i in range(NUM_POINTS)])/100\n",
    "    t_points = np.array([random.randrange(start=0, stop=1000) for i in range(NUM_POINTS)])/100\n",
    "    rad_inacc = np.array([random.randrange(start=0, stop=100) for i in range(NUM_POINTS)])/100\n",
    "    \n",
    "    # trajectory is just a 3D array of latitude, longitude, time\n",
    "    traj = np.zeros(shape=(NUM_POINTS+1,4))\n",
    "\n",
    "    for i in range(1, NUM_POINTS+1):\n",
    "        traj[i,0] = traj[i-1,0] + x_points[i-1]\n",
    "        traj[i,1] = traj[i-1,1] + y_points[i-1]\n",
    "        traj[i,2] = traj[i-1,2] + t_points[i-1]\n",
    "        \n",
    "    traj[0,3] = random.randrange(start=0,stop=100)/100\n",
    "    traj[1:,3] = rad_inacc\n",
    "    \n",
    "    traj = pd.DataFrame(traj)\n",
    "    traj.columns = [\"lon\", \"lat\", \"time\", \"inacc_radius\"]\n",
    "    \n",
    "    return traj"
   ]
  },
  {
   "cell_type": "markdown",
   "metadata": {},
   "source": [
    "# Noise Filtering with mean and median filter"
   ]
  },
  {
   "cell_type": "code",
   "execution_count": 13,
   "metadata": {},
   "outputs": [
    {
     "data": {
      "text/html": [
       "<div>\n",
       "<style scoped>\n",
       "    .dataframe tbody tr th:only-of-type {\n",
       "        vertical-align: middle;\n",
       "    }\n",
       "\n",
       "    .dataframe tbody tr th {\n",
       "        vertical-align: top;\n",
       "    }\n",
       "\n",
       "    .dataframe thead th {\n",
       "        text-align: right;\n",
       "    }\n",
       "</style>\n",
       "<table border=\"1\" class=\"dataframe\">\n",
       "  <thead>\n",
       "    <tr style=\"text-align: right;\">\n",
       "      <th></th>\n",
       "      <th>lon</th>\n",
       "      <th>lat</th>\n",
       "      <th>time</th>\n",
       "      <th>inacc_radius</th>\n",
       "    </tr>\n",
       "  </thead>\n",
       "  <tbody>\n",
       "    <tr>\n",
       "      <th>0</th>\n",
       "      <td>0.00</td>\n",
       "      <td>0.00</td>\n",
       "      <td>0.00</td>\n",
       "      <td>0.60</td>\n",
       "    </tr>\n",
       "    <tr>\n",
       "      <th>1</th>\n",
       "      <td>0.31</td>\n",
       "      <td>0.84</td>\n",
       "      <td>8.24</td>\n",
       "      <td>0.12</td>\n",
       "    </tr>\n",
       "    <tr>\n",
       "      <th>2</th>\n",
       "      <td>-0.06</td>\n",
       "      <td>1.54</td>\n",
       "      <td>16.96</td>\n",
       "      <td>0.94</td>\n",
       "    </tr>\n",
       "    <tr>\n",
       "      <th>3</th>\n",
       "      <td>-0.12</td>\n",
       "      <td>2.53</td>\n",
       "      <td>19.69</td>\n",
       "      <td>0.37</td>\n",
       "    </tr>\n",
       "    <tr>\n",
       "      <th>4</th>\n",
       "      <td>0.01</td>\n",
       "      <td>2.07</td>\n",
       "      <td>25.77</td>\n",
       "      <td>0.19</td>\n",
       "    </tr>\n",
       "  </tbody>\n",
       "</table>\n",
       "</div>"
      ],
      "text/plain": [
       "    lon   lat   time  inacc_radius\n",
       "0  0.00  0.00   0.00          0.60\n",
       "1  0.31  0.84   8.24          0.12\n",
       "2 -0.06  1.54  16.96          0.94\n",
       "3 -0.12  2.53  19.69          0.37\n",
       "4  0.01  2.07  25.77          0.19"
      ]
     },
     "execution_count": 13,
     "metadata": {},
     "output_type": "execute_result"
    }
   ],
   "source": [
    "traj = genTrajectory()\n",
    "traj.head()"
   ]
  },
  {
   "cell_type": "code",
   "execution_count": 87,
   "metadata": {},
   "outputs": [],
   "source": [
    "def filter(traj, index, filter_type, window_size=3):\n",
    "    '''\n",
    "    :param traj: a dataframe representing a series of lat-lon-time data\n",
    "    :param index: the index of the lat-lon that we want to filter/smoothen\n",
    "    :param window_size: the number of lat-lon values proceeding and preceeding the indexed lat-lon to consider\n",
    "    :param filter_type: \"median\" or \"mean\" filter\n",
    "    :return: an array of size (3,1) with lat-lon-time, time is unchanged, lat-lon is based on the filter\n",
    "    '''\n",
    "    \n",
    "    # we don't modify the start and endpoint of our trajectory\n",
    "    if index == len(traj)-1:\n",
    "        return traj.iloc[-1,:]\n",
    "    if index == 0:\n",
    "        return traj.iloc[0,:]\n",
    "    \n",
    "    x_coors = []\n",
    "    y_coors = []\n",
    "    \n",
    "    # collect the datapoints within the desired window\n",
    "    for i in range(max(0, index-window_size), min(len(traj), index+window_size+1)):\n",
    "        if i==index:\n",
    "            continue\n",
    "        x_coors.append(traj.lon[i])\n",
    "        y_coors.append(traj.lat[i])\n",
    "    \n",
    "    if filter_type == \"mean\":\n",
    "        return np.array([mean(x_coors), mean(y_coors), traj.time[index]])\n",
    "    elif filter_type == \"median\":\n",
    "        return np.array([median(x_coors), median(y_coors), traj.time[index]])\n",
    "    \n",
    "def getFilteredTraj(traj, filter_type, window_size=3):\n",
    "    '''\n",
    "    :param traj: a dataframe representing a series of lat-lon-time data\n",
    "    :param window_size: the number of lat-lon values proceeding and preceeding the indexed lat-lon to consider\n",
    "    :param filter_type: \"median\" or \"mean\" filter\n",
    "    :return: a dataframe with filtered lat-lon, the rest of the variables in `traj` dataframe is unchanged,\n",
    "        filtering of lat-lon is based on the `filter_type`\n",
    "    '''\n",
    "    filteredTraj = traj\n",
    "    filteredTraj = filteredTraj.drop(columns = [\"lat\", \"lon\", \"time\"])\n",
    "    \n",
    "    filteredTraj[\"lon\"] = np.nan\n",
    "    filteredTraj[\"lat\"] = np.nan\n",
    "    filteredTraj[\"time\"] = np.nan\n",
    "    \n",
    "    for i in range(traj.shape[0]):\n",
    "        filteredPoint = filter(traj, i, filter_type, window_size=3)\n",
    "        filteredTraj.loc[i, [\"lon\", \"lat\", \"time\"]] = filteredPoint\n",
    "        \n",
    "    return filteredTraj"
   ]
  },
  {
   "cell_type": "markdown",
   "metadata": {},
   "source": [
    "## Some functions to aid in plotting some trajectories and other information"
   ]
  },
  {
   "cell_type": "code",
   "execution_count": 39,
   "metadata": {},
   "outputs": [],
   "source": [
    "def plot_traj(traj):\n",
    "    '''\n",
    "    :param traj: trajectory\n",
    "    :return:\n",
    "    plots the trajectory\n",
    "    '''\n",
    "    plt.figure(figsize=(8,8))\n",
    "    plt.title(\"Trajectory\")\n",
    "    plt.plot(traj.lon, traj.lat, '-bo')\n",
    "    plt.xlabel(\"longitude\")\n",
    "    plt.ylabel(\"latitude\")\n",
    "    \n",
    "def plot_filtered_traj(traj, mean_traj, median_traj, window_size):\n",
    "    '''\n",
    "    :param traj: a dataframe of lat-lon-time and possibly other variables\n",
    "    :param mean_traj: a dataframe of lat-lon-time and possibly other variables\n",
    "    :param median_traj: a dataframe of lat-lon-time and possibly other variables\n",
    "    :param window_size: window size used in the filters\n",
    "    :return:\n",
    "        plots the mean filtered trajectory and median filtered trajectory side-by-side\n",
    "    '''\n",
    "    fig, axs = plt.subplots(1, 2, figsize=(16,8))\n",
    "    \n",
    "    plt.suptitle(\"Filters of window size \" + str(window_size))\n",
    "    \n",
    "    axs[0].plot(traj.lon, traj.lat, '-bo')\n",
    "    axs[0].plot(mean_traj.lon, mean_traj.lat, '--ro')\n",
    "    axs[0].set_title(\"Randomly generated trajectory\\n(mean filtered)\")\n",
    "    axs[0].legend([\"Original trajectory\", \"Mean filtered trajectory\"], loc='best')\n",
    "\n",
    "    axs[1].plot(traj.lon, traj.lat, '-bo')\n",
    "    axs[1].plot(median_traj.lon, median_traj.lat, '--ro')\n",
    "    axs[1].set_title(\"Randomly generated trajectory\\n(median filtered)\")\n",
    "    axs[1].legend([\"Original trajectory\", \"Median filtered trajectory\"], loc='best')\n",
    "\n",
    "    for ax in axs.flat:\n",
    "        ax.set(xlabel='longitude', ylabel='latitude')"
   ]
  },
  {
   "cell_type": "markdown",
   "metadata": {},
   "source": [
    "## Comparing the performance of mean filter and median filter"
   ]
  },
  {
   "cell_type": "code",
   "execution_count": 111,
   "metadata": {},
   "outputs": [
    {
     "data": {
      "image/png": "[encoded data removed]",
      "text/plain": [
       "<Figure size 1152x576 with 2 Axes>"
      ]
     },
     "metadata": {
      "needs_background": "light"
     },
     "output_type": "display_data"
    }
   ],
   "source": [
    "traj = genTrajectory()\n",
    "\n",
    "mean_traj = getFilteredTraj(traj, filter_type=\"mean\")\n",
    "median_traj = getFilteredTraj(traj, filter_type=\"median\")\n",
    "\n",
    "plot_filtered_traj(traj, mean_traj, median_traj, window_size=3)"
   ]
  },
  {
   "cell_type": "markdown",
   "metadata": {},
   "source": [
    "# Stay Point Detection Algorithm"
   ]
  },
  {
   "cell_type": "code",
   "execution_count": 82,
   "metadata": {},
   "outputs": [],
   "source": [
    "class stayPoint:\n",
    "    def __init__(self, arrivalTime, departTime, startIndex, endIndex, radius, location):\n",
    "        self.arrivalTime = arrivalTime\n",
    "        self.departTime = departTime\n",
    "        self.radius = radius\n",
    "        self.startIndex = startIndex\n",
    "        self.endIndex = endIndex\n",
    "        self.location = location\n",
    "        \n",
    "    def toString(self):\n",
    "        print(f\"(arrivalTime: {self.arrivalTime}, departTime: {self.departTime}, startIndex: {self.startIndex}, \"+\n",
    "            f\"endIndex: {self.endIndex}, radius: {self.radius}, location: {self.location})\")"
   ]
  },
  {
   "cell_type": "code",
   "execution_count": 52,
   "metadata": {},
   "outputs": [],
   "source": [
    "def SPDA(traj, distThres, timeThres, minPoints):\n",
    "    '''\n",
    "    :param traj: a trajectory\n",
    "    :param distThres: a threshold of the distance\n",
    "    :param timeThres: a threshold of the time\n",
    "    :param minPoints: the minimum no. of points required in a stay-point region\n",
    "    :output: a set of stay-points\n",
    "    '''\n",
    "    def distance(pointA, pointB):\n",
    "        '''\n",
    "        :param pointA: a point with lat and lon variables\n",
    "        :param pointB: a point with lat and lon variables\n",
    "        :return: the distance between pointA and pointB calculated by Haversine formula\n",
    "        '''\n",
    "        return sqrt((pointA.lon - pointB.lon)**2 + (pointA.lat - pointB.lat)**2)\n",
    "    \n",
    "    def getCentroid(points, centroid_type):\n",
    "        '''\n",
    "        :param points: a list of points with lat and lon variables\n",
    "        :param centroid_type: \"median\" or \"mean\"\n",
    "        :return: the centre of the list of points, calculated by centroid_type function\n",
    "        '''\n",
    "#         print(\"centroid points:\\n\", points)\n",
    "        if centroid_type == \"median\":\n",
    "            return [median(points.loc[:,\"lon\"]), median(points.loc[:,\"lat\"])]\n",
    "        elif centroid_type == \"mean\":\n",
    "            return [mean(points.loc[:,\"lon\"]), mean(points.loc[:,\"lat\"])]\n",
    "        \n",
    "    def getRadius(points, center):\n",
    "        '''\n",
    "        :param points: a list of points with variables lat and lon\n",
    "        :param center: center of the desired circle\n",
    "        :return: radius. The circle with radius and center will cover all points\n",
    "        '''\n",
    "        points = points.reset_index()\n",
    "        distDiff = []\n",
    "        for i in range(len(points)):\n",
    "            distDiff.append(sqrt((points.lon[i] - center[0])**2 + (points.lat[i] - center[1])**2))\n",
    "        \n",
    "        return max(distDiff)\n",
    "        \n",
    "    i = 0\n",
    "    pointNum = len(traj)\n",
    "    stayPoints = []\n",
    "    \n",
    "    while i < pointNum:\n",
    "        j = i+1\n",
    "        token = 0\n",
    "        while j < pointNum:\n",
    "            dist = distance(traj.iloc[j,:], traj.iloc[i,:])\n",
    "            if dist < distThres:\n",
    "                timeDiff = traj.time[j] - traj.time[i]\n",
    "                if timeDiff > timeThres and j >= i+minPoints:\n",
    "                    centroid = getCentroid(traj.loc[i:(j-1),:], \"mean\")\n",
    "                    radius = getRadius(traj.loc[i:(j-1),:], centroid)\n",
    "                    stayPoints.append(\n",
    "                        stayPoint(\n",
    "                            arrivalTime = traj.time[i], \n",
    "                            departTime = traj.time[j], \n",
    "                            startIndex = i,\n",
    "                            endIndex = j,\n",
    "                            radius = radius,\n",
    "                            location = centroid\n",
    "                        )\n",
    "                    )\n",
    "                    \n",
    "                    i = j\n",
    "                    token = 1\n",
    "                break\n",
    "            j += 1\n",
    "            \n",
    "        if token != 1:\n",
    "            i += 1\n",
    "            \n",
    "    return stayPoints"
   ]
  },
  {
   "cell_type": "code",
   "execution_count": 126,
   "metadata": {},
   "outputs": [],
   "source": [
    "haversine??"
   ]
  },
  {
   "cell_type": "code",
   "execution_count": 20,
   "metadata": {},
   "outputs": [],
   "source": [
    "stayPoints = SPDA(traj, 0.5, 0.5, 2)"
   ]
  },
  {
   "cell_type": "code",
   "execution_count": 106,
   "metadata": {},
   "outputs": [
    {
     "data": {
      "image/png": "[encoded data removed]",
      "text/plain": [
       "<Figure size 720x720 with 1 Axes>"
      ]
     },
     "metadata": {
      "needs_background": "light"
     },
     "output_type": "display_data"
    }
   ],
   "source": [
    "plt.close()\n",
    "\n",
    "plt.figure(figsize=(10,10))\n",
    "ax = plt.gca()\n",
    "\n",
    "for point in stayPoints:\n",
    "    plt.plot([point.location[0]], [point.location[1]], 'ro')\n",
    "    draw_circle = plt.Circle((point.location[0], point.location[1]), point.radius, fill=False, color='r')\n",
    "    ax.add_artist(draw_circle)\n",
    "\n",
    "plt.title('Trajectory and Stay points')\n",
    "plt.plot(traj.lon, traj.lat, '-bo')\n",
    "ax.set_aspect(1.0)  # make aspect ratio square\n",
    "\n",
    "plt.show()"
   ]
  },
  {
   "cell_type": "code",
   "execution_count": 4,
   "metadata": {
    "collapsed": true
   },
   "outputs": [
    {
     "data": {
      "application/vnd.plotly.v1+json": {
       "config": {
        "plotlyServerURL": "https://plot.ly"
       },
       "data": [
        {
         "mode": "lines+markers",
         "type": "scatter",
         "x": [
          2.730955413648459,
          1.724709613857466,
          1.762322711481445,
          1.5171641200297232,
          2.389433433196105,
          0.9643075864038728,
          2.785165293897416,
          1.6574568945972037,
          2.1435675932256943,
          1.8877833310351655,
          2.6579485716702385,
          1.0729366807260556,
          1.8549122581939217,
          1.827175540399213,
          2.5101962490509466,
          1.505048929708686,
          1.922407306602304,
          1.6049637119353828,
          2.018996186022017,
          2.2622668461721203,
          1.5047213702541855,
          2.5151256694278263,
          2.405715824266758,
          2.2261224525058405,
          2.405385177168985,
          1.6923224633715501,
          1.9446993985166083,
          1.578903754583419,
          1.879450364168293,
          2.2386599600321837,
          1.688752661723611,
          1.8214609129148103,
          1.6907722849461804,
          1.619657461325576,
          1.6979392411234313,
          1.9943009304864945,
          1.497210343114125,
          2.1054870640176913,
          2.7469109796994418,
          2.333919872259801,
          1.9136740014372733,
          1.6005669661618236,
          1.663778767812123,
          2.761604570462486,
          2.0228634896492133,
          1.713351959043791,
          2.0859119681003597,
          2.945114811415479,
          2.054071528616733,
          2.2777413993683386,
          2.1350766439801223,
          1.8414875690779167,
          1.485866810890037,
          1.8427957749142052,
          1.90599759498135,
          2.263980436031989,
          2.3775425362435274,
          2.418995936586601,
          2.1285142963644166,
          2.3983135239218276,
          1.6605209265515062,
          2.5637906698549795,
          2.230818419188104,
          1.865858224203778,
          2.2198331659418735,
          1.9659927291405248,
          2.5092332243531423,
          2.6839175673899893,
          2.9835089329399227,
          1.371576649030338,
          1.3501487875566847,
          1.772990361674097,
          2.0720166812515237,
          2.394276014502301,
          2.1420357262587224,
          1.0900094528791986,
          1.8622081943172326,
          2.3725885891732608,
          2.1035426309139726,
          2.342905031140411,
          1.8999523358253383,
          1.909658868981501,
          2.083952625944728,
          2.184523241243715,
          2.0892348740570466,
          2.0535538906133564,
          1.698201971169936,
          2.1699037038444136,
          2.0548195719461466,
          2.508267758560364,
          2.5395130459556783,
          2.083320387867775,
          1.8311217724594486,
          1.7125713166456,
          2.190572459328851,
          2.034803030756852,
          1.845265845993016,
          2.019618585575411,
          1.7209996202233417,
          2.3141144153324986,
          1.7987921458463008,
          2.5510284671624746,
          2.18157123880586,
          2.26711033545668,
          1.5072896694165312,
          2.0762220948764005,
          2.3332504029933236,
          1.5708347291864295,
          1.88020167229837,
          2.0146765460120113,
          1.38209720588896,
          2.1418217264190313,
          2.380772291413265,
          1.613217826625606,
          2.157745690398848,
          1.4094724649431556,
          1.982587020830277,
          1.2729024403835174,
          2.504637968706049,
          2.1840052420715725,
          1.9889223698558998,
          1.6511772713738782,
          2.5731901685714496,
          2.8851957871646308,
          1.1639081609989614,
          2.5562738137037693,
          2.7324428389170077,
          2.1521052634585143,
          1.4603293854491661,
          2.38850539289481,
          1.9185858640648323,
          1.7282357174930343,
          1.446473838949867,
          2.247741873189297,
          2.3567630896637066,
          1.7194111716440936,
          2.2342593516830167,
          1.4850463746695857,
          2.3608374643421053,
          2.0209552842908654,
          1.9160436026416932,
          1.9542143573618846,
          2.3909987706526405,
          2.3376852379392536,
          2.2382593959587194,
          2.0619655444988236,
          2.0350195075607176,
          2.278271117899336,
          2.104622551630432,
          2.3071481330890182,
          1.860447451916873,
          0.9043230061517875,
          2.4674710708367362,
          2.984140841138416,
          2.198613999605862,
          1.954930145022425,
          1.938599865246785,
          1.9464256155013355,
          2.007834233735002,
          1.4950915720639002,
          1.7673074939358975,
          1.5513379275573818,
          2.1119596226244965,
          1.8665114814331119,
          2.222845095790082,
          1.9213835781158746,
          2.4438508345195586,
          2.0960902556009486,
          2.98581487803638,
          1.1466375846990084,
          1.7088874902852913,
          2.40566910124192,
          3.1377465680628793,
          1.888114350028043,
          2.0196510469302753,
          1.8981585908688776,
          2.5991557006644164,
          1.8707114614357916,
          2.306031427945147,
          1.856089280495598,
          1.4273485601393026,
          2.1410964742085445,
          2.2264331660458967,
          2.581951647139518,
          1.9502988381122077,
          1.7221870713294376,
          2.2532424934785618,
          2.1083316915069794,
          2.126299284705188,
          1.967099283313725,
          2.5221523564971964,
          2.1662717223690757,
          2.8570964187534416,
          2.499975514352227,
          2.2965724082450945,
          1.2676527467226841,
          2.271043676133033,
          2.1891269916411766,
          2.3649282527616,
          2.4699989426182665,
          1.819604813694983,
          2.3708025283026837,
          1.7469625560414097,
          2.8796951337540655,
          1.4006217500672382,
          1.2076901478205473,
          1.257175430379155,
          1.5992499871266281,
          1.4963980706481224,
          2.8802355066666387,
          1.853075225864817,
          1.3957958947801539,
          2.501472339550906,
          1.7360642275302833,
          1.443415980556371,
          2.3941275174421848,
          2.2805129794601147,
          1.8042694926701475,
          2.633393000108553,
          2.0580957108698263,
          2.727627319485785,
          2.226233396899957,
          2.7014624932789366,
          2.0492312133914425,
          1.4511150213594353,
          3.102215892077629,
          1.7544016244078446,
          1.9105229616999964,
          1.6848206727854353,
          1.9084724979659486,
          2.1092012484868077,
          2.0908235804933017,
          2.297459129419412,
          2.806471194039005,
          1.9457909426951716,
          1.445095669049108,
          1.4679568430706649,
          1.700410466810393,
          1.2466118865714806,
          2.371263420997544,
          1.7758038963660148,
          1.860056759763717,
          1.9991488327228983,
          1.3715208089320556,
          1.6124076376507812,
          2.303620186559588,
          2.278342608853832,
          1.800572631184713,
          2.814740711356455,
          1.4124228848490181,
          1.8447557554302592,
          1.8961221155890386,
          0.7431117499340569,
          2.871887966127236,
          2.164849406543026,
          1.5299347781414938,
          2.92302804928585,
          2.263547900077572,
          2.1932867630098842,
          1.7268507208099793,
          2.047800225815848,
          1.313443857696789,
          2.35776174249118,
          1.8315027565205506,
          2.0603216884495805,
          2.5409246879898677,
          2.128136649882076,
          2.118110350458471,
          2.1244246871699826,
          1.6700277782471091,
          2.376202123745421,
          2.6945115998620177,
          2.341462547044069,
          2.3982089665091975,
          1.6052233164868153,
          1.6094957497071833,
          1.351605789068672,
          2.554513881872796,
          1.8856190595766842,
          2.6299297741164436,
          1.6481397427909397,
          1.8031209577271385,
          2.042941289236066,
          2.41465253089678,
          2.027337588109778,
          2.0950061397534725,
          2.007437405287527,
          2.0797344741241823,
          1.497588491951865,
          2.0364171954379753,
          1.9160394529198401,
          1.9744289836013686,
          2.221551450171492,
          1.6936948365460014,
          1.9619713876679166,
          1.8661871527519234,
          2.187785902238688,
          2.3531467929570153,
          1.57005863193184,
          2.263659693996177
         ],
         "y": [
          2.9296024940984755,
          1.3379793833753189,
          1.6264226471081988,
          1.6037400800701231,
          1.8744060253055195,
          2.7302820886793002,
          2.0060087043562294,
          1.6873878821207482,
          2.2798115769375076,
          1.7300879610181186,
          2.505535472909871,
          2.137370168109805,
          2.624950728366621,
          1.7023950905811416,
          3.3638857005674137,
          2.371063081265056,
          2.294561068664015,
          1.976965198576551,
          1.6734812963895076,
          1.6095040950693844,
          1.9388102032547347,
          1.6412285965280917,
          2.127204070511789,
          1.6282561556687059,
          2.2794872153775536,
          2.4302547668561134,
          1.6823717716689721,
          2.536708730489612,
          1.8929261289115178,
          2.519879548739701,
          2.1971748562810567,
          2.5050477447456916,
          1.5513410920116428,
          1.9519427059493486,
          2.653143167265921,
          1.7218834185432894,
          1.0832594484436422,
          1.125834868335595,
          0.8721017062957723,
          1.0486262351374283,
          1.8147623765651828,
          2.575337637278775,
          1.8009968242190721,
          2.1455873091206445,
          1.950503829426377,
          2.0038470254462113,
          1.9243105221148777,
          1.9216188450614042,
          2.207523844989658,
          1.4708077978514082,
          2.454557229800626,
          2.4140080699614934,
          1.9122241966058444,
          2.362427040904482,
          1.6843950081842705,
          1.7582496392560978,
          2.0703187326215375,
          1.9144005387118124,
          1.7980678852977698,
          1.6973983825460317,
          1.7491273751962804,
          2.4226259348884196,
          1.1255044674492414,
          2.1586224639662,
          1.893603371684156,
          2.327516074999842,
          2.2317831261377146,
          0.7478594895561848,
          2.2630909747148418,
          2.1459234095517896,
          2.0098382764819487,
          1.7890967826749489,
          2.38397654988003,
          1.8141368106300355,
          2.825622931992359,
          2.2539722849724413,
          2.962022630347767,
          1.646509701385894,
          1.2098334618952167,
          2.321655318868617,
          2.3837168277763787,
          2.015912043674641,
          1.3075430394149106,
          1.7984471668777466,
          2.2780934902641508,
          1.9171206534558145,
          1.9478066665374216,
          1.9210434641022114,
          1.5797384049680745,
          1.7601408532623803,
          1.3580500607657606,
          2.795581976739962,
          1.786082206187908,
          2.214924581817901,
          1.5401513249114107,
          2.357537707820487,
          1.1570775600641143,
          2.4142768031247304,
          1.98408443380458,
          2.9497722741203196,
          1.4120596672201917,
          2.0343712160718166,
          2.165254316247739,
          2.5548046365693065,
          1.8097143673741511,
          2.0389089829359293,
          1.0358899719151842,
          1.6264240111897814,
          2.203227177749859,
          2.496878446836446,
          1.8732186789204741,
          2.9253599854392323,
          2.792112151902092,
          1.9727063787013355,
          0.9139236494717955,
          1.2000951308873056,
          1.6499635280176643,
          2.5021284985658756,
          2.139622529502695,
          1.0575884826997344,
          1.8970553770084269,
          2.726012618553402,
          1.8313378907138063,
          1.6625136722259501,
          2.924580846133152,
          2.0240342915592566,
          1.784379305546264,
          2.1575752214727255,
          2.00772412686834,
          1.8068859747942079,
          2.5438053478483833,
          2.502065811253019,
          2.3783877011634966,
          1.953700752091908,
          2.5161051693797676,
          1.977633839378596,
          2.2099894702529785,
          2.4651590905727754,
          2.363979962119557,
          2.805389607442822,
          2.2030778072180768,
          1.2421730063592933,
          1.4779234527579757,
          2.6075480684067767,
          1.8509225735303172,
          2.173942615309891,
          1.6168449545611279,
          2.4503966406561353,
          1.8268254880252444,
          2.656148707374284,
          1.76049469059582,
          2.503160028522963,
          2.303478247169391,
          1.674923642563632,
          2.4945483497362306,
          1.594264479285801,
          1.6298897649930866,
          2.3247700814507115,
          1.7185960993403055,
          1.7327706197354706,
          1.8452446808553233,
          1.5499238645573679,
          2.470247484353254,
          2.2738316143181825,
          1.9688020864892828,
          1.9512235697719071,
          2.2025699807452304,
          2.794400795233582,
          2.391936411139509,
          1.7711942895760697,
          2.349838642361988,
          1.94655297255361,
          1.910450817288324,
          2.8399121188184564,
          1.8114779460448447,
          1.7843667881926675,
          1.1215526207396453,
          1.3689518845460884,
          2.2030053224305695,
          1.6872855944666423,
          2.2319362108024583,
          1.4983080264353283,
          1.6547105781507194,
          2.3035568181302017,
          2.657401571208385,
          2.266612760640809,
          2.539023878774563,
          2.7670673771175833,
          2.468040118919343,
          1.5867019827649882,
          1.9525948793716061,
          2.28358805180821,
          1.813318894420294,
          2.2033757167945502,
          1.2893796715724906,
          1.6271174095146175,
          2.237995885513328,
          0.9933110699993881,
          1.5015293739719513,
          1.992026756940436,
          1.2262724864212147,
          2.0257044482369415,
          1.640203629188708,
          1.8687824320246254,
          1.8834577159697605,
          2.085181938901396,
          1.7462950694379638,
          2.040358883295166,
          1.7294794397077773,
          2.2502330795348233,
          2.7622141009796364,
          2.088591400662631,
          2.076441164906407,
          1.4761964129774592,
          2.312014801547173,
          1.6588697021496954,
          1.6360187615875421,
          2.250847753786115,
          2.081467434961042,
          2.4982289529270783,
          2.6492946178233394,
          1.7571432970088785,
          2.057769645570175,
          2.792186832608895,
          2.434942662603076,
          2.320872072636471,
          2.587792729310952,
          1.727928663876031,
          2.286462534236584,
          2.6341640252138037,
          2.7294105285297863,
          1.6372168321779992,
          1.886746606565859,
          2.1722218281759638,
          1.8699511956455828,
          1.8236826920863782,
          2.307800597681879,
          1.8409655077098435,
          1.1954391989601278,
          2.1628312921278057,
          1.8089782442430826,
          1.67081105822135,
          1.2954178322048424,
          2.4562201101372674,
          0.9977993156674934,
          1.2352998778749669,
          1.8758692718474854,
          2.5530300135428137,
          2.5893676575571942,
          1.480257814281786,
          1.9200655118074021,
          1.320294631210594,
          2.455043178698709,
          1.335546802765919,
          1.935561914746743,
          2.464842700527388,
          1.8999136871615412,
          2.661572154721583,
          1.6084962995641165,
          2.1661357112960933,
          2.38397698362068,
          1.9371297213015173,
          2.6238414189108434,
          2.2466583131096867,
          1.2631476831462463,
          3.7813712168170834,
          2.2918896398408,
          2.0483044822206153,
          1.3705342316000855,
          2.0367955184625273,
          1.7930257261216909,
          2.289959149713645,
          2.1672516310453394,
          2.8338542682812204,
          2.064013117636843,
          2.2310774659948462,
          2.167605583180149,
          1.9331795886232728,
          1.9174699112059892,
          2.4954500912008166,
          2.3510122109023834,
          1.716751278175799,
          1.4989537536621542,
          1.9696654887739156,
          2.522647991753477,
          1.9876117761794099,
          2.785895790152588,
          1.6512183708169543,
          2.063738241949612,
          0.8676632625654128,
          1.7319494535903694,
          1.860895406611162,
          2.2299219985214402,
          2.769797827402011,
          2.015724615213683,
          2.654262911723968,
          2.297756484409692,
          2.443858481095429,
          1.7902303144283325,
          2.6232461046418876
         ]
        }
       ],
       "layout": {
        "shapes": [
         {
          "fillcolor": "blue",
          "line": {
           "color": "blue"
          },
          "opacity": 0.2,
          "type": "circle",
          "x0": 1,
          "x1": 3,
          "xref": "x",
          "y0": 2,
          "y1": 4,
          "yref": "y"
         }
        ],
        "showlegend": false,
        "template": {
         "data": {
          "bar": [
           {
            "error_x": {
             "color": "#2a3f5f"
            },
            "error_y": {
             "color": "#2a3f5f"
            },
            "marker": {
             "line": {
              "color": "#E5ECF6",
              "width": 0.5
             }
            },
            "type": "bar"
           }
          ],
          "barpolar": [
           {
            "marker": {
             "line": {
              "color": "#E5ECF6",
              "width": 0.5
             }
            },
            "type": "barpolar"
           }
          ],
          "carpet": [
           {
            "aaxis": {
             "endlinecolor": "#2a3f5f",
             "gridcolor": "white",
             "linecolor": "white",
             "minorgridcolor": "white",
             "startlinecolor": "#2a3f5f"
            },
            "baxis": {
             "endlinecolor": "#2a3f5f",
             "gridcolor": "white",
             "linecolor": "white",
             "minorgridcolor": "white",
             "startlinecolor": "#2a3f5f"
            },
            "type": "carpet"
           }
          ],
          "choropleth": [
           {
            "colorbar": {
             "outlinewidth": 0,
             "ticks": ""
            },
            "type": "choropleth"
           }
          ],
          "contour": [
           {
            "colorbar": {
             "outlinewidth": 0,
             "ticks": ""
            },
            "colorscale": [
             [
              0,
              "#0d0887"
             ],
             [
              0.1111111111111111,
              "#46039f"
             ],
             [
              0.2222222222222222,
              "#7201a8"
             ],
             [
              0.3333333333333333,
              "#9c179e"
             ],
             [
              0.4444444444444444,
              "#bd3786"
             ],
             [
              0.5555555555555556,
              "#d8576b"
             ],
             [
              0.6666666666666666,
              "#ed7953"
             ],
             [
              0.7777777777777778,
              "#fb9f3a"
             ],
             [
              0.8888888888888888,
              "#fdca26"
             ],
             [
              1,
              "#f0f921"
             ]
            ],
            "type": "contour"
           }
          ],
          "contourcarpet": [
           {
            "colorbar": {
             "outlinewidth": 0,
             "ticks": ""
            },
            "type": "contourcarpet"
           }
          ],
          "heatmap": [
           {
            "colorbar": {
             "outlinewidth": 0,
             "ticks": ""
            },
            "colorscale": [
             [
              0,
              "#0d0887"
             ],
             [
              0.1111111111111111,
              "#46039f"
             ],
             [
              0.2222222222222222,
              "#7201a8"
             ],
             [
              0.3333333333333333,
              "#9c179e"
             ],
             [
              0.4444444444444444,
              "#bd3786"
             ],
             [
              0.5555555555555556,
              "#d8576b"
             ],
             [
              0.6666666666666666,
              "#ed7953"
             ],
             [
              0.7777777777777778,
              "#fb9f3a"
             ],
             [
              0.8888888888888888,
              "#fdca26"
             ],
             [
              1,
              "#f0f921"
             ]
            ],
            "type": "heatmap"
           }
          ],
          "heatmapgl": [
           {
            "colorbar": {
             "outlinewidth": 0,
             "ticks": ""
            },
            "colorscale": [
             [
              0,
              "#0d0887"
             ],
             [
              0.1111111111111111,
              "#46039f"
             ],
             [
              0.2222222222222222,
              "#7201a8"
             ],
             [
              0.3333333333333333,
              "#9c179e"
             ],
             [
              0.4444444444444444,
              "#bd3786"
             ],
             [
              0.5555555555555556,
              "#d8576b"
             ],
             [
              0.6666666666666666,
              "#ed7953"
             ],
             [
              0.7777777777777778,
              "#fb9f3a"
             ],
             [
              0.8888888888888888,
              "#fdca26"
             ],
             [
              1,
              "#f0f921"
             ]
            ],
            "type": "heatmapgl"
           }
          ],
          "histogram": [
           {
            "marker": {
             "colorbar": {
              "outlinewidth": 0,
              "ticks": ""
             }
            },
            "type": "histogram"
           }
          ],
          "histogram2d": [
           {
            "colorbar": {
             "outlinewidth": 0,
             "ticks": ""
            },
            "colorscale": [
             [
              0,
              "#0d0887"
             ],
             [
              0.1111111111111111,
              "#46039f"
             ],
             [
              0.2222222222222222,
              "#7201a8"
             ],
             [
              0.3333333333333333,
              "#9c179e"
             ],
             [
              0.4444444444444444,
              "#bd3786"
             ],
             [
              0.5555555555555556,
              "#d8576b"
             ],
             [
              0.6666666666666666,
              "#ed7953"
             ],
             [
              0.7777777777777778,
              "#fb9f3a"
             ],
             [
              0.8888888888888888,
              "#fdca26"
             ],
             [
              1,
              "#f0f921"
             ]
            ],
            "type": "histogram2d"
           }
          ],
          "histogram2dcontour": [
           {
            "colorbar": {
             "outlinewidth": 0,
             "ticks": ""
            },
            "colorscale": [
             [
              0,
              "#0d0887"
             ],
             [
              0.1111111111111111,
              "#46039f"
             ],
             [
              0.2222222222222222,
              "#7201a8"
             ],
             [
              0.3333333333333333,
              "#9c179e"
             ],
             [
              0.4444444444444444,
              "#bd3786"
             ],
             [
              0.5555555555555556,
              "#d8576b"
             ],
             [
              0.6666666666666666,
              "#ed7953"
             ],
             [
              0.7777777777777778,
              "#fb9f3a"
             ],
             [
              0.8888888888888888,
              "#fdca26"
             ],
             [
              1,
              "#f0f921"
             ]
            ],
            "type": "histogram2dcontour"
           }
          ],
          "mesh3d": [
           {
            "colorbar": {
             "outlinewidth": 0,
             "ticks": ""
            },
            "type": "mesh3d"
           }
          ],
          "parcoords": [
           {
            "line": {
             "colorbar": {
              "outlinewidth": 0,
              "ticks": ""
             }
            },
            "type": "parcoords"
           }
          ],
          "pie": [
           {
            "automargin": true,
            "type": "pie"
           }
          ],
          "scatter": [
           {
            "marker": {
             "colorbar": {
              "outlinewidth": 0,
              "ticks": ""
             }
            },
            "type": "scatter"
           }
          ],
          "scatter3d": [
           {
            "line": {
             "colorbar": {
              "outlinewidth": 0,
              "ticks": ""
             }
            },
            "marker": {
             "colorbar": {
              "outlinewidth": 0,
              "ticks": ""
             }
            },
            "type": "scatter3d"
           }
          ],
          "scattercarpet": [
           {
            "marker": {
             "colorbar": {
              "outlinewidth": 0,
              "ticks": ""
             }
            },
            "type": "scattercarpet"
           }
          ],
          "scattergeo": [
           {
            "marker": {
             "colorbar": {
              "outlinewidth": 0,
              "ticks": ""
             }
            },
            "type": "scattergeo"
           }
          ],
          "scattergl": [
           {
            "marker": {
             "colorbar": {
              "outlinewidth": 0,
              "ticks": ""
             }
            },
            "type": "scattergl"
           }
          ],
          "scattermapbox": [
           {
            "marker": {
             "colorbar": {
              "outlinewidth": 0,
              "ticks": ""
             }
            },
            "type": "scattermapbox"
           }
          ],
          "scatterpolar": [
           {
            "marker": {
             "colorbar": {
              "outlinewidth": 0,
              "ticks": ""
             }
            },
            "type": "scatterpolar"
           }
          ],
          "scatterpolargl": [
           {
            "marker": {
             "colorbar": {
              "outlinewidth": 0,
              "ticks": ""
             }
            },
            "type": "scatterpolargl"
           }
          ],
          "scatterternary": [
           {
            "marker": {
             "colorbar": {
              "outlinewidth": 0,
              "ticks": ""
             }
            },
            "type": "scatterternary"
           }
          ],
          "surface": [
           {
            "colorbar": {
             "outlinewidth": 0,
             "ticks": ""
            },
            "colorscale": [
             [
              0,
              "#0d0887"
             ],
             [
              0.1111111111111111,
              "#46039f"
             ],
             [
              0.2222222222222222,
              "#7201a8"
             ],
             [
              0.3333333333333333,
              "#9c179e"
             ],
             [
              0.4444444444444444,
              "#bd3786"
             ],
             [
              0.5555555555555556,
              "#d8576b"
             ],
             [
              0.6666666666666666,
              "#ed7953"
             ],
             [
              0.7777777777777778,
              "#fb9f3a"
             ],
             [
              0.8888888888888888,
              "#fdca26"
             ],
             [
              1,
              "#f0f921"
             ]
            ],
            "type": "surface"
           }
          ],
          "table": [
           {
            "cells": {
             "fill": {
              "color": "#EBF0F8"
             },
             "line": {
              "color": "white"
             }
            },
            "header": {
             "fill": {
              "color": "#C8D4E3"
             },
             "line": {
              "color": "white"
             }
            },
            "type": "table"
           }
          ]
         },
         "layout": {
          "annotationdefaults": {
           "arrowcolor": "#2a3f5f",
           "arrowhead": 0,
           "arrowwidth": 1
          },
          "coloraxis": {
           "colorbar": {
            "outlinewidth": 0,
            "ticks": ""
           }
          },
          "colorscale": {
           "diverging": [
            [
             0,
             "#8e0152"
            ],
            [
             0.1,
             "#c51b7d"
            ],
            [
             0.2,
             "#de77ae"
            ],
            [
             0.3,
             "#f1b6da"
            ],
            [
             0.4,
             "#fde0ef"
            ],
            [
             0.5,
             "#f7f7f7"
            ],
            [
             0.6,
             "#e6f5d0"
            ],
            [
             0.7,
             "#b8e186"
            ],
            [
             0.8,
             "#7fbc41"
            ],
            [
             0.9,
             "#4d9221"
            ],
            [
             1,
             "#276419"
            ]
           ],
           "sequential": [
            [
             0,
             "#0d0887"
            ],
            [
             0.1111111111111111,
             "#46039f"
            ],
            [
             0.2222222222222222,
             "#7201a8"
            ],
            [
             0.3333333333333333,
             "#9c179e"
            ],
            [
             0.4444444444444444,
             "#bd3786"
            ],
            [
             0.5555555555555556,
             "#d8576b"
            ],
            [
             0.6666666666666666,
             "#ed7953"
            ],
            [
             0.7777777777777778,
             "#fb9f3a"
            ],
            [
             0.8888888888888888,
             "#fdca26"
            ],
            [
             1,
             "#f0f921"
            ]
           ],
           "sequentialminus": [
            [
             0,
             "#0d0887"
            ],
            [
             0.1111111111111111,
             "#46039f"
            ],
            [
             0.2222222222222222,
             "#7201a8"
            ],
            [
             0.3333333333333333,
             "#9c179e"
            ],
            [
             0.4444444444444444,
             "#bd3786"
            ],
            [
             0.5555555555555556,
             "#d8576b"
            ],
            [
             0.6666666666666666,
             "#ed7953"
            ],
            [
             0.7777777777777778,
             "#fb9f3a"
            ],
            [
             0.8888888888888888,
             "#fdca26"
            ],
            [
             1,
             "#f0f921"
            ]
           ]
          },
          "colorway": [
           "#636efa",
           "#EF553B",
           "#00cc96",
           "#ab63fa",
           "#FFA15A",
           "#19d3f3",
           "#FF6692",
           "#B6E880",
           "#FF97FF",
           "#FECB52"
          ],
          "font": {
           "color": "#2a3f5f"
          },
          "geo": {
           "bgcolor": "white",
           "lakecolor": "white",
           "landcolor": "#E5ECF6",
           "showlakes": true,
           "showland": true,
           "subunitcolor": "white"
          },
          "hoverlabel": {
           "align": "left"
          },
          "hovermode": "closest",
          "mapbox": {
           "style": "light"
          },
          "paper_bgcolor": "white",
          "plot_bgcolor": "#E5ECF6",
          "polar": {
           "angularaxis": {
            "gridcolor": "white",
            "linecolor": "white",
            "ticks": ""
           },
           "bgcolor": "#E5ECF6",
           "radialaxis": {
            "gridcolor": "white",
            "linecolor": "white",
            "ticks": ""
           }
          },
          "scene": {
           "xaxis": {
            "backgroundcolor": "#E5ECF6",
            "gridcolor": "white",
            "gridwidth": 2,
            "linecolor": "white",
            "showbackground": true,
            "ticks": "",
            "zerolinecolor": "white"
           },
           "yaxis": {
            "backgroundcolor": "#E5ECF6",
            "gridcolor": "white",
            "gridwidth": 2,
            "linecolor": "white",
            "showbackground": true,
            "ticks": "",
            "zerolinecolor": "white"
           },
           "zaxis": {
            "backgroundcolor": "#E5ECF6",
            "gridcolor": "white",
            "gridwidth": 2,
            "linecolor": "white",
            "showbackground": true,
            "ticks": "",
            "zerolinecolor": "white"
           }
          },
          "shapedefaults": {
           "line": {
            "color": "#2a3f5f"
           }
          },
          "ternary": {
           "aaxis": {
            "gridcolor": "white",
            "linecolor": "white",
            "ticks": ""
           },
           "baxis": {
            "gridcolor": "white",
            "linecolor": "white",
            "ticks": ""
           },
           "bgcolor": "#E5ECF6",
           "caxis": {
            "gridcolor": "white",
            "linecolor": "white",
            "ticks": ""
           }
          },
          "title": {
           "x": 0.05
          },
          "xaxis": {
           "automargin": true,
           "gridcolor": "white",
           "linecolor": "white",
           "ticks": "",
           "title": {
            "standoff": 15
           },
           "zerolinecolor": "white",
           "zerolinewidth": 2
          },
          "yaxis": {
           "automargin": true,
           "gridcolor": "white",
           "linecolor": "white",
           "ticks": "",
           "title": {
            "standoff": 15
           },
           "zerolinecolor": "white",
           "zerolinewidth": 2
          }
         }
        }
       }
      },
      "text/html": [
       "<div>\n",
       "        \n",
       "        \n",
       "            <div id=\"1fc0e8fa-4404-44b0-926f-620a28a89b2c\" class=\"plotly-graph-div\" style=\"height:525px; width:100%;\"></div>\n",
       "            <script type=\"text/javascript\">\n",
       "                require([\"plotly\"], function(Plotly) {\n",
       "                    window.PLOTLYENV=window.PLOTLYENV || {};\n",
       "                    \n",
       "                if (document.getElementById(\"1fc0e8fa-4404-44b0-926f-620a28a89b2c\")) {\n",
       "                    Plotly.newPlot(\n",
       "                        '1fc0e8fa-4404-44b0-926f-620a28a89b2c',\n",
       "                        [{\"mode\": \"lines+markers\", \"type\": \"scatter\", \"x\": [2.730955413648459, 1.724709613857466, 1.762322711481445, 1.5171641200297232, 2.389433433196105, 0.9643075864038728, 2.785165293897416, 1.6574568945972037, 2.1435675932256943, 1.8877833310351655, 2.6579485716702385, 1.0729366807260556, 1.8549122581939217, 1.827175540399213, 2.5101962490509466, 1.505048929708686, 1.922407306602304, 1.6049637119353828, 2.018996186022017, 2.2622668461721203, 1.5047213702541855, 2.5151256694278263, 2.405715824266758, 2.2261224525058405, 2.405385177168985, 1.6923224633715501, 1.9446993985166083, 1.578903754583419, 1.879450364168293, 2.2386599600321837, 1.688752661723611, 1.8214609129148103, 1.6907722849461804, 1.619657461325576, 1.6979392411234313, 1.9943009304864945, 1.497210343114125, 2.1054870640176913, 2.7469109796994418, 2.333919872259801, 1.9136740014372733, 1.6005669661618236, 1.663778767812123, 2.761604570462486, 2.0228634896492133, 1.713351959043791, 2.0859119681003597, 2.945114811415479, 2.054071528616733, 2.2777413993683386, 2.1350766439801223, 1.8414875690779167, 1.485866810890037, 1.8427957749142052, 1.90599759498135, 2.263980436031989, 2.3775425362435274, 2.418995936586601, 2.1285142963644166, 2.3983135239218276, 1.6605209265515062, 2.5637906698549795, 2.230818419188104, 1.865858224203778, 2.2198331659418735, 1.9659927291405248, 2.5092332243531423, 2.6839175673899893, 2.9835089329399227, 1.371576649030338, 1.3501487875566847, 1.772990361674097, 2.0720166812515237, 2.394276014502301, 2.1420357262587224, 1.0900094528791986, 1.8622081943172326, 2.3725885891732608, 2.1035426309139726, 2.342905031140411, 1.8999523358253383, 1.909658868981501, 2.083952625944728, 2.184523241243715, 2.0892348740570466, 2.0535538906133564, 1.698201971169936, 2.1699037038444136, 2.0548195719461466, 2.508267758560364, 2.5395130459556783, 2.083320387867775, 1.8311217724594486, 1.7125713166456, 2.190572459328851, 2.034803030756852, 1.845265845993016, 2.019618585575411, 1.7209996202233417, 2.3141144153324986, 1.7987921458463008, 2.5510284671624746, 2.18157123880586, 2.26711033545668, 1.5072896694165312, 2.0762220948764005, 2.3332504029933236, 1.5708347291864295, 1.88020167229837, 2.0146765460120113, 1.38209720588896, 2.1418217264190313, 2.380772291413265, 1.613217826625606, 2.157745690398848, 1.4094724649431556, 1.982587020830277, 1.2729024403835174, 2.504637968706049, 2.1840052420715725, 1.9889223698558998, 1.6511772713738782, 2.5731901685714496, 2.8851957871646308, 1.1639081609989614, 2.5562738137037693, 2.7324428389170077, 2.1521052634585143, 1.4603293854491661, 2.38850539289481, 1.9185858640648323, 1.7282357174930343, 1.446473838949867, 2.247741873189297, 2.3567630896637066, 1.7194111716440936, 2.2342593516830167, 1.4850463746695857, 2.3608374643421053, 2.0209552842908654, 1.9160436026416932, 1.9542143573618846, 2.3909987706526405, 2.3376852379392536, 2.2382593959587194, 2.0619655444988236, 2.0350195075607176, 2.278271117899336, 2.104622551630432, 2.3071481330890182, 1.860447451916873, 0.9043230061517875, 2.4674710708367362, 2.984140841138416, 2.198613999605862, 1.954930145022425, 1.938599865246785, 1.9464256155013355, 2.007834233735002, 1.4950915720639002, 1.7673074939358975, 1.5513379275573818, 2.1119596226244965, 1.8665114814331119, 2.222845095790082, 1.9213835781158746, 2.4438508345195586, 2.0960902556009486, 2.98581487803638, 1.1466375846990084, 1.7088874902852913, 2.40566910124192, 3.1377465680628793, 1.888114350028043, 2.0196510469302753, 1.8981585908688776, 2.5991557006644164, 1.8707114614357916, 2.306031427945147, 1.856089280495598, 1.4273485601393026, 2.1410964742085445, 2.2264331660458967, 2.581951647139518, 1.9502988381122077, 1.7221870713294376, 2.2532424934785618, 2.1083316915069794, 2.126299284705188, 1.967099283313725, 2.5221523564971964, 2.1662717223690757, 2.8570964187534416, 2.499975514352227, 2.2965724082450945, 1.2676527467226841, 2.271043676133033, 2.1891269916411766, 2.3649282527616, 2.4699989426182665, 1.819604813694983, 2.3708025283026837, 1.7469625560414097, 2.8796951337540655, 1.4006217500672382, 1.2076901478205473, 1.257175430379155, 1.5992499871266281, 1.4963980706481224, 2.8802355066666387, 1.853075225864817, 1.3957958947801539, 2.501472339550906, 1.7360642275302833, 1.443415980556371, 2.3941275174421848, 2.2805129794601147, 1.8042694926701475, 2.633393000108553, 2.0580957108698263, 2.727627319485785, 2.226233396899957, 2.7014624932789366, 2.0492312133914425, 1.4511150213594353, 3.102215892077629, 1.7544016244078446, 1.9105229616999964, 1.6848206727854353, 1.9084724979659486, 2.1092012484868077, 2.0908235804933017, 2.297459129419412, 2.806471194039005, 1.9457909426951716, 1.445095669049108, 1.4679568430706649, 1.700410466810393, 1.2466118865714806, 2.371263420997544, 1.7758038963660148, 1.860056759763717, 1.9991488327228983, 1.3715208089320556, 1.6124076376507812, 2.303620186559588, 2.278342608853832, 1.800572631184713, 2.814740711356455, 1.4124228848490181, 1.8447557554302592, 1.8961221155890386, 0.7431117499340569, 2.871887966127236, 2.164849406543026, 1.5299347781414938, 2.92302804928585, 2.263547900077572, 2.1932867630098842, 1.7268507208099793, 2.047800225815848, 1.313443857696789, 2.35776174249118, 1.8315027565205506, 2.0603216884495805, 2.5409246879898677, 2.128136649882076, 2.118110350458471, 2.1244246871699826, 1.6700277782471091, 2.376202123745421, 2.6945115998620177, 2.341462547044069, 2.3982089665091975, 1.6052233164868153, 1.6094957497071833, 1.351605789068672, 2.554513881872796, 1.8856190595766842, 2.6299297741164436, 1.6481397427909397, 1.8031209577271385, 2.042941289236066, 2.41465253089678, 2.027337588109778, 2.0950061397534725, 2.007437405287527, 2.0797344741241823, 1.497588491951865, 2.0364171954379753, 1.9160394529198401, 1.9744289836013686, 2.221551450171492, 1.6936948365460014, 1.9619713876679166, 1.8661871527519234, 2.187785902238688, 2.3531467929570153, 1.57005863193184, 2.263659693996177], \"y\": [2.9296024940984755, 1.3379793833753189, 1.6264226471081988, 1.6037400800701231, 1.8744060253055195, 2.7302820886793002, 2.0060087043562294, 1.6873878821207482, 2.2798115769375076, 1.7300879610181186, 2.505535472909871, 2.137370168109805, 2.624950728366621, 1.7023950905811416, 3.3638857005674137, 2.371063081265056, 2.294561068664015, 1.976965198576551, 1.6734812963895076, 1.6095040950693844, 1.9388102032547347, 1.6412285965280917, 2.127204070511789, 1.6282561556687059, 2.2794872153775536, 2.4302547668561134, 1.6823717716689721, 2.536708730489612, 1.8929261289115178, 2.519879548739701, 2.1971748562810567, 2.5050477447456916, 1.5513410920116428, 1.9519427059493486, 2.653143167265921, 1.7218834185432894, 1.0832594484436422, 1.125834868335595, 0.8721017062957723, 1.0486262351374283, 1.8147623765651828, 2.575337637278775, 1.8009968242190721, 2.1455873091206445, 1.950503829426377, 2.0038470254462113, 1.9243105221148777, 1.9216188450614042, 2.207523844989658, 1.4708077978514082, 2.454557229800626, 2.4140080699614934, 1.9122241966058444, 2.362427040904482, 1.6843950081842705, 1.7582496392560978, 2.0703187326215375, 1.9144005387118124, 1.7980678852977698, 1.6973983825460317, 1.7491273751962804, 2.4226259348884196, 1.1255044674492414, 2.1586224639662, 1.893603371684156, 2.327516074999842, 2.2317831261377146, 0.7478594895561848, 2.2630909747148418, 2.1459234095517896, 2.0098382764819487, 1.7890967826749489, 2.38397654988003, 1.8141368106300355, 2.825622931992359, 2.2539722849724413, 2.962022630347767, 1.646509701385894, 1.2098334618952167, 2.321655318868617, 2.3837168277763787, 2.015912043674641, 1.3075430394149106, 1.7984471668777466, 2.2780934902641508, 1.9171206534558145, 1.9478066665374216, 1.9210434641022114, 1.5797384049680745, 1.7601408532623803, 1.3580500607657606, 2.795581976739962, 1.786082206187908, 2.214924581817901, 1.5401513249114107, 2.357537707820487, 1.1570775600641143, 2.4142768031247304, 1.98408443380458, 2.9497722741203196, 1.4120596672201917, 2.0343712160718166, 2.165254316247739, 2.5548046365693065, 1.8097143673741511, 2.0389089829359293, 1.0358899719151842, 1.6264240111897814, 2.203227177749859, 2.496878446836446, 1.8732186789204741, 2.9253599854392323, 2.792112151902092, 1.9727063787013355, 0.9139236494717955, 1.2000951308873056, 1.6499635280176643, 2.5021284985658756, 2.139622529502695, 1.0575884826997344, 1.8970553770084269, 2.726012618553402, 1.8313378907138063, 1.6625136722259501, 2.924580846133152, 2.0240342915592566, 1.784379305546264, 2.1575752214727255, 2.00772412686834, 1.8068859747942079, 2.5438053478483833, 2.502065811253019, 2.3783877011634966, 1.953700752091908, 2.5161051693797676, 1.977633839378596, 2.2099894702529785, 2.4651590905727754, 2.363979962119557, 2.805389607442822, 2.2030778072180768, 1.2421730063592933, 1.4779234527579757, 2.6075480684067767, 1.8509225735303172, 2.173942615309891, 1.6168449545611279, 2.4503966406561353, 1.8268254880252444, 2.656148707374284, 1.76049469059582, 2.503160028522963, 2.303478247169391, 1.674923642563632, 2.4945483497362306, 1.594264479285801, 1.6298897649930866, 2.3247700814507115, 1.7185960993403055, 1.7327706197354706, 1.8452446808553233, 1.5499238645573679, 2.470247484353254, 2.2738316143181825, 1.9688020864892828, 1.9512235697719071, 2.2025699807452304, 2.794400795233582, 2.391936411139509, 1.7711942895760697, 2.349838642361988, 1.94655297255361, 1.910450817288324, 2.8399121188184564, 1.8114779460448447, 1.7843667881926675, 1.1215526207396453, 1.3689518845460884, 2.2030053224305695, 1.6872855944666423, 2.2319362108024583, 1.4983080264353283, 1.6547105781507194, 2.3035568181302017, 2.657401571208385, 2.266612760640809, 2.539023878774563, 2.7670673771175833, 2.468040118919343, 1.5867019827649882, 1.9525948793716061, 2.28358805180821, 1.813318894420294, 2.2033757167945502, 1.2893796715724906, 1.6271174095146175, 2.237995885513328, 0.9933110699993881, 1.5015293739719513, 1.992026756940436, 1.2262724864212147, 2.0257044482369415, 1.640203629188708, 1.8687824320246254, 1.8834577159697605, 2.085181938901396, 1.7462950694379638, 2.040358883295166, 1.7294794397077773, 2.2502330795348233, 2.7622141009796364, 2.088591400662631, 2.076441164906407, 1.4761964129774592, 2.312014801547173, 1.6588697021496954, 1.6360187615875421, 2.250847753786115, 2.081467434961042, 2.4982289529270783, 2.6492946178233394, 1.7571432970088785, 2.057769645570175, 2.792186832608895, 2.434942662603076, 2.320872072636471, 2.587792729310952, 1.727928663876031, 2.286462534236584, 2.6341640252138037, 2.7294105285297863, 1.6372168321779992, 1.886746606565859, 2.1722218281759638, 1.8699511956455828, 1.8236826920863782, 2.307800597681879, 1.8409655077098435, 1.1954391989601278, 2.1628312921278057, 1.8089782442430826, 1.67081105822135, 1.2954178322048424, 2.4562201101372674, 0.9977993156674934, 1.2352998778749669, 1.8758692718474854, 2.5530300135428137, 2.5893676575571942, 1.480257814281786, 1.9200655118074021, 1.320294631210594, 2.455043178698709, 1.335546802765919, 1.935561914746743, 2.464842700527388, 1.8999136871615412, 2.661572154721583, 1.6084962995641165, 2.1661357112960933, 2.38397698362068, 1.9371297213015173, 2.6238414189108434, 2.2466583131096867, 1.2631476831462463, 3.7813712168170834, 2.2918896398408, 2.0483044822206153, 1.3705342316000855, 2.0367955184625273, 1.7930257261216909, 2.289959149713645, 2.1672516310453394, 2.8338542682812204, 2.064013117636843, 2.2310774659948462, 2.167605583180149, 1.9331795886232728, 1.9174699112059892, 2.4954500912008166, 2.3510122109023834, 1.716751278175799, 1.4989537536621542, 1.9696654887739156, 2.522647991753477, 1.9876117761794099, 2.785895790152588, 1.6512183708169543, 2.063738241949612, 0.8676632625654128, 1.7319494535903694, 1.860895406611162, 2.2299219985214402, 2.769797827402011, 2.015724615213683, 2.654262911723968, 2.297756484409692, 2.443858481095429, 1.7902303144283325, 2.6232461046418876]}],\n",
       "                        {\"shapes\": [{\"fillcolor\": \"blue\", \"line\": {\"color\": \"blue\"}, \"opacity\": 0.2, \"type\": \"circle\", \"x0\": 1, \"x1\": 3, \"xref\": \"x\", \"y0\": 2, \"y1\": 4, \"yref\": \"y\"}], \"showlegend\": false, \"template\": {\"data\": {\"bar\": [{\"error_x\": {\"color\": \"#2a3f5f\"}, \"error_y\": {\"color\": \"#2a3f5f\"}, \"marker\": {\"line\": {\"color\": \"#E5ECF6\", \"width\": 0.5}}, \"type\": \"bar\"}], \"barpolar\": [{\"marker\": {\"line\": {\"color\": \"#E5ECF6\", \"width\": 0.5}}, \"type\": \"barpolar\"}], \"carpet\": [{\"aaxis\": {\"endlinecolor\": \"#2a3f5f\", \"gridcolor\": \"white\", \"linecolor\": \"white\", \"minorgridcolor\": \"white\", \"startlinecolor\": \"#2a3f5f\"}, \"baxis\": {\"endlinecolor\": \"#2a3f5f\", \"gridcolor\": \"white\", \"linecolor\": \"white\", \"minorgridcolor\": \"white\", \"startlinecolor\": \"#2a3f5f\"}, \"type\": \"carpet\"}], \"choropleth\": [{\"colorbar\": {\"outlinewidth\": 0, \"ticks\": \"\"}, \"type\": \"choropleth\"}], \"contour\": [{\"colorbar\": {\"outlinewidth\": 0, \"ticks\": \"\"}, \"colorscale\": [[0.0, \"#0d0887\"], [0.1111111111111111, \"#46039f\"], [0.2222222222222222, \"#7201a8\"], [0.3333333333333333, \"#9c179e\"], [0.4444444444444444, \"#bd3786\"], [0.5555555555555556, \"#d8576b\"], [0.6666666666666666, \"#ed7953\"], [0.7777777777777778, \"#fb9f3a\"], [0.8888888888888888, \"#fdca26\"], [1.0, \"#f0f921\"]], \"type\": \"contour\"}], \"contourcarpet\": [{\"colorbar\": {\"outlinewidth\": 0, \"ticks\": \"\"}, \"type\": \"contourcarpet\"}], \"heatmap\": [{\"colorbar\": {\"outlinewidth\": 0, \"ticks\": \"\"}, \"colorscale\": [[0.0, \"#0d0887\"], [0.1111111111111111, \"#46039f\"], [0.2222222222222222, \"#7201a8\"], [0.3333333333333333, \"#9c179e\"], [0.4444444444444444, \"#bd3786\"], [0.5555555555555556, \"#d8576b\"], [0.6666666666666666, \"#ed7953\"], [0.7777777777777778, \"#fb9f3a\"], [0.8888888888888888, \"#fdca26\"], [1.0, \"#f0f921\"]], \"type\": \"heatmap\"}], \"heatmapgl\": [{\"colorbar\": {\"outlinewidth\": 0, \"ticks\": \"\"}, \"colorscale\": [[0.0, \"#0d0887\"], [0.1111111111111111, \"#46039f\"], [0.2222222222222222, \"#7201a8\"], [0.3333333333333333, \"#9c179e\"], [0.4444444444444444, \"#bd3786\"], [0.5555555555555556, \"#d8576b\"], [0.6666666666666666, \"#ed7953\"], [0.7777777777777778, \"#fb9f3a\"], [0.8888888888888888, \"#fdca26\"], [1.0, \"#f0f921\"]], \"type\": \"heatmapgl\"}], \"histogram\": [{\"marker\": {\"colorbar\": {\"outlinewidth\": 0, \"ticks\": \"\"}}, \"type\": \"histogram\"}], \"histogram2d\": [{\"colorbar\": {\"outlinewidth\": 0, \"ticks\": \"\"}, \"colorscale\": [[0.0, \"#0d0887\"], [0.1111111111111111, \"#46039f\"], [0.2222222222222222, \"#7201a8\"], [0.3333333333333333, \"#9c179e\"], [0.4444444444444444, \"#bd3786\"], [0.5555555555555556, \"#d8576b\"], [0.6666666666666666, \"#ed7953\"], [0.7777777777777778, \"#fb9f3a\"], [0.8888888888888888, \"#fdca26\"], [1.0, \"#f0f921\"]], \"type\": \"histogram2d\"}], \"histogram2dcontour\": [{\"colorbar\": {\"outlinewidth\": 0, \"ticks\": \"\"}, \"colorscale\": [[0.0, \"#0d0887\"], [0.1111111111111111, \"#46039f\"], [0.2222222222222222, \"#7201a8\"], [0.3333333333333333, \"#9c179e\"], [0.4444444444444444, \"#bd3786\"], [0.5555555555555556, \"#d8576b\"], [0.6666666666666666, \"#ed7953\"], [0.7777777777777778, \"#fb9f3a\"], [0.8888888888888888, \"#fdca26\"], [1.0, \"#f0f921\"]], \"type\": \"histogram2dcontour\"}], \"mesh3d\": [{\"colorbar\": {\"outlinewidth\": 0, \"ticks\": \"\"}, \"type\": \"mesh3d\"}], \"parcoords\": [{\"line\": {\"colorbar\": {\"outlinewidth\": 0, \"ticks\": \"\"}}, \"type\": \"parcoords\"}], \"pie\": [{\"automargin\": true, \"type\": \"pie\"}], \"scatter\": [{\"marker\": {\"colorbar\": {\"outlinewidth\": 0, \"ticks\": \"\"}}, \"type\": \"scatter\"}], \"scatter3d\": [{\"line\": {\"colorbar\": {\"outlinewidth\": 0, \"ticks\": \"\"}}, \"marker\": {\"colorbar\": {\"outlinewidth\": 0, \"ticks\": \"\"}}, \"type\": \"scatter3d\"}], \"scattercarpet\": [{\"marker\": {\"colorbar\": {\"outlinewidth\": 0, \"ticks\": \"\"}}, \"type\": \"scattercarpet\"}], \"scattergeo\": [{\"marker\": {\"colorbar\": {\"outlinewidth\": 0, \"ticks\": \"\"}}, \"type\": \"scattergeo\"}], \"scattergl\": [{\"marker\": {\"colorbar\": {\"outlinewidth\": 0, \"ticks\": \"\"}}, \"type\": \"scattergl\"}], \"scattermapbox\": [{\"marker\": {\"colorbar\": {\"outlinewidth\": 0, \"ticks\": \"\"}}, \"type\": \"scattermapbox\"}], \"scatterpolar\": [{\"marker\": {\"colorbar\": {\"outlinewidth\": 0, \"ticks\": \"\"}}, \"type\": \"scatterpolar\"}], \"scatterpolargl\": [{\"marker\": {\"colorbar\": {\"outlinewidth\": 0, \"ticks\": \"\"}}, \"type\": \"scatterpolargl\"}], \"scatterternary\": [{\"marker\": {\"colorbar\": {\"outlinewidth\": 0, \"ticks\": \"\"}}, \"type\": \"scatterternary\"}], \"surface\": [{\"colorbar\": {\"outlinewidth\": 0, \"ticks\": \"\"}, \"colorscale\": [[0.0, \"#0d0887\"], [0.1111111111111111, \"#46039f\"], [0.2222222222222222, \"#7201a8\"], [0.3333333333333333, \"#9c179e\"], [0.4444444444444444, \"#bd3786\"], [0.5555555555555556, \"#d8576b\"], [0.6666666666666666, \"#ed7953\"], [0.7777777777777778, \"#fb9f3a\"], [0.8888888888888888, \"#fdca26\"], [1.0, \"#f0f921\"]], \"type\": \"surface\"}], \"table\": [{\"cells\": {\"fill\": {\"color\": \"#EBF0F8\"}, \"line\": {\"color\": \"white\"}}, \"header\": {\"fill\": {\"color\": \"#C8D4E3\"}, \"line\": {\"color\": \"white\"}}, \"type\": \"table\"}]}, \"layout\": {\"annotationdefaults\": {\"arrowcolor\": \"#2a3f5f\", \"arrowhead\": 0, \"arrowwidth\": 1}, \"coloraxis\": {\"colorbar\": {\"outlinewidth\": 0, \"ticks\": \"\"}}, \"colorscale\": {\"diverging\": [[0, \"#8e0152\"], [0.1, \"#c51b7d\"], [0.2, \"#de77ae\"], [0.3, \"#f1b6da\"], [0.4, \"#fde0ef\"], [0.5, \"#f7f7f7\"], [0.6, \"#e6f5d0\"], [0.7, \"#b8e186\"], [0.8, \"#7fbc41\"], [0.9, \"#4d9221\"], [1, \"#276419\"]], \"sequential\": [[0.0, \"#0d0887\"], [0.1111111111111111, \"#46039f\"], [0.2222222222222222, \"#7201a8\"], [0.3333333333333333, \"#9c179e\"], [0.4444444444444444, \"#bd3786\"], [0.5555555555555556, \"#d8576b\"], [0.6666666666666666, \"#ed7953\"], [0.7777777777777778, \"#fb9f3a\"], [0.8888888888888888, \"#fdca26\"], [1.0, \"#f0f921\"]], \"sequentialminus\": [[0.0, \"#0d0887\"], [0.1111111111111111, \"#46039f\"], [0.2222222222222222, \"#7201a8\"], [0.3333333333333333, \"#9c179e\"], [0.4444444444444444, \"#bd3786\"], [0.5555555555555556, \"#d8576b\"], [0.6666666666666666, \"#ed7953\"], [0.7777777777777778, \"#fb9f3a\"], [0.8888888888888888, \"#fdca26\"], [1.0, \"#f0f921\"]]}, \"colorway\": [\"#636efa\", \"#EF553B\", \"#00cc96\", \"#ab63fa\", \"#FFA15A\", \"#19d3f3\", \"#FF6692\", \"#B6E880\", \"#FF97FF\", \"#FECB52\"], \"font\": {\"color\": \"#2a3f5f\"}, \"geo\": {\"bgcolor\": \"white\", \"lakecolor\": \"white\", \"landcolor\": \"#E5ECF6\", \"showlakes\": true, \"showland\": true, \"subunitcolor\": \"white\"}, \"hoverlabel\": {\"align\": \"left\"}, \"hovermode\": \"closest\", \"mapbox\": {\"style\": \"light\"}, \"paper_bgcolor\": \"white\", \"plot_bgcolor\": \"#E5ECF6\", \"polar\": {\"angularaxis\": {\"gridcolor\": \"white\", \"linecolor\": \"white\", \"ticks\": \"\"}, \"bgcolor\": \"#E5ECF6\", \"radialaxis\": {\"gridcolor\": \"white\", \"linecolor\": \"white\", \"ticks\": \"\"}}, \"scene\": {\"xaxis\": {\"backgroundcolor\": \"#E5ECF6\", \"gridcolor\": \"white\", \"gridwidth\": 2, \"linecolor\": \"white\", \"showbackground\": true, \"ticks\": \"\", \"zerolinecolor\": \"white\"}, \"yaxis\": {\"backgroundcolor\": \"#E5ECF6\", \"gridcolor\": \"white\", \"gridwidth\": 2, \"linecolor\": \"white\", \"showbackground\": true, \"ticks\": \"\", \"zerolinecolor\": \"white\"}, \"zaxis\": {\"backgroundcolor\": \"#E5ECF6\", \"gridcolor\": \"white\", \"gridwidth\": 2, \"linecolor\": \"white\", \"showbackground\": true, \"ticks\": \"\", \"zerolinecolor\": \"white\"}}, \"shapedefaults\": {\"line\": {\"color\": \"#2a3f5f\"}}, \"ternary\": {\"aaxis\": {\"gridcolor\": \"white\", \"linecolor\": \"white\", \"ticks\": \"\"}, \"baxis\": {\"gridcolor\": \"white\", \"linecolor\": \"white\", \"ticks\": \"\"}, \"bgcolor\": \"#E5ECF6\", \"caxis\": {\"gridcolor\": \"white\", \"linecolor\": \"white\", \"ticks\": \"\"}}, \"title\": {\"x\": 0.05}, \"xaxis\": {\"automargin\": true, \"gridcolor\": \"white\", \"linecolor\": \"white\", \"ticks\": \"\", \"title\": {\"standoff\": 15}, \"zerolinecolor\": \"white\", \"zerolinewidth\": 2}, \"yaxis\": {\"automargin\": true, \"gridcolor\": \"white\", \"linecolor\": \"white\", \"ticks\": \"\", \"title\": {\"standoff\": 15}, \"zerolinecolor\": \"white\", \"zerolinewidth\": 2}}}},\n",
       "                        {\"responsive\": true}\n",
       "                    ).then(function(){\n",
       "                            \n",
       "var gd = document.getElementById('1fc0e8fa-4404-44b0-926f-620a28a89b2c');\n",
       "var x = new MutationObserver(function (mutations, observer) {{\n",
       "        var display = window.getComputedStyle(gd).display;\n",
       "        if (!display || display === 'none') {{\n",
       "            console.log([gd, 'removed!']);\n",
       "            Plotly.purge(gd);\n",
       "            observer.disconnect();\n",
       "        }}\n",
       "}});\n",
       "\n",
       "// Listen for the removal of the full notebook cells\n",
       "var notebookContainer = gd.closest('#notebook-container');\n",
       "if (notebookContainer) {{\n",
       "    x.observe(notebookContainer, {childList: true});\n",
       "}}\n",
       "\n",
       "// Listen for the clearing of the current output cell\n",
       "var outputEl = gd.closest('.output');\n",
       "if (outputEl) {{\n",
       "    x.observe(outputEl, {childList: true});\n",
       "}}\n",
       "\n",
       "                        })\n",
       "                };\n",
       "                });\n",
       "            </script>\n",
       "        </div>"
      ]
     },
     "metadata": {},
     "output_type": "display_data"
    }
   ],
   "source": [
    "import plotly.graph_objects as go\n",
    "\n",
    "import numpy as np\n",
    "np.random.seed(1)\n",
    "\n",
    "# Generate data\n",
    "x0 = np.random.normal(2, 0.45, 300)\n",
    "y0 = np.random.normal(2, 0.45, 300)\n",
    "\n",
    "# Create figure\n",
    "fig = go.Figure()\n",
    "\n",
    "# Add scatter traces\n",
    "fig.add_trace(go.Scatter(\n",
    "    x=x0,\n",
    "    y=y0,\n",
    "    mode=\"lines+markers\"\n",
    "))\n",
    "\n",
    "shapes=[]\n",
    "shapes.append(dict(\n",
    "            type=\"circle\",\n",
    "            xref=\"x\",\n",
    "            yref=\"y\",\n",
    "            x0=1,\n",
    "            y0=2,\n",
    "            x1=3,\n",
    "            y1=4,\n",
    "            opacity=0.2,\n",
    "            fillcolor=\"blue\",\n",
    "            line_color=\"blue\",\n",
    "        ))\n",
    "\n",
    "# Add shapes\n",
    "fig.update_layout(\n",
    "    shapes=shapes\n",
    ")\n",
    "\n",
    "# Hide legend\n",
    "fig.update_layout(showlegend=False)\n",
    "\n",
    "fig.show()"
   ]
  },
  {
   "cell_type": "code",
   "execution_count": 2,
   "metadata": {},
   "outputs": [],
   "source": [
    "def haversine(lon1, lat1, lon2, lat2):\n",
    "    \"\"\"\n",
    "    Calculate the great circle distance (in metres) between two points on the earth (specified in decimal degrees)\n",
    "    \n",
    "    :param lon1: longitude of point 1\n",
    "    :param lat1: longitude of point 1\n",
    "    :param lon2: longitude of point 2\n",
    "    :param lat2: longitude of point 2\n",
    "    :return: the distance between (lon1, lat1) and (lon2, lat2), in metres\n",
    "    \"\"\"\n",
    "    # convert decimal degrees to radians \n",
    "    lon1, lat1, lon2, lat2 = map(radians, [lon1, lat1, lon2, lat2])\n",
    "\n",
    "    # haversine formula \n",
    "    dlon = lon2 - lon1 \n",
    "    dlat = lat2 - lat1 \n",
    "    a = sin(dlat/2)**2 + cos(lat1) * cos(lat2) * sin(dlon/2)**2\n",
    "    c = 2 * asin(sqrt(a)) \n",
    "    r = 6378.1 # Radius of earth in kilometers. Use 3956 for miles\n",
    "    return c * r * 1000"
   ]
  },
  {
   "cell_type": "code",
   "execution_count": 124,
   "metadata": {},
   "outputs": [],
   "source": [
    "def getStayPeriod(stayPoint1, stayPoint2):\n",
    "    '''\n",
    "    :param stayPoint1: an object of stayPoint class\n",
    "    :param stayPoint2: an object of stayPoint class\n",
    "    :return: if a stay period is found between 2 points, \n",
    "        we return the period of time [`start`, `end`] where `stayPoint1` is near `stayPoint2` or vice versa\n",
    "        else return []\n",
    "    '''\n",
    "    if max(stayPoint1.arrivalTime, stayPoint2.arrivalTime) <= min(stayPoint1.departTime, stayPoint2.departTime):\n",
    "        timePeriod = [max(stayPoint1.arrivalTime, stayPoint2.arrivalTime), \n",
    "                      min(stayPoint1.departTime, stayPoint2.departTime)]\n",
    "    else:\n",
    "        return []\n",
    "\n",
    "    dist = haversine(stayPoint1.location[0], stayPoint1.location[1], stayPoint2.location[0], stayPoint2.location[1])\n",
    "    rad = max(stayPoint1.radius, stayPoint2.radius)\n",
    "\n",
    "    print(f\"(dist,rad): ({dist},{rad})\")\n",
    "\n",
    "    if dist < rad:\n",
    "        return timePeriod\n",
    "    else:\n",
    "        return []\n",
    "\n",
    "def getStayPeriods(stayPoints1, stayPoints2):\n",
    "    '''\n",
    "    To find all the overlaps between 2 sets of stay points, thereby finding how long 2 people \n",
    "    have spent in the vicinity of one another.\n",
    "    \n",
    "    :param traj1: a dataframe of `lat`, `lon`, `time`\n",
    "    :param traj2: a dataframe of `lat`, `lon`, `time`\n",
    "    :param stayPoints1: the stay points generated from trajectory 1, each point should be of `stayPoint` class\n",
    "    :param stayPoints2: the stay points generated from trajectory 2, each point should be of `stayPoint` class\n",
    "    :return: the set of time periods [startTime, endTime] where the 2 trajectories were in close proximity of one another\n",
    "    '''            \n",
    "    \n",
    "    stayPeriods = []\n",
    "    \n",
    "    if len(stayPoints1) == 0 or len(stayPoints2) == 0:\n",
    "        return stayPeriods\n",
    "    \n",
    "    if stayPoints1[0].arrivalTime <= stayPoints2[0].arrivalTime:\n",
    "        # the list of stay points who's first stay point that started later\n",
    "        refList = stayPoints1\n",
    "        \n",
    "        # the list of stay points who's first stay point that started earlier\n",
    "        subList = stayPoints2\n",
    "        \n",
    "    else:\n",
    "        # the list of stay points who's first stay point that started later\n",
    "        refList = stayPoints2\n",
    "        \n",
    "        # the list of stay points who's first stay point that started earlier\n",
    "        subList = stayPoints1\n",
    "        \n",
    "    t_start = refList[0].arrivalTime\n",
    "    \n",
    "    i = 0\n",
    "    j = 0\n",
    "    \n",
    "    while(i < len(refList)):\n",
    "        while(j < len(subList)):\n",
    "            stayPeriod = getStayPeriod(refList[i], subList[j])\n",
    "            print(f\"(i, j, stayPeriod): ({i}, {j}, {stayPeriod})\")\n",
    "            if (stayPeriod == []):\n",
    "                break\n",
    "            stayPeriods.append(stayPeriod)\n",
    "            j += 1\n",
    "        i += 1\n",
    "    \n",
    "    return stayPeriods"
   ]
  },
  {
   "cell_type": "code",
   "execution_count": 109,
   "metadata": {},
   "outputs": [],
   "source": [
    "traj1 = genTrajectory(NUM_POINTS=50)\n",
    "traj2 = genTrajectory(NUM_POINTS=50)"
   ]
  },
  {
   "cell_type": "code",
   "execution_count": 110,
   "metadata": {},
   "outputs": [
    {
     "name": "stdout",
     "output_type": "stream",
     "text": [
      "(arrivalTime: 80.91999999999999, departTime: 96.47999999999999, startIndex: 13, endIndex: 15, radius: 0.26100766272276377, location: [4.47, 3.8850000000000007])\n",
      "None\n",
      "(arrivalTime: 145.86, departTime: 155.16, startIndex: 24, endIndex: 26, radius: 0.3046309242345574, location: [5.4799999999999995, 9.39])\n",
      "None\n",
      "(arrivalTime: 236.31000000000006, departTime: 267.11000000000007, startIndex: 42, endIndex: 48, radius: 0.5591263025669805, location: [9.083333333333332, 12.213333333333336])\n",
      "None\n",
      "(arrivalTime: 267.11000000000007, departTime: 275.75000000000006, startIndex: 48, endIndex: 50, radius: 0.2668332812825266, location: [8.669999999999998, 12.31])\n",
      "None\n"
     ]
    }
   ],
   "source": [
    "stayPoints1 = SPDA(traj1, distThres=0.5, timeThres=0.5, minPoints=2)\n",
    "for point in stayPoints1: \n",
    "    print(point.toString())"
   ]
  },
  {
   "cell_type": "code",
   "execution_count": 111,
   "metadata": {},
   "outputs": [
    {
     "name": "stdout",
     "output_type": "stream",
     "text": [
      "(arrivalTime: 0.0, departTime: 21.299999999999997, startIndex: 0, endIndex: 5, radius: 0.9642095207992919, location: [0.648, 0.7140000000000001])\n",
      "None\n",
      "(arrivalTime: 42.65, departTime: 59.82, startIndex: 8, endIndex: 11, radius: 0.47601353855629874, location: [1.9033333333333333, 1.7533333333333334])\n",
      "None\n",
      "(arrivalTime: 61.75, departTime: 70.16, startIndex: 12, endIndex: 15, radius: 0.5449566751382882, location: [1.9866666666666666, 2.1100000000000003])\n",
      "None\n",
      "(arrivalTime: 181.77999999999997, departTime: 195.86999999999998, startIndex: 34, endIndex: 36, radius: 0.4190763653560062, location: [9.185000000000002, 10.530000000000001])\n",
      "None\n",
      "(arrivalTime: 233.55999999999997, departTime: 244.63999999999996, startIndex: 43, endIndex: 45, radius: 0.2624880949681345, location: [10.130000000000003, 14.240000000000002])\n",
      "None\n"
     ]
    }
   ],
   "source": [
    "stayPoints2 = SPDA(traj2, distThres=0.5, timeThres=0.5, minPoints=2)\n",
    "for point in stayPoints2: \n",
    "    print(point.toString())"
   ]
  },
  {
   "cell_type": "code",
   "execution_count": 114,
   "metadata": {},
   "outputs": [
    {
     "data": {
      "text/plain": [
       "True"
      ]
     },
     "execution_count": 114,
     "metadata": {},
     "output_type": "execute_result"
    }
   ],
   "source": [
    "stayPoints1[0].arrivalTime > stayPoints2[0].arrivalTime"
   ]
  },
  {
   "cell_type": "code",
   "execution_count": 123,
   "metadata": {},
   "outputs": [
    {
     "name": "stdout",
     "output_type": "stream",
     "text": [
      "(i, j, stayPeriod): (0, 0, [])\n",
      "(i, j, stayPeriod): (1, 0, [])\n",
      "(i, j, stayPeriod): (2, 0, [])\n",
      "(i, j, stayPeriod): (3, 0, [])\n",
      "(i, j, stayPeriod): (4, 0, [])\n"
     ]
    },
    {
     "data": {
      "text/plain": [
       "[]"
      ]
     },
     "execution_count": 123,
     "metadata": {},
     "output_type": "execute_result"
    }
   ],
   "source": [
    "getStayPeriods(stayPoints1, stayPoints2)"
   ]
  },
  {
   "cell_type": "code",
   "execution_count": 125,
   "metadata": {},
   "outputs": [
    {
     "name": "stdout",
     "output_type": "stream",
     "text": [
      "(dist,rad): (252.2289648917465,0.5591263025669805)\n"
     ]
    },
    {
     "data": {
      "text/plain": [
       "[]"
      ]
     },
     "execution_count": 125,
     "metadata": {},
     "output_type": "execute_result"
    }
   ],
   "source": [
    "getStayPeriod(stayPoints1[2], stayPoints2[4])"
   ]
  }
 ],
 "metadata": {
  "kernelspec": {
   "display_name": "Python 3",
   "language": "python",
   "name": "python3"
  },
  "language_info": {
   "codemirror_mode": {
    "name": "ipython",
    "version": 3
   },
   "file_extension": ".py",
   "mimetype": "text/x-python",
   "name": "python",
   "nbconvert_exporter": "python",
   "pygments_lexer": "ipython3",
   "version": "3.7.7"
  }
 },
 "nbformat": 4,
 "nbformat_minor": 2
}
