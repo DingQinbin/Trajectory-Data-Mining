{
 "cells": [
  {
   "cell_type": "code",
   "execution_count": 21,
   "metadata": {},
   "outputs": [],
   "source": [
    "import numpy as np\n",
    "import pandas as pd\n",
    "\n",
    "# libraries for plotting graphs/animations\n",
    "import matplotlib.pyplot as plt\n",
    "from matplotlib.animation import FuncAnimation\n",
    "from matplotlib.collections import CircleCollection, PatchCollection\n",
    "from matplotlib.patches import Circle\n",
    "from matplotlib.widgets import Slider\n",
    "\n",
    "from IPython.display import HTML\n",
    "\n",
    "import time\n",
    "import random\n",
    "from statistics import mean, median\n",
    "from math import sqrt"
   ]
  },
  {
   "cell_type": "code",
   "execution_count": 2,
   "metadata": {},
   "outputs": [],
   "source": [
    "# to enable the matplotlib animation to render on jupyter notebook\n",
    "# !conda install -c conda-forge ffmpeg"
   ]
  },
  {
   "cell_type": "code",
   "execution_count": 3,
   "metadata": {},
   "outputs": [],
   "source": [
    "def genTrajectory(NUM_POINTS = 20):\n",
    "    # randomly generate distance to take for each time step\n",
    "    x_points = np.array([random.randrange(start=-50, stop=100) for i in range(NUM_POINTS)])/100\n",
    "    y_points = np.array([random.randrange(start=-50, stop=100) for i in range(NUM_POINTS)])/100\n",
    "    t_points = np.array([random.randrange(start=0, stop=1000) for i in range(NUM_POINTS)])/100\n",
    "    rad_inacc = np.array([random.randrange(start=0, stop=100) for i in range(NUM_POINTS)])/100\n",
    "    \n",
    "    # trajectory is just a 3D array of latitude, longitude, time\n",
    "    traj = np.zeros(shape=(NUM_POINTS+1,4))\n",
    "\n",
    "    for i in range(1, NUM_POINTS+1):\n",
    "        traj[i,0] = traj[i-1,0] + x_points[i-1]\n",
    "        traj[i,1] = traj[i-1,1] + y_points[i-1]\n",
    "        traj[i,2] = traj[i-1,2] + t_points[i-1]\n",
    "        \n",
    "    traj[0,3] = random.randrange(start=0,stop=100)/100\n",
    "    traj[1:,3] = rad_inacc\n",
    "    \n",
    "    traj = pd.DataFrame(traj)\n",
    "    traj.columns = [\"lon\", \"lat\", \"time\", \"inacc_radius\"]\n",
    "    \n",
    "    return traj"
   ]
  },
  {
   "cell_type": "markdown",
   "metadata": {},
   "source": [
    "# Noise Filtering with mean and median filter"
   ]
  },
  {
   "cell_type": "code",
   "execution_count": 4,
   "metadata": {},
   "outputs": [
    {
     "data": {
      "text/html": [
       "<div>\n",
       "<style scoped>\n",
       "    .dataframe tbody tr th:only-of-type {\n",
       "        vertical-align: middle;\n",
       "    }\n",
       "\n",
       "    .dataframe tbody tr th {\n",
       "        vertical-align: top;\n",
       "    }\n",
       "\n",
       "    .dataframe thead th {\n",
       "        text-align: right;\n",
       "    }\n",
       "</style>\n",
       "<table border=\"1\" class=\"dataframe\">\n",
       "  <thead>\n",
       "    <tr style=\"text-align: right;\">\n",
       "      <th></th>\n",
       "      <th>lon</th>\n",
       "      <th>lat</th>\n",
       "      <th>time</th>\n",
       "      <th>inacc_radius</th>\n",
       "    </tr>\n",
       "  </thead>\n",
       "  <tbody>\n",
       "    <tr>\n",
       "      <th>0</th>\n",
       "      <td>0.00</td>\n",
       "      <td>0.00</td>\n",
       "      <td>0.00</td>\n",
       "      <td>0.45</td>\n",
       "    </tr>\n",
       "    <tr>\n",
       "      <th>1</th>\n",
       "      <td>0.69</td>\n",
       "      <td>-0.46</td>\n",
       "      <td>8.07</td>\n",
       "      <td>0.62</td>\n",
       "    </tr>\n",
       "    <tr>\n",
       "      <th>2</th>\n",
       "      <td>0.87</td>\n",
       "      <td>-0.02</td>\n",
       "      <td>8.35</td>\n",
       "      <td>0.49</td>\n",
       "    </tr>\n",
       "    <tr>\n",
       "      <th>3</th>\n",
       "      <td>0.48</td>\n",
       "      <td>0.59</td>\n",
       "      <td>16.44</td>\n",
       "      <td>0.58</td>\n",
       "    </tr>\n",
       "    <tr>\n",
       "      <th>4</th>\n",
       "      <td>0.66</td>\n",
       "      <td>1.14</td>\n",
       "      <td>17.52</td>\n",
       "      <td>0.74</td>\n",
       "    </tr>\n",
       "  </tbody>\n",
       "</table>\n",
       "</div>"
      ],
      "text/plain": [
       "    lon   lat   time  inacc_radius\n",
       "0  0.00  0.00   0.00          0.45\n",
       "1  0.69 -0.46   8.07          0.62\n",
       "2  0.87 -0.02   8.35          0.49\n",
       "3  0.48  0.59  16.44          0.58\n",
       "4  0.66  1.14  17.52          0.74"
      ]
     },
     "execution_count": 4,
     "metadata": {},
     "output_type": "execute_result"
    }
   ],
   "source": [
    "traj = genTrajectory()\n",
    "traj.head()"
   ]
  },
  {
   "cell_type": "code",
   "execution_count": 5,
   "metadata": {},
   "outputs": [],
   "source": [
    "def filter(traj, index, filter_type, window_size=3):\n",
    "    '''\n",
    "    :param traj: a dataframe representing a series of lat-lon-time data\n",
    "    :param index: the index of the lat-lon that we want to filter/smoothen\n",
    "    :param window_size: the number of lat-lon values proceeding and preceeding the indexed lat-lon to consider\n",
    "    :param filter_type: \"median\" or \"mean\" filter\n",
    "    :return: a 3D array with lat-lon-time, time is unchanged, lat-lon is based on the filter\n",
    "    '''\n",
    "    \n",
    "    # we don't modify the start and endpoint of our trajectory\n",
    "    if index == len(traj)-1:\n",
    "        return traj.iloc[-1,:]\n",
    "    if index == 0:\n",
    "        return traj.iloc[0,:]\n",
    "    \n",
    "    x_coors = []\n",
    "    y_coors = []\n",
    "    \n",
    "    # collect the datapoints within the desired window\n",
    "    for i in range(max(0, index-window_size), min(len(traj), index+window_size+1)):\n",
    "        if i==index:\n",
    "            continue\n",
    "        x_coors.append(traj.lon[i])\n",
    "        y_coors.append(traj.lat[i])\n",
    "        \n",
    "    if filter_type == \"mean\":\n",
    "        return [mean(x_coors), mean(y_coors), traj.time[index]]\n",
    "    elif filter_type == \"median\":\n",
    "        return [median(x_coors), median(y_coors), traj.time[index]]"
   ]
  },
  {
   "cell_type": "markdown",
   "metadata": {},
   "source": [
    "## Some functions to aid in plotting some trajectories and other information"
   ]
  },
  {
   "cell_type": "code",
   "execution_count": 6,
   "metadata": {},
   "outputs": [],
   "source": [
    "def plot_traj(traj):\n",
    "    '''\n",
    "    :param traj: trajectory\n",
    "    :return:\n",
    "    plots the trajectory\n",
    "    '''\n",
    "    plt.figure(figsize=(8,8))\n",
    "    plt.title(\"Trajectory\")\n",
    "    plt.plot(traj.lon, traj.lat, '-bo')\n",
    "    plt.xlabel(\"longitude\")\n",
    "    plt.ylabel(\"latitude\")\n",
    "    \n",
    "def plot_filtered_traj(traj, mean_traj, median_traj, window_size):\n",
    "    '''\n",
    "    :param traj: trajectory\n",
    "    :param mean_traj: trajectory after applying mean filter\n",
    "    :param median_traj: trajectory after applying median filter\n",
    "    :param window_size: window size used in the filters\n",
    "    :return:\n",
    "    plots the mean filtered trajectory and median filtered trajectory side-by-side\n",
    "    '''\n",
    "    fig, axs = plt.subplots(1, 2, figsize=(16,8))\n",
    "    \n",
    "    plt.suptitle(\"Filters of window size \" + str(window_size))\n",
    "    \n",
    "    axs[0].plot(traj.lon, traj.lat, '-bo')\n",
    "    axs[0].plot(mean_traj[:,0], mean_traj[:,1], '--ro')\n",
    "    axs[0].set_title(\"Randomly generated trajectory\\n(mean filtered)\")\n",
    "    axs[0].legend([\"Original trajectory\", \"Mean filtered trajectory\"], loc='best')\n",
    "\n",
    "    axs[1].plot(traj.lon, traj.lat, '-bo')\n",
    "    axs[1].plot(median_traj[:,0], median_traj[:,1], '--ro')\n",
    "    axs[1].set_title(\"Randomly generated trajectory\\n(median filtered)\")\n",
    "    axs[1].legend([\"Original trajectory\", \"Median filtered trajectory\"], loc='best')\n",
    "\n",
    "    for ax in axs.flat:\n",
    "        ax.set(xlabel='longitude', ylabel='latitude')"
   ]
  },
  {
   "cell_type": "markdown",
   "metadata": {},
   "source": [
    "## Comparing the performance of mean filter and median filter"
   ]
  },
  {
   "cell_type": "code",
   "execution_count": 7,
   "metadata": {},
   "outputs": [
    {
     "ename": "IndexError",
     "evalue": "too many indices for array",
     "output_type": "error",
     "traceback": [
      "\u001b[1;31m---------------------------------------------------------------------------\u001b[0m",
      "\u001b[1;31mIndexError\u001b[0m                                Traceback (most recent call last)",
      "\u001b[1;32m<ipython-input-7-2d4b745109aa>\u001b[0m in \u001b[0;36m<module>\u001b[1;34m\u001b[0m\n\u001b[0;32m      2\u001b[0m \u001b[0mmedian_traj\u001b[0m \u001b[1;33m=\u001b[0m \u001b[0mnp\u001b[0m\u001b[1;33m.\u001b[0m\u001b[0marray\u001b[0m\u001b[1;33m(\u001b[0m\u001b[1;33m[\u001b[0m\u001b[0mfilter\u001b[0m\u001b[1;33m(\u001b[0m\u001b[0mtraj\u001b[0m\u001b[1;33m=\u001b[0m\u001b[0mtraj\u001b[0m\u001b[1;33m,\u001b[0m \u001b[0mindex\u001b[0m\u001b[1;33m=\u001b[0m\u001b[0mi\u001b[0m\u001b[1;33m,\u001b[0m \u001b[0mfilter_type\u001b[0m\u001b[1;33m=\u001b[0m\u001b[1;34m\"median\"\u001b[0m\u001b[1;33m)\u001b[0m \u001b[1;32mfor\u001b[0m \u001b[0mi\u001b[0m \u001b[1;32min\u001b[0m \u001b[0mrange\u001b[0m\u001b[1;33m(\u001b[0m\u001b[0mlen\u001b[0m\u001b[1;33m(\u001b[0m\u001b[0mtraj\u001b[0m\u001b[1;33m)\u001b[0m\u001b[1;33m)\u001b[0m\u001b[1;33m]\u001b[0m\u001b[1;33m)\u001b[0m\u001b[1;33m\u001b[0m\u001b[1;33m\u001b[0m\u001b[0m\n\u001b[0;32m      3\u001b[0m \u001b[1;33m\u001b[0m\u001b[0m\n\u001b[1;32m----> 4\u001b[1;33m \u001b[0mplot_filtered_traj\u001b[0m\u001b[1;33m(\u001b[0m\u001b[0mtraj\u001b[0m\u001b[1;33m,\u001b[0m \u001b[0mmean_traj\u001b[0m\u001b[1;33m,\u001b[0m \u001b[0mmedian_traj\u001b[0m\u001b[1;33m,\u001b[0m \u001b[1;36m3\u001b[0m\u001b[1;33m)\u001b[0m\u001b[1;33m\u001b[0m\u001b[1;33m\u001b[0m\u001b[0m\n\u001b[0m",
      "\u001b[1;32m<ipython-input-6-892e26cdd4cf>\u001b[0m in \u001b[0;36mplot_filtered_traj\u001b[1;34m(traj, mean_traj, median_traj, window_size)\u001b[0m\n\u001b[0;32m     25\u001b[0m \u001b[1;33m\u001b[0m\u001b[0m\n\u001b[0;32m     26\u001b[0m     \u001b[0maxs\u001b[0m\u001b[1;33m[\u001b[0m\u001b[1;36m0\u001b[0m\u001b[1;33m]\u001b[0m\u001b[1;33m.\u001b[0m\u001b[0mplot\u001b[0m\u001b[1;33m(\u001b[0m\u001b[0mtraj\u001b[0m\u001b[1;33m.\u001b[0m\u001b[0mlon\u001b[0m\u001b[1;33m,\u001b[0m \u001b[0mtraj\u001b[0m\u001b[1;33m.\u001b[0m\u001b[0mlat\u001b[0m\u001b[1;33m,\u001b[0m \u001b[1;34m'-bo'\u001b[0m\u001b[1;33m)\u001b[0m\u001b[1;33m\u001b[0m\u001b[1;33m\u001b[0m\u001b[0m\n\u001b[1;32m---> 27\u001b[1;33m     \u001b[0maxs\u001b[0m\u001b[1;33m[\u001b[0m\u001b[1;36m0\u001b[0m\u001b[1;33m]\u001b[0m\u001b[1;33m.\u001b[0m\u001b[0mplot\u001b[0m\u001b[1;33m(\u001b[0m\u001b[0mmean_traj\u001b[0m\u001b[1;33m[\u001b[0m\u001b[1;33m:\u001b[0m\u001b[1;33m,\u001b[0m\u001b[1;36m0\u001b[0m\u001b[1;33m]\u001b[0m\u001b[1;33m,\u001b[0m \u001b[0mmean_traj\u001b[0m\u001b[1;33m[\u001b[0m\u001b[1;33m:\u001b[0m\u001b[1;33m,\u001b[0m\u001b[1;36m1\u001b[0m\u001b[1;33m]\u001b[0m\u001b[1;33m,\u001b[0m \u001b[1;34m'--ro'\u001b[0m\u001b[1;33m)\u001b[0m\u001b[1;33m\u001b[0m\u001b[1;33m\u001b[0m\u001b[0m\n\u001b[0m\u001b[0;32m     28\u001b[0m     \u001b[0maxs\u001b[0m\u001b[1;33m[\u001b[0m\u001b[1;36m0\u001b[0m\u001b[1;33m]\u001b[0m\u001b[1;33m.\u001b[0m\u001b[0mset_title\u001b[0m\u001b[1;33m(\u001b[0m\u001b[1;34m\"Randomly generated trajectory\\n(mean filtered)\"\u001b[0m\u001b[1;33m)\u001b[0m\u001b[1;33m\u001b[0m\u001b[1;33m\u001b[0m\u001b[0m\n\u001b[0;32m     29\u001b[0m     \u001b[0maxs\u001b[0m\u001b[1;33m[\u001b[0m\u001b[1;36m0\u001b[0m\u001b[1;33m]\u001b[0m\u001b[1;33m.\u001b[0m\u001b[0mlegend\u001b[0m\u001b[1;33m(\u001b[0m\u001b[1;33m[\u001b[0m\u001b[1;34m\"Original trajectory\"\u001b[0m\u001b[1;33m,\u001b[0m \u001b[1;34m\"Mean filtered trajectory\"\u001b[0m\u001b[1;33m]\u001b[0m\u001b[1;33m,\u001b[0m \u001b[0mloc\u001b[0m\u001b[1;33m=\u001b[0m\u001b[1;34m'best'\u001b[0m\u001b[1;33m)\u001b[0m\u001b[1;33m\u001b[0m\u001b[1;33m\u001b[0m\u001b[0m\n",
      "\u001b[1;31mIndexError\u001b[0m: too many indices for array"
     ]
    },
    {
     "data": {
      "image/png": "[encoded data removed]",
      "text/plain": [
       "<Figure size 1152x576 with 2 Axes>"
      ]
     },
     "metadata": {
      "needs_background": "light"
     },
     "output_type": "display_data"
    }
   ],
   "source": [
    "mean_traj = np.array([filter(traj=traj, index=i, filter_type=\"mean\") for i in range(len(traj))])\n",
    "median_traj = np.array([filter(traj=traj, index=i, filter_type=\"median\") for i in range(len(traj))])\n",
    "\n",
    "plot_filtered_traj(traj, mean_traj, median_traj, window_size=3)"
   ]
  },
  {
   "cell_type": "code",
   "execution_count": null,
   "metadata": {},
   "outputs": [],
   "source": [
    "mean_traj = np.array([filter(traj=traj, index=i, window_size=5, filter_type=\"mean\") for i in range(len(traj))])\n",
    "median_traj = np.array([filter(traj=traj, index=i, window_size=5, filter_type=\"median\") for i in range(len(traj))])\n",
    "\n",
    "plot_filtered_traj(traj, mean_traj, median_traj, 5)"
   ]
  },
  {
   "cell_type": "markdown",
   "metadata": {},
   "source": [
    "# Stay Point Detection Algorithm"
   ]
  },
  {
   "cell_type": "code",
   "execution_count": null,
   "metadata": {},
   "outputs": [],
   "source": [
    "class stayPoint:\n",
    "    def __init__(self, arrivalTime, departTime, startIndex, endIndex, radius, location):\n",
    "        self.arrivalTime = arrivalTime\n",
    "        self.departTime = departTime\n",
    "        self.radius = radius\n",
    "        self.startIndex = startIndex\n",
    "        self.endIndex = endIndex\n",
    "        self.location = location\n",
    "        \n",
    "    def toString(self):\n",
    "        print(f\"({self.arrivalTime},{self.departTime},{self.startIndex},{self.endIndex},{self.radius},{self.location})\")"
   ]
  },
  {
   "cell_type": "code",
   "execution_count": null,
   "metadata": {},
   "outputs": [],
   "source": [
    "def SPDA(traj, distThres, timeThres, minPoints):\n",
    "    '''\n",
    "    :param traj: a trajectory\n",
    "    :param distThres: a threshold of the distance\n",
    "    :param timeThres: a threshold of the time\n",
    "    :param minPoints: the minimum no. of points required in a stay-point region\n",
    "    :output: a set of stay-points\n",
    "    '''\n",
    "    def distance(pointA, pointB):\n",
    "        '''\n",
    "        :param pointA: a point with lat and lon variables\n",
    "        :param pointB: a point with lat and lon variables\n",
    "        :return: the distance between pointA and pointB calculated by Pythagoras Theorem\n",
    "        '''\n",
    "        return sqrt((pointA.lon - pointB.lon)**2 + (pointA.lat - pointB.lat)**2)\n",
    "    \n",
    "    def getCentroid(points, centroid_type):\n",
    "        '''\n",
    "        :param points: a list of points with lat and lon variables\n",
    "        :param centroid_type: \"median\" or \"mean\"\n",
    "        :return: the centre of the list of points, calculated by centroid_type function\n",
    "        '''\n",
    "        print(\"centroid points:\\n\", points)\n",
    "        if centroid_type == \"median\":\n",
    "            return [median(points.loc[:,\"lon\"]), median(points.loc[:,\"lat\"])]\n",
    "        elif centroid_type == \"mean\":\n",
    "            return [mean(points.loc[:,\"lon\"]), mean(points.loc[:,\"lat\"])]\n",
    "        \n",
    "    def getRadius(points, center):\n",
    "        '''\n",
    "        :param points: a list of points with variables lat and lon\n",
    "        :param center: center of the desired circle\n",
    "        :return: radius. The circle with radius and center will cover all points\n",
    "        '''\n",
    "        points = points.reset_index()\n",
    "        distDiff = []\n",
    "        for i in range(len(points)):\n",
    "            distDiff.append(sqrt((points.lon[i] - center[0])**2 + (points.lat[i] - center[1])**2))\n",
    "        \n",
    "        return max(distDiff)\n",
    "        \n",
    "    i = 0\n",
    "    pointNum = len(traj)\n",
    "    stayPoints = []\n",
    "    \n",
    "    while i < pointNum:\n",
    "        j = i+1\n",
    "        token = 0\n",
    "        while j < pointNum:\n",
    "            dist = distance(traj.iloc[j,:], traj.iloc[i,:])\n",
    "            if dist < distThres:\n",
    "                timeDiff = traj.time[j] - traj.time[i]\n",
    "                if timeDiff > timeThres and j >= i+minPoints:\n",
    "                    centroid = getCentroid(traj.loc[i:j,:], \"mean\")\n",
    "                    radius = getRadius(traj.loc[i:j,:], centroid)\n",
    "                    print(i,j)\n",
    "                    stayPoints.append(\n",
    "                        stayPoint(\n",
    "                            arrivalTime = traj.time[i], \n",
    "                            departTime = traj.time[j], \n",
    "                            startIndex = i,\n",
    "                            endIndex = j,\n",
    "                            radius = radius,\n",
    "                            location = centroid\n",
    "                        )\n",
    "                    )\n",
    "                    \n",
    "                    i = j\n",
    "                    token = 1\n",
    "                break\n",
    "            j += 1\n",
    "            \n",
    "        if token != 1:\n",
    "            i += 1\n",
    "            \n",
    "    return stayPoints"
   ]
  },
  {
   "cell_type": "code",
   "execution_count": null,
   "metadata": {},
   "outputs": [],
   "source": [
    "stayPoints = SPDA(traj, 0.5, 0.5, 2)"
   ]
  },
  {
   "cell_type": "code",
   "execution_count": null,
   "metadata": {},
   "outputs": [],
   "source": [
    "# arrivalTime, departTime, startIndex, endIndex, radius, location\n",
    "\n",
    "for stayPoint in stayPoints:\n",
    "    stayPoint.toString()"
   ]
  },
  {
   "cell_type": "code",
   "execution_count": null,
   "metadata": {},
   "outputs": [],
   "source": [
    "plt.figure(figsize=(10,10))\n",
    "ax = plt.gca()\n",
    "\n",
    "for point in stayPoints:\n",
    "    plt.plot([point.location[0]], [point.location[1]], 'ro')\n",
    "    draw_circle = plt.Circle((point.location[0], point.location[1]), point.radius, fill=False, color='r')\n",
    "    ax.add_artist(draw_circle)\n",
    "\n",
    "plt.title('Trajectory and Stay points')\n",
    "plt.plot(traj.lon, traj.lat, '-bo')\n",
    "ax.set_aspect(1.0)  # make aspect ratio square\n",
    "\n",
    "plt.show()"
   ]
  }
 ],
 "metadata": {
  "kernelspec": {
   "display_name": "Python 3",
   "language": "python",
   "name": "python3"
  },
  "language_info": {
   "codemirror_mode": {
    "name": "ipython",
    "version": 3
   },
   "file_extension": ".py",
   "mimetype": "text/x-python",
   "name": "python",
   "nbconvert_exporter": "python",
   "pygments_lexer": "ipython3",
   "version": "3.6.8"
  }
 },
 "nbformat": 4,
 "nbformat_minor": 2
}
