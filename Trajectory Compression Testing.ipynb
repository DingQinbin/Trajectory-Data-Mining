{
 "cells": [
  {
   "cell_type": "markdown",
   "metadata": {},
   "source": [
    "# Trajectory Compression"
   ]
  },
  {
   "cell_type": "markdown",
   "metadata": {},
   "source": [
    "**Context**: When the number of geolocation datapoints get too large (typically 50,000 datapoints), data visualisation becomes a challenge. To overcome this challenge, we look at ways to select a meaningful set of points to plot from a given trajectory.\n",
    "\n",
    "Note: Many trajectory compression algorithms implemented in C++ can be found in: https://github.com/uestc-db/traj-compression"
   ]
  },
  {
   "cell_type": "code",
   "execution_count": 2,
   "metadata": {},
   "outputs": [],
   "source": [
    "import pandas as pd\n",
    "import numpy as np\n",
    "from math import atan"
   ]
  },
  {
   "cell_type": "markdown",
   "metadata": {},
   "source": [
    "Some auxiliary functions to support threshold algorithm"
   ]
  },
  {
   "cell_type": "code",
   "execution_count": 7,
   "metadata": {},
   "outputs": [],
   "source": [
    "class Point:\n",
    "    def __init__(self, lat, lon, time):\n",
    "        self.lat = lat\n",
    "        self.lon = lon\n",
    "        self.time = time\n",
    "        \n",
    "    def repr(self):\n",
    "        print(f\"lat: {self.lat}, lon: {self.lon}, time: {self.time}\")"
   ]
  },
  {
   "cell_type": "code",
   "execution_count": 16,
   "metadata": {},
   "outputs": [],
   "source": [
    "def haversine(lon1, lat1, lon2, lat2):\n",
    "    \"\"\"\n",
    "    Calculate the great circle distance (in metres) between two points on the earth (specified in decimal degrees)\n",
    "    \n",
    "    :param lon1: longitude of point 1\n",
    "    :param lat1: longitude of point 1\n",
    "    :param lon2: longitude of point 2\n",
    "    :param lat2: longitude of point 2\n",
    "    :return: the distance between (lon1, lat1) and (lon2, lat2), in metres\n",
    "    \"\"\"\n",
    "    # convert decimal degrees to radians \n",
    "    lon1, lat1, lon2, lat2 = map(radians, [lon1, lat1, lon2, lat2])\n",
    "\n",
    "    # haversine formula \n",
    "    dlon = lon2 - lon1 \n",
    "    dlat = lat2 - lat1 \n",
    "    a = sin(dlat/2)**2 + cos(lat1) * cos(lat2) * sin(dlon/2)**2\n",
    "    c = 2 * asin(sqrt(a)) \n",
    "    r = 6378.1 # Radius of earth in kilometers. Use 3956 for miles\n",
    "    return c * r * 1000\n",
    "\n",
    "def calc_angle(lon1, lat1, lon2, lat2):\n",
    "    dlon = lon2 - lon1\n",
    "    dlat = lat2 - lat1\n",
    "    \n",
    "    if dlat != 0:\n",
    "        return atan(dlon/dlat)\n",
    "    else:\n",
    "        print(\"lat didn't change\")\n",
    "        return 0\n",
    "    \n",
    "def cacl_speed(a, b):\n",
    "    return haversine(a.lon, a.lat, b.lon, b.lat) / abs(a.time - b.time)\n",
    "\n",
    "def safe_speed(sample_prev2, sample_prev1, point_prev2, point_prev1, point_curr,\n",
    "               speed_threshold):\n",
    "    sample_speed = cacl_speed(sample_prev2, sample_prev1)\n",
    "    trajectory_speed = cacl_speed(point_c, point_d)\n",
    "    de_speed = cacl_speed(point_d,point_e)\n",
    "    \n",
    "    if abs(sample_speed - de_speed) > speed_threshold or abs(trajectory_speed - de_speed) > speed_threshold:\n",
    "        return False\n",
    "    else:\n",
    "        return True\n",
    "    \n",
    "def safe_orientation(sample_b, sample_c, point_c, point_d, point_e,\n",
    "                     ori_threshold):\n",
    "    angle_sample_bc = cacl_angle(sample_b, sample_c)\n",
    "    angle_de = cacl_angle(point_d, point_e)\n",
    "    angle_sample_bc_de = angle_de - angle_sample_bc\n",
    "    angle_trajectory_cd = cacl_angle(point_c, point_d)\n",
    "    angle_trajectory_cd_de = angle_de - angle_trajectory_cd\n",
    "\n",
    "    if (abs(angle_sample_bc_de) > ori_threshold) or (abs(angle_trajectory_cd_de) > ori_threshold):\n",
    "        return False\n",
    "    else:\n",
    "        return True"
   ]
  },
  {
   "cell_type": "code",
   "execution_count": 5,
   "metadata": {},
   "outputs": [],
   "source": [
    "def threshold(speedThres, directionThres, df):\n",
    "    sampledPoints = pd.DataFrame(columns=[\"time\", \"lat\", \"lon\", \"ori_index\"])\n",
    "    \n",
    "    sampledPoints.loc[0, :] = [df.time[0], df.lat[0], df.lon[0], 0]\n",
    "    sampledPoints.loc[1, :] = [df.time[1], df.lat[1], df.lon[1], 1]\n",
    "    \n",
    "    for i in range(2, df.shape[0]):\n",
    "        if (safe_speed() and\\ \n",
    "            safe_or)"
   ]
  },
  {
   "cell_type": "code",
   "execution_count": null,
   "metadata": {},
   "outputs": [],
   "source": [
    "def thresholdOriginal(speedThres, directionThres):\n",
    "    '''\n",
    "    :param speedThres: \n",
    "    :param directionThres: \n",
    "    '''\n",
    "    def isInRing(center, smallRadius, largeRadius, point):\n",
    "        '''\n",
    "        :return True: if the point `point` falls within the ring formed by 2 concentric circles with center `center` \n",
    "            and radii `smallRadius` and `largeRadius`\n",
    "        :return False:\n",
    "        '''\n",
    "        temp = (point[0]-center[0])**2 + (point[1]-center[1])**2\n",
    "        if  smallRadius**2 <= temp and temp <= largeRadius**2:\n",
    "            return True\n",
    "        else:\n",
    "            return False\n",
    "    def isInSector(center, slope1, slope2, point):\n",
    "        \n",
    "        return True\n",
    "    \n",
    "        return False\n",
    "    \n",
    "    def isInSafeArea(nextPoint, previousPoints):\n",
    "        \n",
    "        return True\n",
    "        \n",
    "        return False"
   ]
  },
  {
   "cell_type": "code",
   "execution_count": null,
   "metadata": {},
   "outputs": [],
   "source": [
    "def thresholdOriginal"
   ]
  },
  {
   "cell_type": "code",
   "execution_count": null,
   "metadata": {},
   "outputs": [],
   "source": []
  },
  {
   "cell_type": "code",
   "execution_count": null,
   "metadata": {},
   "outputs": [],
   "source": []
  },
  {
   "cell_type": "code",
   "execution_count": null,
   "metadata": {},
   "outputs": [],
   "source": []
  },
  {
   "cell_type": "code",
   "execution_count": null,
   "metadata": {},
   "outputs": [],
   "source": []
  },
  {
   "cell_type": "code",
   "execution_count": null,
   "metadata": {},
   "outputs": [],
   "source": []
  }
 ],
 "metadata": {
  "kernelspec": {
   "display_name": "Python 3",
   "language": "python",
   "name": "python3"
  },
  "language_info": {
   "codemirror_mode": {
    "name": "ipython",
    "version": 3
   },
   "file_extension": ".py",
   "mimetype": "text/x-python",
   "name": "python",
   "nbconvert_exporter": "python",
   "pygments_lexer": "ipython3",
   "version": "3.7.7"
  }
 },
 "nbformat": 4,
 "nbformat_minor": 4
}
